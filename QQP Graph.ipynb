{
 "cells": [
  {
   "cell_type": "code",
   "execution_count": 10,
   "metadata": {},
   "outputs": [],
   "source": [
    "import csv\n",
    "import json\n",
    "import copy\n",
    "import string\n",
    "import random\n",
    "from tqdm.auto import tqdm\n",
    "from itertools import combinations, product\n",
    "\n",
    "import networkx as nx\n",
    "import plotly.express as px\n",
    "from plotly.graph_objs import *"
   ]
  },
  {
   "cell_type": "code",
   "execution_count": 2,
   "metadata": {},
   "outputs": [],
   "source": [
    "class InputExample(object):\n",
    "    def __init__(self, text_a, text_b, label):\n",
    "        self.text_a = text_a\n",
    "        self.text_b = text_b\n",
    "        self.label = label\n",
    "        \n",
    "    def __repr__(self):\n",
    "        return str(self.to_json_string())\n",
    "    \n",
    "    def to_dict(self):\n",
    "        \"\"\"Serializes this instance to a Python dictionary.\"\"\"\n",
    "        output = copy.deepcopy(self.__dict__)\n",
    "        return output\n",
    "\n",
    "    def to_json_string(self):\n",
    "        \"\"\"Serializes this instance to a JSON string.\"\"\"\n",
    "        return json.dumps(self.to_dict(), indent=2, sort_keys=True) + \"\\n\"\n",
    "\n",
    "    \n",
    "def read_examples(filename):\n",
    "    examples = []\n",
    "        \n",
    "    with open(filename) as f:\n",
    "        csv_reader = csv.reader(f, delimiter='\\t')\n",
    "        for i, row in enumerate(csv_reader):\n",
    "            if i == 0:\n",
    "                continue\n",
    "\n",
    "            q1 = row[0]\n",
    "            q2 = row[1]\n",
    "            label = row[2]\n",
    "\n",
    "            examples.append(InputExample(q1, q2, label))\n",
    "            \n",
    "    return examples"
   ]
  },
  {
   "cell_type": "code",
   "execution_count": 351,
   "metadata": {},
   "outputs": [],
   "source": [
    "def dataset_statistics(filename):\n",
    "    examples = read_examples(filename)\n",
    "    \n",
    "    paraphrase_count = sum([1 for e in examples if e.label == '1'])\n",
    "    non_paraphrase_count = sum([1 for e in examples if e.label == '0'])\n",
    "    return paraphrase_count, non_paraphrase_count"
   ]
  },
  {
   "cell_type": "code",
   "execution_count": 371,
   "metadata": {},
   "outputs": [],
   "source": [
    "examples = read_examples('data/train.tsv')\n",
    "\n",
    "G = nx.Graph()\n",
    "\n",
    "for e in examples:\n",
    "    G.add_edge(e.text_a, e.text_b, is_duplicate=int(e.label))"
   ]
  },
  {
   "cell_type": "code",
   "execution_count": 558,
   "metadata": {},
   "outputs": [],
   "source": [
    "subgraphs = []\n",
    "\n",
    "for nodes in nx.connected_components(G):\n",
    "    if len(nodes) < 4 or len(nodes) > 7:\n",
    "        continue\n",
    "        \n",
    "    graph = G.subgraph(nodes)\n",
    "    edge_labels = [e[2]['is_duplicate'] for e in graph.edges(data=True)]\n",
    "    type_of_edges = set(edge_labels)\n",
    "    `\n",
    "    if len(type_of_edges) == 1:\n",
    "        continue\n",
    "    if sum(edge_labels) < 3:\n",
    "        continue\n",
    "        \n",
    "    groups, group_attr = find_groups(graph)\n",
    "    flag = False\n",
    "    for n in groups.values():\n",
    "        if len(n) == 1:\n",
    "            flag = True\n",
    "            break\n",
    "    if flag:\n",
    "        continue\n",
    "    \n",
    "    subgraphs.append(graph)"
   ]
  },
  {
   "cell_type": "code",
   "execution_count": 784,
   "metadata": {},
   "outputs": [],
   "source": [
    "import string\n",
    "import matplotlib.pyplot as plt\n",
    "\n",
    "\n",
    "def find_groups(graph):\n",
    "    groups = {}\n",
    "    group_attr = {}\n",
    "    g = graph.copy()\n",
    "    \n",
    "    for u, v, d in graph.edges(data=True):\n",
    "        if d['is_duplicate'] == 0:\n",
    "            g.remove_edge(u,v)\n",
    "    \n",
    "    for i, nodes in enumerate(nx.connected_components(g)):\n",
    "        groups[i] = list(nodes)\n",
    "        group_attr.update({n: {'group': i} for n in nodes})\n",
    "        \n",
    "    return groups, group_attr\n",
    "\n",
    "def plot_graph(graph, pos):\n",
    "    pos_edges = [(u, v) for (u, v, d) in graph.edges(data=True) if d['is_duplicate'] == 1]\n",
    "    neg_edges = [(u, v) for (u, v, d) in graph.edges(data=True) if d['is_duplicate'] == 0]\n",
    "\n",
    "#     pos = nx.spring_layout(graph)  # positions for all nodes\n",
    "\n",
    "    # nodes\n",
    "    nx.draw_networkx_nodes(graph, pos, node_color='white', \n",
    "                           edgecolors=['black' for _ in range(graph.number_of_nodes())], \n",
    "                           label=None)\n",
    "\n",
    "    # edges\n",
    "    nx.draw_networkx_edges(graph, pos, edgelist=pos_edges, label='paraphrase')\n",
    "    nx.draw_networkx_edges(graph, pos, edgelist=neg_edges, style='dashed', label='non-paraphrase')\n",
    "    \n",
    "    labels = {node: label for node, label in zip(graph.nodes(), string.ascii_uppercase[:len(graph.nodes())])}\n",
    "    \n",
    "    for n, x in labels.items():\n",
    "        print('{}: {}'.format(x, n))\n",
    "        \n",
    "    # labels\n",
    "    nx.draw_networkx_labels(graph, pos, labels=labels, loc='best')\n",
    "    plt.legend(bbox_to_anchor=(1.05, 1.0), loc='upper left')\n",
    "    plt.tight_layout()\n",
    "\n",
    "\n",
    "def plot_inferred_graph(graph):\n",
    "    \n",
    "    pos_edges = [(u, v) for (u, v, d) in graph.edges(data=True) if 'is_duplicate' in d and d['is_duplicate'] == 1]\n",
    "    neg_edges = [(u, v) for (u, v, d) in graph.edges(data=True) if 'is_duplicate' in d and d['is_duplicate'] == 0]\n",
    "    \n",
    "    \n",
    "    groups, group_attr = find_groups(graph)\n",
    "    nx.set_node_attributes(graph, group_attr)\n",
    "    \n",
    "    inferred_edges = []\n",
    "    for nodes in groups.values():\n",
    "        inferred_edges.extend([(x, y, 1) for x, y in combinations(nodes, 2)])\n",
    "        \n",
    "    non_paraphrase_groups = set()\n",
    "    for u, v, d in graph.edges(data=True):\n",
    "        if d['is_duplicate'] == 1:\n",
    "            continue\n",
    "        \n",
    "        if u not in group_attr or v not in group_attr:\n",
    "            continue\n",
    "        group_1 = group_attr[u]['group']\n",
    "        group_2 = group_attr[v]['group']\n",
    "        if group_1 != group_2:\n",
    "            non_paraphrase_groups.add(tuple(sorted([group_1, group_2])))\n",
    "            \n",
    "    for g1, g2 in non_paraphrase_groups:\n",
    "        inferred_edges.extend([(x, y, 0) for x, y in list(product(groups[g1], groups[g2]))])\n",
    "    \n",
    "    remove = []\n",
    "    for u, v, d in inferred_edges:\n",
    "        if graph.has_edge(u,v):\n",
    "            remove.append((u,v,d))\n",
    "    \n",
    "    inferred_edges = [x for x in inferred_edges if x not in remove]\n",
    "    \n",
    "    new_graph = graph.copy()\n",
    "    \n",
    "    for x, y, label in inferred_edges:\n",
    "        new_graph.add_edge(x, y, is_duplicate=label)\n",
    "        \n",
    "    pos = nx.spring_layout(new_graph)\n",
    "\n",
    "    # nodes\n",
    "    nx.draw_networkx_nodes(new_graph, pos, node_color='white', \n",
    "                           edgecolors=['black' for _ in range(graph.number_of_nodes())], \n",
    "                           label=None)\n",
    "\n",
    "    # edges\n",
    "    nx.draw_networkx_edges(new_graph, pos, edgelist=pos_edges, label='paraphrase')\n",
    "    nx.draw_networkx_edges(new_graph, pos, edgelist=neg_edges, style='dashed', label='non-paraphrase')\n",
    "\n",
    "    infer_pos = [(u, v) for (u, v, d) in inferred_edges if d == 1]\n",
    "    infer_neg = [(u, v) for (u, v, d) in inferred_edges if d == 0]\n",
    "    \n",
    "    if len(infer_pos) > 0:\n",
    "        nx.draw_networkx_edges(new_graph, pos, edgelist=infer_pos, \n",
    "                               label='inferred paraphrase', edge_color='blue')\n",
    "    if len(infer_neg) > 0:\n",
    "        nx.draw_networkx_edges(new_graph, pos, edgelist=infer_neg, style='dashed', \n",
    "                               label='inferred non-paraphrase', edge_color='blue')\n",
    "\n",
    "    labels = {node: label for node, label in zip(new_graph.nodes(), string.ascii_uppercase[:len(new_graph.nodes())])}\n",
    "\n",
    "    for n, x in labels.items():\n",
    "        print('{}: {}'.format(x, n))\n",
    "\n",
    "    # labels\n",
    "    nx.draw_networkx_labels(new_graph, pos, labels=labels, loc='best')\n",
    "#     plt.legend(bbox_to_anchor=(1.05, 1.0), loc='upper left')\n",
    "#     plt.tight_layout()\n",
    "    return pos"
   ]
  },
  {
   "cell_type": "code",
   "execution_count": 780,
   "metadata": {},
   "outputs": [
    {
     "name": "stdout",
     "output_type": "stream",
     "text": [
      "A: What does it feel like to become famous on Quora?\n",
      "B: How do I become famous on Quora?\n",
      "C: What is the best way to be famous on Quora?\n",
      "D: What is it like to be famous on Quora?\n",
      "E: What is it like to be popular on Quora?\n",
      "F: What does it feel like to be famous on Quora?\n"
     ]
    },
    {
     "data": {
      "image/png": "[encoded data removed]",
      "text/plain": [
       "<Figure size 432x288 with 1 Axes>"
      ]
     },
     "metadata": {},
     "output_type": "display_data"
    }
   ],
   "source": [
    "index = 102\n",
    "pos = plot_inferred_graph(subgraphs[index])"
   ]
  },
  {
   "cell_type": "code",
   "execution_count": 785,
   "metadata": {},
   "outputs": [
    {
     "name": "stdout",
     "output_type": "stream",
     "text": [
      "A: What does it feel like to become famous on Quora?\n",
      "B: How do I become famous on Quora?\n",
      "C: What is the best way to be famous on Quora?\n",
      "D: What is it like to be famous on Quora?\n",
      "E: What is it like to be popular on Quora?\n",
      "F: What does it feel like to be famous on Quora?\n"
     ]
    },
    {
     "data": {
      "image/png": "[encoded data removed]",
      "text/plain": [
       "<Figure size 432x288 with 1 Axes>"
      ]
     },
     "metadata": {},
     "output_type": "display_data"
    }
   ],
   "source": [
    "plot_graph(subgraphs[index], pos)"
   ]
  },
  {
   "cell_type": "code",
   "execution_count": 731,
   "metadata": {},
   "outputs": [
    {
     "name": "stdout",
     "output_type": "stream",
     "text": [
      "A: Does life exits on mars?\n",
      "B: Is there life on Mars?\n",
      "C: Is life possible in Mars?\n",
      "D: Do you think there is life on Mars?\n",
      "E: Is there any life in Mars?\n"
     ]
    },
    {
     "data": {
      "image/png": "[encoded data removed]",
      "text/plain": [
       "<Figure size 432x288 with 1 Axes>"
      ]
     },
     "metadata": {},
     "output_type": "display_data"
    }
   ],
   "source": [
    "index = 63\n",
    "pos = plot_inferred_graph(subgraphs[index])"
   ]
  },
  {
   "cell_type": "code",
   "execution_count": 732,
   "metadata": {},
   "outputs": [
    {
     "name": "stdout",
     "output_type": "stream",
     "text": [
      "A: Does life exits on mars?\n",
      "B: Is there life on Mars?\n",
      "C: Is life possible in Mars?\n",
      "D: Do you think there is life on Mars?\n",
      "E: Is there any life in Mars?\n"
     ]
    },
    {
     "data": {
      "image/png": "[encoded data removed]",
      "text/plain": [
       "<Figure size 432x288 with 1 Axes>"
      ]
     },
     "metadata": {},
     "output_type": "display_data"
    }
   ],
   "source": [
    "plot_graph(subgraphs[index], pos)"
   ]
  },
  {
   "cell_type": "code",
   "execution_count": 707,
   "metadata": {},
   "outputs": [
    {
     "name": "stdout",
     "output_type": "stream",
     "text": [
      "A: What was the funniest story you have heard?\n",
      "B: What's the funniest story you've ever heard?\n",
      "C: What is the scariest story you have ever heard?\n",
      "D: What was the scariest story you ever heard?\n",
      "E: What is the funniest story you ever heard?\n",
      "F: What is the scariest you have ever heard or read?\n"
     ]
    },
    {
     "data": {
      "image/png": "[encoded data removed]",
      "text/plain": [
       "<Figure size 432x288 with 1 Axes>"
      ]
     },
     "metadata": {},
     "output_type": "display_data"
    }
   ],
   "source": [
    "index = 42\n",
    "pos = plot_inferred_graph(subgraphs[index])"
   ]
  },
  {
   "cell_type": "code",
   "execution_count": 708,
   "metadata": {},
   "outputs": [
    {
     "name": "stdout",
     "output_type": "stream",
     "text": [
      "A: What was the funniest story you have heard?\n",
      "B: What's the funniest story you've ever heard?\n",
      "C: What is the scariest story you have ever heard?\n",
      "D: What was the scariest story you ever heard?\n",
      "E: What is the funniest story you ever heard?\n",
      "F: What is the scariest you have ever heard or read?\n"
     ]
    },
    {
     "data": {
      "image/png": "[encoded data removed]",
      "text/plain": [
       "<Figure size 432x288 with 1 Axes>"
      ]
     },
     "metadata": {},
     "output_type": "display_data"
    }
   ],
   "source": [
    "plot_graph(subgraphs[index], pos)"
   ]
  },
  {
   "cell_type": "code",
   "execution_count": 143,
   "metadata": {},
   "outputs": [],
   "source": [
    "examples = read_examples('data/train.tsv')\n",
    "\n",
    "# Find paraphrase clusters\n",
    "\n",
    "g = nx.Graph()\n",
    "\n",
    "for e in examples:\n",
    "    if e.label == '1':\n",
    "        g.add_edge(e.text_a, e.text_b)\n",
    "        \n",
    "group_attr = {}\n",
    "\n",
    "for i, nodes in enumerate(nx.connected_components(g)):\n",
    "    group_attr.update({n: {'group': i} for n in nodes})"
   ]
  },
  {
   "cell_type": "code",
   "execution_count": 144,
   "metadata": {},
   "outputs": [],
   "source": [
    "G = nx.Graph()\n",
    "\n",
    "for e in examples:\n",
    "    G.add_edge(e.text_a, e.text_b, is_duplicate=int(e.label))\n",
    "    \n",
    "nx.set_node_attributes(G, group_attr)\n",
    "\n",
    "\n",
    "nodes_to_remove = []\n",
    "\n",
    "for n in G.nodes():\n",
    "    edges = G.edges(n, data=True)\n",
    "    type_of_edges = set([e[2]['is_duplicate'] for e in edges])\n",
    "    \n",
    "    # Remove nodes that only have non-paraphrase edges\n",
    "    if len(type_of_edges) == 1 and type_of_edges.pop() == 0:\n",
    "        nodes_to_remove.append(n)\n",
    "        \n",
    "G.remove_nodes_from(nodes_to_remove)"
   ]
  },
  {
   "cell_type": "code",
   "execution_count": 145,
   "metadata": {},
   "outputs": [],
   "source": [
    "subgraphs = []\n",
    "\n",
    "for nodes in nx.connected_components(G):\n",
    "    graph = G.subgraph(nodes)\n",
    "    type_of_edges = set([e[2]['is_duplicate'] for e in graph.edges(data=True)])\n",
    "    \n",
    "    # We only consider the subgraphs with both paraphrases and non-paraphrases\n",
    "    if len(type_of_edges) == 2:\n",
    "        subgraphs.append(graph)"
   ]
  },
  {
   "cell_type": "code",
   "execution_count": 7,
   "metadata": {},
   "outputs": [],
   "source": [
    "def find_unbalance(graph):\n",
    "    # Find mislabled edges (non-paraphrase edges within the paraphrase cluster)\n",
    "    \n",
    "    mislabeled_edges = []\n",
    "    for n, attr in graph.nodes(data=True):\n",
    "        if 'group' not in attr:\n",
    "            continue\n",
    "            \n",
    "        edges = graph.edges(n, data=True)\n",
    "        \n",
    "        type_of_edges = set([e[2]['is_duplicate'] for e in edges])\n",
    "        if len(type_of_edges) == 1:\n",
    "            continue\n",
    "            \n",
    "        neg_edges = [e for e in edges if e[2]['is_duplicate'] == 0]\n",
    "        \n",
    "        for u, v, a in neg_edges:\n",
    "            if 'group' not in graph.nodes[v]:\n",
    "                continue\n",
    "                \n",
    "            if graph.nodes[v]['group'] == attr['group']:\n",
    "                mislabeled_edges.append((u, v))\n",
    "    \n",
    "    \n",
    "    if len(mislabeled_edges) == 0:\n",
    "        return None\n",
    "    \n",
    "    mislabeled_edges = map(tuple,[sorted(i) for i in mislabeled_edges])\n",
    "    mislabeled_edges = list(set(mislabeled_edges))\n",
    "    return mislabeled_edges"
   ]
  },
  {
   "cell_type": "code",
   "execution_count": 146,
   "metadata": {
    "scrolled": true
   },
   "outputs": [
    {
     "data": {
      "application/vnd.jupyter.widget-view+json": {
       "model_id": "acd333f388924dc991524d7d9d7ef0bb",
       "version_major": 2,
       "version_minor": 0
      },
      "text/plain": [
       "HBox(children=(IntProgress(value=0, max=1616), HTML(value='')))"
      ]
     },
     "metadata": {},
     "output_type": "display_data"
    },
    {
     "name": "stdout",
     "output_type": "stream",
     "text": [
      "\n"
     ]
    }
   ],
   "source": [
    "unbalanced_subgraphs = []\n",
    "mislabeled_pairs = {}\n",
    "\n",
    "for graph in tqdm(subgraphs):\n",
    "    unbalanced = find_unbalance(graph)\n",
    "    if unbalanced:\n",
    "#         if graph.number_of_nodes() < 20 or graph.number_of_nodes() > 30:\n",
    "#             continue\n",
    "        unbalanced_subgraphs.append(graph)\n",
    "        mislabeled_pairs[len(mislabeled_pairs)] = unbalanced"
   ]
  },
  {
   "cell_type": "code",
   "execution_count": 147,
   "metadata": {},
   "outputs": [
    {
     "data": {
      "text/plain": [
       "77"
      ]
     },
     "execution_count": 147,
     "metadata": {},
     "output_type": "execute_result"
    }
   ],
   "source": [
    "len(unbalanced_subgraphs)"
   ]
  },
  {
   "cell_type": "code",
   "execution_count": 148,
   "metadata": {},
   "outputs": [
    {
     "data": {
      "text/plain": [
       "88"
      ]
     },
     "execution_count": 148,
     "metadata": {},
     "output_type": "execute_result"
    }
   ],
   "source": [
    "pairs = [x for pairs in mislabeled_pairs.values() for x in pairs]\n",
    "len(pairs)"
   ]
  },
  {
   "cell_type": "code",
   "execution_count": 48,
   "metadata": {},
   "outputs": [],
   "source": [
    "colorscale = px.colors.diverging.Spectral\n",
    "\n",
    "def find_groups(graph):\n",
    "    groups = {}\n",
    "    group_attr = {}\n",
    "    g = graph.copy()\n",
    "    \n",
    "    for u, v, d in graph.edges(data=True):\n",
    "        if d['is_duplicate'] == 0:\n",
    "            g.remove_edge(u,v)\n",
    "    \n",
    "    for i, nodes in zip(string.ascii_uppercase, nx.connected_components(g)):\n",
    "        groups[i] = list(nodes)\n",
    "        group_attr.update({n: i for n in nodes})\n",
    "        \n",
    "    return groups, group_attr\n",
    "\n",
    "\n",
    "def plot(graph, mislabeled_edges):\n",
    "    \n",
    "    nodes = list(graph.nodes())\n",
    "    \n",
    "    groups, group_attr = find_groups(graph)\n",
    "    \n",
    "    sampled_colors = random.choices(colorscale, k=len(groups))\n",
    "    colors = {g: c for g, c in zip(groups.keys(), sampled_colors)}\n",
    "    node_colors = [colors[group_attr[n]] for n in graph.nodes()]\n",
    "    \n",
    "    if len(groups) == 1:\n",
    "        node_labels = {node: label for node, label in zip(graph.nodes(), string.ascii_uppercase[:len(graph.nodes())])}\n",
    "    else:\n",
    "        node_labels = {node: '{}{}'.format(group_attr[node], groups[group_attr[node]].index(node)) for node in graph.nodes()}\n",
    "    \n",
    "    labels = list(node_labels.values())\n",
    "    \n",
    "    for i, x in groups.items():\n",
    "        for n in x:\n",
    "            print('{}: {}'.format(node_labels[n], n))\n",
    "    \n",
    "    \n",
    "    pos = nx.spring_layout(graph)\n",
    "    \n",
    "    Xv=[pos[n][0] for n in nodes]\n",
    "    Yv=[pos[n][1] for n in nodes]\n",
    "    Xed_1, Yed_1 = [], []\n",
    "    Xed_2, Yed_2 = [], []\n",
    "    Xed_3, Yed_3 = [], []\n",
    "    \n",
    "    for u, v, attr in graph.edges(data=True):\n",
    "        if (u,v) in mislabeled_edges or (v, u) in mislabeled_edges:\n",
    "            continue\n",
    "        if attr['is_duplicate'] == 1:\n",
    "            Xed_1 += [pos[u][0], pos[v][0], None]\n",
    "            Yed_1 += [pos[u][1], pos[v][1], None]\n",
    "        else:\n",
    "            Xed_2 += [pos[u][0], pos[v][0], None]\n",
    "            Yed_2 += [pos[u][1], pos[v][1], None]\n",
    "            \n",
    "    for u, v in mislabeled_edges:\n",
    "        Xed_3 += [pos[u][0], pos[v][0], None]\n",
    "        Yed_3 += [pos[u][1], pos[v][1], None]\n",
    "            \n",
    "    node_trace = Scatter(x=Xv, \n",
    "                         y=Yv, \n",
    "                         mode='markers+text', \n",
    "                         marker=dict(symbol='circle-dot', \n",
    "                                     size=10, \n",
    "                                     color=node_colors, \n",
    "                                     line=dict(color='rgb(50,50,50)', width=0.5)), \n",
    "                         text=labels,\n",
    "                         textposition='top center',\n",
    "                         textfont_size=17,\n",
    "                         showlegend=False\n",
    "                        )\n",
    "    \n",
    "    # paraphrase edges\n",
    "    edge_trace1 = Scatter(x=Xed_1, \n",
    "                          y=Yed_1, \n",
    "                          mode='lines', \n",
    "                          line=dict(color='gray', width=1), \n",
    "                          hoverinfo='none',\n",
    "                          showlegend=True,\n",
    "                          name='paraphrase'\n",
    "                         )\n",
    "    \n",
    "    # non-paraphrase edges\n",
    "    edge_trace2 = Scatter(x=Xed_2, \n",
    "                          y=Yed_2, \n",
    "                          mode='lines', \n",
    "                          line=dict(color='gray', width=1, dash='dash'), \n",
    "                          hoverinfo='none',\n",
    "                          showlegend=True,\n",
    "                          name='non-paraphrase'\n",
    "                         )\n",
    "    \n",
    "    # mislabeled edges\n",
    "    edge_trace3 = Scatter(x=Xed_3, \n",
    "                          y=Yed_3, \n",
    "                          mode='lines', \n",
    "                          line=dict(color='mediumvioletred', width=1, dash='dash'), \n",
    "                          hoverinfo='none',\n",
    "                          showlegend=True,\n",
    "                          name='conflicted'\n",
    "                         )\n",
    "    \n",
    "    axis=dict(showline=False, # hide axis line, grid, ticklabels and  title\n",
    "              zeroline=False,\n",
    "              showgrid=False,\n",
    "              showticklabels=False,\n",
    "              title='')\n",
    "    \n",
    "    layout = Layout(\n",
    "        font= dict(size=12),\n",
    "#         showlegend=False,\n",
    "        autosize=False,\n",
    "        width=800,\n",
    "        height=600,\n",
    "        xaxis=axis,\n",
    "        yaxis=axis,\n",
    "        margin=dict(l=5, r=5, b=20, t=40),\n",
    "        hovermode='closest',\n",
    "    )\n",
    "    \n",
    "    data = [edge_trace1, edge_trace2, edge_trace3, node_trace]\n",
    "    \n",
    "    fig = Figure(data=data, layout=layout)\n",
    "    fig.show()"
   ]
  },
  {
   "cell_type": "code",
   "execution_count": 67,
   "metadata": {},
   "outputs": [
    {
     "name": "stdout",
     "output_type": "stream",
     "text": [
      "A: What were the most happiest moments in your life?\n",
      "B: What was the happiest moment in your life?\n",
      "C: What are the happiest moments in your life?\n",
      "D: What were some of your happiest moments in life?\n",
      "E: What is your most happiest moment in life?\n",
      "F: What is the most happiest moment in life?\n"
     ]
    },
    {
     "data": {
      "application/vnd.plotly.v1+json": {
       "config": {
        "plotlyServerURL": "https://plot.ly"
       },
       "data": [
        {
         "hoverinfo": "none",
         "line": {
          "color": "gray",
          "width": 1
         },
         "mode": "lines",
         "name": "paraphrase",
         "showlegend": true,
         "type": "scatter",
         "x": [
          -0.3654604830966878,
          -0.7477617103667143,
          null,
          -0.3654604830966878,
          0.3116384153231107,
          null,
          0.9670742587430634,
          0.3116384153231107,
          null,
          0.9670742587430634,
          0.30114354119566017,
          null,
          -0.7477617103667143,
          0.3116384153231107,
          null,
          0.30114354119566017,
          -0.4666340217984323,
          null
         ],
         "y": [
          -0.7821667959905407,
          -0.39628454776782596,
          null,
          -0.7821667959905407,
          -0.46670911006418486,
          null,
          0.3565206975923287,
          -0.46670911006418486,
          null,
          0.3565206975923287,
          1,
          null,
          -0.39628454776782596,
          -0.46670911006418486,
          null,
          1,
          0.28863975623022403,
          null
         ]
        },
        {
         "hoverinfo": "none",
         "line": {
          "color": "gray",
          "dash": "dash",
          "width": 1
         },
         "mode": "lines",
         "name": "non-paraphrase",
         "showlegend": true,
         "type": "scatter",
         "x": [],
         "y": []
        },
        {
         "hoverinfo": "none",
         "line": {
          "color": "mediumvioletred",
          "dash": "dash",
          "width": 1
         },
         "mode": "lines",
         "name": "conflicted",
         "showlegend": true,
         "type": "scatter",
         "x": [
          -0.4666340217984323,
          -0.3654604830966878,
          null,
          -0.7477617103667143,
          -0.4666340217984323,
          null
         ],
         "y": [
          0.28863975623022403,
          -0.7821667959905407,
          null,
          -0.39628454776782596,
          0.28863975623022403,
          null
         ]
        },
        {
         "marker": {
          "color": [
           "rgb(213,62,79)",
           "rgb(213,62,79)",
           "rgb(213,62,79)",
           "rgb(213,62,79)",
           "rgb(213,62,79)",
           "rgb(213,62,79)"
          ],
          "line": {
           "color": "rgb(50,50,50)",
           "width": 0.5
          },
          "size": 10,
          "symbol": "circle-dot"
         },
         "mode": "markers+text",
         "showlegend": false,
         "text": [
          "A",
          "B",
          "C",
          "D",
          "E",
          "F"
         ],
         "textfont": {
          "size": 17
         },
         "textposition": "top center",
         "type": "scatter",
         "x": [
          -0.3654604830966878,
          0.9670742587430634,
          -0.7477617103667143,
          0.30114354119566017,
          0.3116384153231107,
          -0.4666340217984323
         ],
         "y": [
          -0.7821667959905407,
          0.3565206975923287,
          -0.39628454776782596,
          1,
          -0.46670911006418486,
          0.28863975623022403
         ]
        }
       ],
       "layout": {
        "autosize": false,
        "font": {
         "size": 12
        },
        "height": 600,
        "hovermode": "closest",
        "margin": {
         "b": 20,
         "l": 5,
         "r": 5,
         "t": 40
        },
        "template": {
         "data": {
          "bar": [
           {
            "error_x": {
             "color": "#2a3f5f"
            },
            "error_y": {
             "color": "#2a3f5f"
            },
            "marker": {
             "line": {
              "color": "#E5ECF6",
              "width": 0.5
             }
            },
            "type": "bar"
           }
          ],
          "barpolar": [
           {
            "marker": {
             "line": {
              "color": "#E5ECF6",
              "width": 0.5
             }
            },
            "type": "barpolar"
           }
          ],
          "carpet": [
           {
            "aaxis": {
             "endlinecolor": "#2a3f5f",
             "gridcolor": "white",
             "linecolor": "white",
             "minorgridcolor": "white",
             "startlinecolor": "#2a3f5f"
            },
            "baxis": {
             "endlinecolor": "#2a3f5f",
             "gridcolor": "white",
             "linecolor": "white",
             "minorgridcolor": "white",
             "startlinecolor": "#2a3f5f"
            },
            "type": "carpet"
           }
          ],
          "choropleth": [
           {
            "colorbar": {
             "outlinewidth": 0,
             "ticks": ""
            },
            "type": "choropleth"
           }
          ],
          "contour": [
           {
            "colorbar": {
             "outlinewidth": 0,
             "ticks": ""
            },
            "colorscale": [
             [
              0,
              "#0d0887"
             ],
             [
              0.1111111111111111,
              "#46039f"
             ],
             [
              0.2222222222222222,
              "#7201a8"
             ],
             [
              0.3333333333333333,
              "#9c179e"
             ],
             [
              0.4444444444444444,
              "#bd3786"
             ],
             [
              0.5555555555555556,
              "#d8576b"
             ],
             [
              0.6666666666666666,
              "#ed7953"
             ],
             [
              0.7777777777777778,
              "#fb9f3a"
             ],
             [
              0.8888888888888888,
              "#fdca26"
             ],
             [
              1,
              "#f0f921"
             ]
            ],
            "type": "contour"
           }
          ],
          "contourcarpet": [
           {
            "colorbar": {
             "outlinewidth": 0,
             "ticks": ""
            },
            "type": "contourcarpet"
           }
          ],
          "heatmap": [
           {
            "colorbar": {
             "outlinewidth": 0,
             "ticks": ""
            },
            "colorscale": [
             [
              0,
              "#0d0887"
             ],
             [
              0.1111111111111111,
              "#46039f"
             ],
             [
              0.2222222222222222,
              "#7201a8"
             ],
             [
              0.3333333333333333,
              "#9c179e"
             ],
             [
              0.4444444444444444,
              "#bd3786"
             ],
             [
              0.5555555555555556,
              "#d8576b"
             ],
             [
              0.6666666666666666,
              "#ed7953"
             ],
             [
              0.7777777777777778,
              "#fb9f3a"
             ],
             [
              0.8888888888888888,
              "#fdca26"
             ],
             [
              1,
              "#f0f921"
             ]
            ],
            "type": "heatmap"
           }
          ],
          "heatmapgl": [
           {
            "colorbar": {
             "outlinewidth": 0,
             "ticks": ""
            },
            "colorscale": [
             [
              0,
              "#0d0887"
             ],
             [
              0.1111111111111111,
              "#46039f"
             ],
             [
              0.2222222222222222,
              "#7201a8"
             ],
             [
              0.3333333333333333,
              "#9c179e"
             ],
             [
              0.4444444444444444,
              "#bd3786"
             ],
             [
              0.5555555555555556,
              "#d8576b"
             ],
             [
              0.6666666666666666,
              "#ed7953"
             ],
             [
              0.7777777777777778,
              "#fb9f3a"
             ],
             [
              0.8888888888888888,
              "#fdca26"
             ],
             [
              1,
              "#f0f921"
             ]
            ],
            "type": "heatmapgl"
           }
          ],
          "histogram": [
           {
            "marker": {
             "colorbar": {
              "outlinewidth": 0,
              "ticks": ""
             }
            },
            "type": "histogram"
           }
          ],
          "histogram2d": [
           {
            "colorbar": {
             "outlinewidth": 0,
             "ticks": ""
            },
            "colorscale": [
             [
              0,
              "#0d0887"
             ],
             [
              0.1111111111111111,
              "#46039f"
             ],
             [
              0.2222222222222222,
              "#7201a8"
             ],
             [
              0.3333333333333333,
              "#9c179e"
             ],
             [
              0.4444444444444444,
              "#bd3786"
             ],
             [
              0.5555555555555556,
              "#d8576b"
             ],
             [
              0.6666666666666666,
              "#ed7953"
             ],
             [
              0.7777777777777778,
              "#fb9f3a"
             ],
             [
              0.8888888888888888,
              "#fdca26"
             ],
             [
              1,
              "#f0f921"
             ]
            ],
            "type": "histogram2d"
           }
          ],
          "histogram2dcontour": [
           {
            "colorbar": {
             "outlinewidth": 0,
             "ticks": ""
            },
            "colorscale": [
             [
              0,
              "#0d0887"
             ],
             [
              0.1111111111111111,
              "#46039f"
             ],
             [
              0.2222222222222222,
              "#7201a8"
             ],
             [
              0.3333333333333333,
              "#9c179e"
             ],
             [
              0.4444444444444444,
              "#bd3786"
             ],
             [
              0.5555555555555556,
              "#d8576b"
             ],
             [
              0.6666666666666666,
              "#ed7953"
             ],
             [
              0.7777777777777778,
              "#fb9f3a"
             ],
             [
              0.8888888888888888,
              "#fdca26"
             ],
             [
              1,
              "#f0f921"
             ]
            ],
            "type": "histogram2dcontour"
           }
          ],
          "mesh3d": [
           {
            "colorbar": {
             "outlinewidth": 0,
             "ticks": ""
            },
            "type": "mesh3d"
           }
          ],
          "parcoords": [
           {
            "line": {
             "colorbar": {
              "outlinewidth": 0,
              "ticks": ""
             }
            },
            "type": "parcoords"
           }
          ],
          "pie": [
           {
            "automargin": true,
            "type": "pie"
           }
          ],
          "scatter": [
           {
            "marker": {
             "colorbar": {
              "outlinewidth": 0,
              "ticks": ""
             }
            },
            "type": "scatter"
           }
          ],
          "scatter3d": [
           {
            "line": {
             "colorbar": {
              "outlinewidth": 0,
              "ticks": ""
             }
            },
            "marker": {
             "colorbar": {
              "outlinewidth": 0,
              "ticks": ""
             }
            },
            "type": "scatter3d"
           }
          ],
          "scattercarpet": [
           {
            "marker": {
             "colorbar": {
              "outlinewidth": 0,
              "ticks": ""
             }
            },
            "type": "scattercarpet"
           }
          ],
          "scattergeo": [
           {
            "marker": {
             "colorbar": {
              "outlinewidth": 0,
              "ticks": ""
             }
            },
            "type": "scattergeo"
           }
          ],
          "scattergl": [
           {
            "marker": {
             "colorbar": {
              "outlinewidth": 0,
              "ticks": ""
             }
            },
            "type": "scattergl"
           }
          ],
          "scattermapbox": [
           {
            "marker": {
             "colorbar": {
              "outlinewidth": 0,
              "ticks": ""
             }
            },
            "type": "scattermapbox"
           }
          ],
          "scatterpolar": [
           {
            "marker": {
             "colorbar": {
              "outlinewidth": 0,
              "ticks": ""
             }
            },
            "type": "scatterpolar"
           }
          ],
          "scatterpolargl": [
           {
            "marker": {
             "colorbar": {
              "outlinewidth": 0,
              "ticks": ""
             }
            },
            "type": "scatterpolargl"
           }
          ],
          "scatterternary": [
           {
            "marker": {
             "colorbar": {
              "outlinewidth": 0,
              "ticks": ""
             }
            },
            "type": "scatterternary"
           }
          ],
          "surface": [
           {
            "colorbar": {
             "outlinewidth": 0,
             "ticks": ""
            },
            "colorscale": [
             [
              0,
              "#0d0887"
             ],
             [
              0.1111111111111111,
              "#46039f"
             ],
             [
              0.2222222222222222,
              "#7201a8"
             ],
             [
              0.3333333333333333,
              "#9c179e"
             ],
             [
              0.4444444444444444,
              "#bd3786"
             ],
             [
              0.5555555555555556,
              "#d8576b"
             ],
             [
              0.6666666666666666,
              "#ed7953"
             ],
             [
              0.7777777777777778,
              "#fb9f3a"
             ],
             [
              0.8888888888888888,
              "#fdca26"
             ],
             [
              1,
              "#f0f921"
             ]
            ],
            "type": "surface"
           }
          ],
          "table": [
           {
            "cells": {
             "fill": {
              "color": "#EBF0F8"
             },
             "line": {
              "color": "white"
             }
            },
            "header": {
             "fill": {
              "color": "#C8D4E3"
             },
             "line": {
              "color": "white"
             }
            },
            "type": "table"
           }
          ]
         },
         "layout": {
          "annotationdefaults": {
           "arrowcolor": "#2a3f5f",
           "arrowhead": 0,
           "arrowwidth": 1
          },
          "coloraxis": {
           "colorbar": {
            "outlinewidth": 0,
            "ticks": ""
           }
          },
          "colorscale": {
           "diverging": [
            [
             0,
             "#8e0152"
            ],
            [
             0.1,
             "#c51b7d"
            ],
            [
             0.2,
             "#de77ae"
            ],
            [
             0.3,
             "#f1b6da"
            ],
            [
             0.4,
             "#fde0ef"
            ],
            [
             0.5,
             "#f7f7f7"
            ],
            [
             0.6,
             "#e6f5d0"
            ],
            [
             0.7,
             "#b8e186"
            ],
            [
             0.8,
             "#7fbc41"
            ],
            [
             0.9,
             "#4d9221"
            ],
            [
             1,
             "#276419"
            ]
           ],
           "sequential": [
            [
             0,
             "#0d0887"
            ],
            [
             0.1111111111111111,
             "#46039f"
            ],
            [
             0.2222222222222222,
             "#7201a8"
            ],
            [
             0.3333333333333333,
             "#9c179e"
            ],
            [
             0.4444444444444444,
             "#bd3786"
            ],
            [
             0.5555555555555556,
             "#d8576b"
            ],
            [
             0.6666666666666666,
             "#ed7953"
            ],
            [
             0.7777777777777778,
             "#fb9f3a"
            ],
            [
             0.8888888888888888,
             "#fdca26"
            ],
            [
             1,
             "#f0f921"
            ]
           ],
           "sequentialminus": [
            [
             0,
             "#0d0887"
            ],
            [
             0.1111111111111111,
             "#46039f"
            ],
            [
             0.2222222222222222,
             "#7201a8"
            ],
            [
             0.3333333333333333,
             "#9c179e"
            ],
            [
             0.4444444444444444,
             "#bd3786"
            ],
            [
             0.5555555555555556,
             "#d8576b"
            ],
            [
             0.6666666666666666,
             "#ed7953"
            ],
            [
             0.7777777777777778,
             "#fb9f3a"
            ],
            [
             0.8888888888888888,
             "#fdca26"
            ],
            [
             1,
             "#f0f921"
            ]
           ]
          },
          "colorway": [
           "#636efa",
           "#EF553B",
           "#00cc96",
           "#ab63fa",
           "#FFA15A",
           "#19d3f3",
           "#FF6692",
           "#B6E880",
           "#FF97FF",
           "#FECB52"
          ],
          "font": {
           "color": "#2a3f5f"
          },
          "geo": {
           "bgcolor": "white",
           "lakecolor": "white",
           "landcolor": "#E5ECF6",
           "showlakes": true,
           "showland": true,
           "subunitcolor": "white"
          },
          "hoverlabel": {
           "align": "left"
          },
          "hovermode": "closest",
          "mapbox": {
           "style": "light"
          },
          "paper_bgcolor": "white",
          "plot_bgcolor": "#E5ECF6",
          "polar": {
           "angularaxis": {
            "gridcolor": "white",
            "linecolor": "white",
            "ticks": ""
           },
           "bgcolor": "#E5ECF6",
           "radialaxis": {
            "gridcolor": "white",
            "linecolor": "white",
            "ticks": ""
           }
          },
          "scene": {
           "xaxis": {
            "backgroundcolor": "#E5ECF6",
            "gridcolor": "white",
            "gridwidth": 2,
            "linecolor": "white",
            "showbackground": true,
            "ticks": "",
            "zerolinecolor": "white"
           },
           "yaxis": {
            "backgroundcolor": "#E5ECF6",
            "gridcolor": "white",
            "gridwidth": 2,
            "linecolor": "white",
            "showbackground": true,
            "ticks": "",
            "zerolinecolor": "white"
           },
           "zaxis": {
            "backgroundcolor": "#E5ECF6",
            "gridcolor": "white",
            "gridwidth": 2,
            "linecolor": "white",
            "showbackground": true,
            "ticks": "",
            "zerolinecolor": "white"
           }
          },
          "shapedefaults": {
           "line": {
            "color": "#2a3f5f"
           }
          },
          "ternary": {
           "aaxis": {
            "gridcolor": "white",
            "linecolor": "white",
            "ticks": ""
           },
           "baxis": {
            "gridcolor": "white",
            "linecolor": "white",
            "ticks": ""
           },
           "bgcolor": "#E5ECF6",
           "caxis": {
            "gridcolor": "white",
            "linecolor": "white",
            "ticks": ""
           }
          },
          "title": {
           "x": 0.05
          },
          "xaxis": {
           "automargin": true,
           "gridcolor": "white",
           "linecolor": "white",
           "ticks": "",
           "title": {
            "standoff": 15
           },
           "zerolinecolor": "white",
           "zerolinewidth": 2
          },
          "yaxis": {
           "automargin": true,
           "gridcolor": "white",
           "linecolor": "white",
           "ticks": "",
           "title": {
            "standoff": 15
           },
           "zerolinecolor": "white",
           "zerolinewidth": 2
          }
         }
        },
        "width": 800,
        "xaxis": {
         "showgrid": false,
         "showline": false,
         "showticklabels": false,
         "title": {
          "text": ""
         },
         "zeroline": false
        },
        "yaxis": {
         "showgrid": false,
         "showline": false,
         "showticklabels": false,
         "title": {
          "text": ""
         },
         "zeroline": false
        }
       }
      },
      "text/html": [
       "<div>\n",
       "        \n",
       "        \n",
       "            <div id=\"dc94986b-0a5f-4144-91f5-904afde74f6e\" class=\"plotly-graph-div\" style=\"height:600px; width:800px;\"></div>\n",
       "            <script type=\"text/javascript\">\n",
       "                require([\"plotly\"], function(Plotly) {\n",
       "                    window.PLOTLYENV=window.PLOTLYENV || {};\n",
       "                    \n",
       "                if (document.getElementById(\"dc94986b-0a5f-4144-91f5-904afde74f6e\")) {\n",
       "                    Plotly.newPlot(\n",
       "                        'dc94986b-0a5f-4144-91f5-904afde74f6e',\n",
       "                        [{\"hoverinfo\": \"none\", \"line\": {\"color\": \"gray\", \"width\": 1}, \"mode\": \"lines\", \"name\": \"paraphrase\", \"showlegend\": true, \"type\": \"scatter\", \"x\": [-0.3654604830966878, -0.7477617103667143, null, -0.3654604830966878, 0.3116384153231107, null, 0.9670742587430634, 0.3116384153231107, null, 0.9670742587430634, 0.30114354119566017, null, -0.7477617103667143, 0.3116384153231107, null, 0.30114354119566017, -0.4666340217984323, null], \"y\": [-0.7821667959905407, -0.39628454776782596, null, -0.7821667959905407, -0.46670911006418486, null, 0.3565206975923287, -0.46670911006418486, null, 0.3565206975923287, 1.0, null, -0.39628454776782596, -0.46670911006418486, null, 1.0, 0.28863975623022403, null]}, {\"hoverinfo\": \"none\", \"line\": {\"color\": \"gray\", \"dash\": \"dash\", \"width\": 1}, \"mode\": \"lines\", \"name\": \"non-paraphrase\", \"showlegend\": true, \"type\": \"scatter\", \"x\": [], \"y\": []}, {\"hoverinfo\": \"none\", \"line\": {\"color\": \"mediumvioletred\", \"dash\": \"dash\", \"width\": 1}, \"mode\": \"lines\", \"name\": \"conflicted\", \"showlegend\": true, \"type\": \"scatter\", \"x\": [-0.4666340217984323, -0.3654604830966878, null, -0.7477617103667143, -0.4666340217984323, null], \"y\": [0.28863975623022403, -0.7821667959905407, null, -0.39628454776782596, 0.28863975623022403, null]}, {\"marker\": {\"color\": [\"rgb(213,62,79)\", \"rgb(213,62,79)\", \"rgb(213,62,79)\", \"rgb(213,62,79)\", \"rgb(213,62,79)\", \"rgb(213,62,79)\"], \"line\": {\"color\": \"rgb(50,50,50)\", \"width\": 0.5}, \"size\": 10, \"symbol\": \"circle-dot\"}, \"mode\": \"markers+text\", \"showlegend\": false, \"text\": [\"A\", \"B\", \"C\", \"D\", \"E\", \"F\"], \"textfont\": {\"size\": 17}, \"textposition\": \"top center\", \"type\": \"scatter\", \"x\": [-0.3654604830966878, 0.9670742587430634, -0.7477617103667143, 0.30114354119566017, 0.3116384153231107, -0.4666340217984323], \"y\": [-0.7821667959905407, 0.3565206975923287, -0.39628454776782596, 1.0, -0.46670911006418486, 0.28863975623022403]}],\n",
       "                        {\"autosize\": false, \"font\": {\"size\": 12}, \"height\": 600, \"hovermode\": \"closest\", \"margin\": {\"b\": 20, \"l\": 5, \"r\": 5, \"t\": 40}, \"template\": {\"data\": {\"bar\": [{\"error_x\": {\"color\": \"#2a3f5f\"}, \"error_y\": {\"color\": \"#2a3f5f\"}, \"marker\": {\"line\": {\"color\": \"#E5ECF6\", \"width\": 0.5}}, \"type\": \"bar\"}], \"barpolar\": [{\"marker\": {\"line\": {\"color\": \"#E5ECF6\", \"width\": 0.5}}, \"type\": \"barpolar\"}], \"carpet\": [{\"aaxis\": {\"endlinecolor\": \"#2a3f5f\", \"gridcolor\": \"white\", \"linecolor\": \"white\", \"minorgridcolor\": \"white\", \"startlinecolor\": \"#2a3f5f\"}, \"baxis\": {\"endlinecolor\": \"#2a3f5f\", \"gridcolor\": \"white\", \"linecolor\": \"white\", \"minorgridcolor\": \"white\", \"startlinecolor\": \"#2a3f5f\"}, \"type\": \"carpet\"}], \"choropleth\": [{\"colorbar\": {\"outlinewidth\": 0, \"ticks\": \"\"}, \"type\": \"choropleth\"}], \"contour\": [{\"colorbar\": {\"outlinewidth\": 0, \"ticks\": \"\"}, \"colorscale\": [[0.0, \"#0d0887\"], [0.1111111111111111, \"#46039f\"], [0.2222222222222222, \"#7201a8\"], [0.3333333333333333, \"#9c179e\"], [0.4444444444444444, \"#bd3786\"], [0.5555555555555556, \"#d8576b\"], [0.6666666666666666, \"#ed7953\"], [0.7777777777777778, \"#fb9f3a\"], [0.8888888888888888, \"#fdca26\"], [1.0, \"#f0f921\"]], \"type\": \"contour\"}], \"contourcarpet\": [{\"colorbar\": {\"outlinewidth\": 0, \"ticks\": \"\"}, \"type\": \"contourcarpet\"}], \"heatmap\": [{\"colorbar\": {\"outlinewidth\": 0, \"ticks\": \"\"}, \"colorscale\": [[0.0, \"#0d0887\"], [0.1111111111111111, \"#46039f\"], [0.2222222222222222, \"#7201a8\"], [0.3333333333333333, \"#9c179e\"], [0.4444444444444444, \"#bd3786\"], [0.5555555555555556, \"#d8576b\"], [0.6666666666666666, \"#ed7953\"], [0.7777777777777778, \"#fb9f3a\"], [0.8888888888888888, \"#fdca26\"], [1.0, \"#f0f921\"]], \"type\": \"heatmap\"}], \"heatmapgl\": [{\"colorbar\": {\"outlinewidth\": 0, \"ticks\": \"\"}, \"colorscale\": [[0.0, \"#0d0887\"], [0.1111111111111111, \"#46039f\"], [0.2222222222222222, \"#7201a8\"], [0.3333333333333333, \"#9c179e\"], [0.4444444444444444, \"#bd3786\"], [0.5555555555555556, \"#d8576b\"], [0.6666666666666666, \"#ed7953\"], [0.7777777777777778, \"#fb9f3a\"], [0.8888888888888888, \"#fdca26\"], [1.0, \"#f0f921\"]], \"type\": \"heatmapgl\"}], \"histogram\": [{\"marker\": {\"colorbar\": {\"outlinewidth\": 0, \"ticks\": \"\"}}, \"type\": \"histogram\"}], \"histogram2d\": [{\"colorbar\": {\"outlinewidth\": 0, \"ticks\": \"\"}, \"colorscale\": [[0.0, \"#0d0887\"], [0.1111111111111111, \"#46039f\"], [0.2222222222222222, \"#7201a8\"], [0.3333333333333333, \"#9c179e\"], [0.4444444444444444, \"#bd3786\"], [0.5555555555555556, \"#d8576b\"], [0.6666666666666666, \"#ed7953\"], [0.7777777777777778, \"#fb9f3a\"], [0.8888888888888888, \"#fdca26\"], [1.0, \"#f0f921\"]], \"type\": \"histogram2d\"}], \"histogram2dcontour\": [{\"colorbar\": {\"outlinewidth\": 0, \"ticks\": \"\"}, \"colorscale\": [[0.0, \"#0d0887\"], [0.1111111111111111, \"#46039f\"], [0.2222222222222222, \"#7201a8\"], [0.3333333333333333, \"#9c179e\"], [0.4444444444444444, \"#bd3786\"], [0.5555555555555556, \"#d8576b\"], [0.6666666666666666, \"#ed7953\"], [0.7777777777777778, \"#fb9f3a\"], [0.8888888888888888, \"#fdca26\"], [1.0, \"#f0f921\"]], \"type\": \"histogram2dcontour\"}], \"mesh3d\": [{\"colorbar\": {\"outlinewidth\": 0, \"ticks\": \"\"}, \"type\": \"mesh3d\"}], \"parcoords\": [{\"line\": {\"colorbar\": {\"outlinewidth\": 0, \"ticks\": \"\"}}, \"type\": \"parcoords\"}], \"pie\": [{\"automargin\": true, \"type\": \"pie\"}], \"scatter\": [{\"marker\": {\"colorbar\": {\"outlinewidth\": 0, \"ticks\": \"\"}}, \"type\": \"scatter\"}], \"scatter3d\": [{\"line\": {\"colorbar\": {\"outlinewidth\": 0, \"ticks\": \"\"}}, \"marker\": {\"colorbar\": {\"outlinewidth\": 0, \"ticks\": \"\"}}, \"type\": \"scatter3d\"}], \"scattercarpet\": [{\"marker\": {\"colorbar\": {\"outlinewidth\": 0, \"ticks\": \"\"}}, \"type\": \"scattercarpet\"}], \"scattergeo\": [{\"marker\": {\"colorbar\": {\"outlinewidth\": 0, \"ticks\": \"\"}}, \"type\": \"scattergeo\"}], \"scattergl\": [{\"marker\": {\"colorbar\": {\"outlinewidth\": 0, \"ticks\": \"\"}}, \"type\": \"scattergl\"}], \"scattermapbox\": [{\"marker\": {\"colorbar\": {\"outlinewidth\": 0, \"ticks\": \"\"}}, \"type\": \"scattermapbox\"}], \"scatterpolar\": [{\"marker\": {\"colorbar\": {\"outlinewidth\": 0, \"ticks\": \"\"}}, \"type\": \"scatterpolar\"}], \"scatterpolargl\": [{\"marker\": {\"colorbar\": {\"outlinewidth\": 0, \"ticks\": \"\"}}, \"type\": \"scatterpolargl\"}], \"scatterternary\": [{\"marker\": {\"colorbar\": {\"outlinewidth\": 0, \"ticks\": \"\"}}, \"type\": \"scatterternary\"}], \"surface\": [{\"colorbar\": {\"outlinewidth\": 0, \"ticks\": \"\"}, \"colorscale\": [[0.0, \"#0d0887\"], [0.1111111111111111, \"#46039f\"], [0.2222222222222222, \"#7201a8\"], [0.3333333333333333, \"#9c179e\"], [0.4444444444444444, \"#bd3786\"], [0.5555555555555556, \"#d8576b\"], [0.6666666666666666, \"#ed7953\"], [0.7777777777777778, \"#fb9f3a\"], [0.8888888888888888, \"#fdca26\"], [1.0, \"#f0f921\"]], \"type\": \"surface\"}], \"table\": [{\"cells\": {\"fill\": {\"color\": \"#EBF0F8\"}, \"line\": {\"color\": \"white\"}}, \"header\": {\"fill\": {\"color\": \"#C8D4E3\"}, \"line\": {\"color\": \"white\"}}, \"type\": \"table\"}]}, \"layout\": {\"annotationdefaults\": {\"arrowcolor\": \"#2a3f5f\", \"arrowhead\": 0, \"arrowwidth\": 1}, \"coloraxis\": {\"colorbar\": {\"outlinewidth\": 0, \"ticks\": \"\"}}, \"colorscale\": {\"diverging\": [[0, \"#8e0152\"], [0.1, \"#c51b7d\"], [0.2, \"#de77ae\"], [0.3, \"#f1b6da\"], [0.4, \"#fde0ef\"], [0.5, \"#f7f7f7\"], [0.6, \"#e6f5d0\"], [0.7, \"#b8e186\"], [0.8, \"#7fbc41\"], [0.9, \"#4d9221\"], [1, \"#276419\"]], \"sequential\": [[0.0, \"#0d0887\"], [0.1111111111111111, \"#46039f\"], [0.2222222222222222, \"#7201a8\"], [0.3333333333333333, \"#9c179e\"], [0.4444444444444444, \"#bd3786\"], [0.5555555555555556, \"#d8576b\"], [0.6666666666666666, \"#ed7953\"], [0.7777777777777778, \"#fb9f3a\"], [0.8888888888888888, \"#fdca26\"], [1.0, \"#f0f921\"]], \"sequentialminus\": [[0.0, \"#0d0887\"], [0.1111111111111111, \"#46039f\"], [0.2222222222222222, \"#7201a8\"], [0.3333333333333333, \"#9c179e\"], [0.4444444444444444, \"#bd3786\"], [0.5555555555555556, \"#d8576b\"], [0.6666666666666666, \"#ed7953\"], [0.7777777777777778, \"#fb9f3a\"], [0.8888888888888888, \"#fdca26\"], [1.0, \"#f0f921\"]]}, \"colorway\": [\"#636efa\", \"#EF553B\", \"#00cc96\", \"#ab63fa\", \"#FFA15A\", \"#19d3f3\", \"#FF6692\", \"#B6E880\", \"#FF97FF\", \"#FECB52\"], \"font\": {\"color\": \"#2a3f5f\"}, \"geo\": {\"bgcolor\": \"white\", \"lakecolor\": \"white\", \"landcolor\": \"#E5ECF6\", \"showlakes\": true, \"showland\": true, \"subunitcolor\": \"white\"}, \"hoverlabel\": {\"align\": \"left\"}, \"hovermode\": \"closest\", \"mapbox\": {\"style\": \"light\"}, \"paper_bgcolor\": \"white\", \"plot_bgcolor\": \"#E5ECF6\", \"polar\": {\"angularaxis\": {\"gridcolor\": \"white\", \"linecolor\": \"white\", \"ticks\": \"\"}, \"bgcolor\": \"#E5ECF6\", \"radialaxis\": {\"gridcolor\": \"white\", \"linecolor\": \"white\", \"ticks\": \"\"}}, \"scene\": {\"xaxis\": {\"backgroundcolor\": \"#E5ECF6\", \"gridcolor\": \"white\", \"gridwidth\": 2, \"linecolor\": \"white\", \"showbackground\": true, \"ticks\": \"\", \"zerolinecolor\": \"white\"}, \"yaxis\": {\"backgroundcolor\": \"#E5ECF6\", \"gridcolor\": \"white\", \"gridwidth\": 2, \"linecolor\": \"white\", \"showbackground\": true, \"ticks\": \"\", \"zerolinecolor\": \"white\"}, \"zaxis\": {\"backgroundcolor\": \"#E5ECF6\", \"gridcolor\": \"white\", \"gridwidth\": 2, \"linecolor\": \"white\", \"showbackground\": true, \"ticks\": \"\", \"zerolinecolor\": \"white\"}}, \"shapedefaults\": {\"line\": {\"color\": \"#2a3f5f\"}}, \"ternary\": {\"aaxis\": {\"gridcolor\": \"white\", \"linecolor\": \"white\", \"ticks\": \"\"}, \"baxis\": {\"gridcolor\": \"white\", \"linecolor\": \"white\", \"ticks\": \"\"}, \"bgcolor\": \"#E5ECF6\", \"caxis\": {\"gridcolor\": \"white\", \"linecolor\": \"white\", \"ticks\": \"\"}}, \"title\": {\"x\": 0.05}, \"xaxis\": {\"automargin\": true, \"gridcolor\": \"white\", \"linecolor\": \"white\", \"ticks\": \"\", \"title\": {\"standoff\": 15}, \"zerolinecolor\": \"white\", \"zerolinewidth\": 2}, \"yaxis\": {\"automargin\": true, \"gridcolor\": \"white\", \"linecolor\": \"white\", \"ticks\": \"\", \"title\": {\"standoff\": 15}, \"zerolinecolor\": \"white\", \"zerolinewidth\": 2}}}, \"width\": 800, \"xaxis\": {\"showgrid\": false, \"showline\": false, \"showticklabels\": false, \"title\": {\"text\": \"\"}, \"zeroline\": false}, \"yaxis\": {\"showgrid\": false, \"showline\": false, \"showticklabels\": false, \"title\": {\"text\": \"\"}, \"zeroline\": false}},\n",
       "                        {\"responsive\": true}\n",
       "                    ).then(function(){\n",
       "                            \n",
       "var gd = document.getElementById('dc94986b-0a5f-4144-91f5-904afde74f6e');\n",
       "var x = new MutationObserver(function (mutations, observer) {{\n",
       "        var display = window.getComputedStyle(gd).display;\n",
       "        if (!display || display === 'none') {{\n",
       "            console.log([gd, 'removed!']);\n",
       "            Plotly.purge(gd);\n",
       "            observer.disconnect();\n",
       "        }}\n",
       "}});\n",
       "\n",
       "// Listen for the removal of the full notebook cells\n",
       "var notebookContainer = gd.closest('#notebook-container');\n",
       "if (notebookContainer) {{\n",
       "    x.observe(notebookContainer, {childList: true});\n",
       "}}\n",
       "\n",
       "// Listen for the clearing of the current output cell\n",
       "var outputEl = gd.closest('.output');\n",
       "if (outputEl) {{\n",
       "    x.observe(outputEl, {childList: true});\n",
       "}}\n",
       "\n",
       "                        })\n",
       "                };\n",
       "                });\n",
       "            </script>\n",
       "        </div>"
      ]
     },
     "metadata": {},
     "output_type": "display_data"
    }
   ],
   "source": [
    "index = 38\n",
    "plot(unbalanced_subgraphs[index], mislabeled_pairs[index])"
   ]
  },
  {
   "cell_type": "code",
   "execution_count": 105,
   "metadata": {},
   "outputs": [
    {
     "name": "stdout",
     "output_type": "stream",
     "text": [
      "A0: What are some ways to delete my Yahoo Mail account permanently?\n",
      "A1: How do you permantley delete a Yahoo e-mail account?\n",
      "A2: What is the safest way to delete my Yahoo account?\n",
      "A3: What is the best way to disable your Yahoo account permanently?\n",
      "A4: How do you disable a Yahoo account?\n",
      "A5: What are some ways to delete my Yahoo Mail account?\n",
      "A6: How do you delete your Yahoo account permanently?\n",
      "A7: How do you delete your Yahoo email account?\n",
      "A8: How can you terminate your Yahoo e-mail account?\n",
      "A9: How do I deactivate a Yahoo! account?\n",
      "A10: How can you delete your Yahoo mail account?\n",
      "A11: How can can I delete my yahoo email account?\n",
      "A12: How can you delete your Yahoo account?\n",
      "A13: How do you permanently delete your Yahoo account?\n",
      "A14: How can I deactivate my yahoo account permanently?\n",
      "A15: How can you delete your Yahoo Mail ID?\n",
      "B0: How can I delete a Facebook messenger account (i.e. a mobile number-only account, with no password etc).\n",
      "B1: How do I delete my Messenger account?\n",
      "B2: How can I delete Facebook Messenger account created with phone number (without Facebook account)?\n",
      "B3: How do I delete FB messenger account that was set up without fb and only number.?\n",
      "B4: How can I restore a mobile-number only Facebook messenger account?\n",
      "B5: How do I delete the Facebook Messenger account from an iPhone without the Facebook account?\n",
      "C0: What is the best way to delete my Yahoo account?\n",
      "C1: How can I delete my Yahoo account?\n",
      "D0: How do you create a Yahoo email account?\n",
      "D1: How can you create a new Yahoo email account?\n"
     ]
    },
    {
     "data": {
      "application/vnd.plotly.v1+json": {
       "config": {
        "plotlyServerURL": "https://plot.ly"
       },
       "data": [
        {
         "hoverinfo": "none",
         "line": {
          "color": "gray",
          "width": 1
         },
         "mode": "lines",
         "name": "paraphrase",
         "showlegend": true,
         "type": "scatter",
         "x": [
          -0.3448917273663865,
          -0.28400546287920214,
          null,
          -0.3448917273663865,
          -0.32216243828290025,
          null,
          -0.3448917273663865,
          -0.39695846404216995,
          null,
          -0.3448917273663865,
          -0.22903946493897392,
          null,
          -0.3448917273663865,
          -0.24697663326226713,
          null,
          -0.3448917273663865,
          -0.33678918524251017,
          null,
          -0.3448917273663865,
          -0.24706166847334432,
          null,
          -0.3448917273663865,
          -0.17173413777222704,
          null,
          -0.3448917273663865,
          -0.20059268395366306,
          null,
          -0.3448917273663865,
          -0.25864352861545536,
          null,
          -0.3448917273663865,
          -0.3701614718988464,
          null,
          -0.3448917273663865,
          -0.4403552822810038,
          null,
          -0.24697663326226713,
          -0.20059268395366306,
          null,
          -0.24697663326226713,
          -0.32216243828290025,
          null,
          -0.24697663326226713,
          -0.22903946493897392,
          null,
          -0.24697663326226713,
          -0.17173413777222704,
          null,
          -0.24697663326226713,
          -0.03575200055809637,
          null,
          -0.24697663326226713,
          -0.3701614718988464,
          null,
          -0.24697663326226713,
          -0.2972595495437783,
          null,
          -0.24697663326226713,
          -0.39695846404216995,
          null,
          -0.24697663326226713,
          -0.24706166847334432,
          null,
          -0.24697663326226713,
          -0.25864352861545536,
          null,
          -0.24697663326226713,
          -0.28400546287920214,
          null,
          -0.24697663326226713,
          -0.33678918524251017,
          null,
          0.9448820754284939,
          0.9999999999999999,
          null,
          0.9448820754284939,
          0.7555077253574461,
          null,
          0.9448820754284939,
          0.7880777856805369,
          null,
          0.9448820754284939,
          0.9418958226158908,
          null,
          0.9418958226158908,
          0.7880777856805369,
          null,
          0.9418958226158908,
          0.7555077253574461,
          null,
          -0.3701614718988464,
          -0.2972595495437783,
          null,
          -0.3701614718988464,
          -0.17173413777222704,
          null,
          -0.3701614718988464,
          -0.28400546287920214,
          null,
          -0.3701614718988464,
          -0.33678918524251017,
          null,
          -0.3701614718988464,
          -0.39695846404216995,
          null,
          -0.3701614718988464,
          -0.32216243828290025,
          null,
          -0.3701614718988464,
          -0.20059268395366306,
          null,
          -0.3701614718988464,
          -0.24706166847334432,
          null,
          0.02785584878075448,
          0.04417159141779655,
          null,
          -0.20059268395366306,
          -0.32216243828290025,
          null,
          -0.20059268395366306,
          -0.24706166847334432,
          null,
          -0.20059268395366306,
          -0.03575200055809637,
          null,
          -0.20059268395366306,
          -0.28400546287920214,
          null,
          -0.20059268395366306,
          -0.17173413777222704,
          null,
          -0.20059268395366306,
          -0.33678918524251017,
          null,
          -0.20059268395366306,
          -0.22903946493897392,
          null,
          -0.20059268395366306,
          -0.2972595495437783,
          null,
          -0.4729967306942842,
          -0.37603197666283983,
          null,
          -0.32216243828290025,
          -0.25864352861545536,
          null,
          -0.32216243828290025,
          -0.22903946493897392,
          null,
          -0.32216243828290025,
          -0.17173413777222704,
          null,
          -0.32216243828290025,
          -0.4403552822810038,
          null,
          -0.32216243828290025,
          -0.39695846404216995,
          null,
          -0.32216243828290025,
          -0.28400546287920214,
          null,
          0.9999999999999999,
          0.7880777856805369,
          null,
          -0.4403552822810038,
          -0.25864352861545536,
          null,
          0.7880777856805369,
          0.7555077253574461,
          null,
          0.7880777856805369,
          0.4511535726307945,
          null,
          -0.22903946493897392,
          -0.39695846404216995,
          null,
          -0.22903946493897392,
          -0.28400546287920214,
          null,
          -0.22903946493897392,
          -0.24706166847334432,
          null,
          -0.22903946493897392,
          -0.2972595495437783,
          null,
          -0.22903946493897392,
          -0.33678918524251017,
          null,
          -0.22903946493897392,
          -0.17173413777222704,
          null,
          -0.39695846404216995,
          -0.17173413777222704,
          null,
          -0.39695846404216995,
          -0.24706166847334432,
          null,
          -0.39695846404216995,
          -0.28400546287920214,
          null,
          -0.39695846404216995,
          -0.33678918524251017,
          null,
          -0.03575200055809637,
          -0.28400546287920214,
          null,
          -0.03575200055809637,
          0.07786798455623437,
          null,
          -0.03575200055809637,
          -0.17173413777222704,
          null,
          -0.03575200055809637,
          -0.24706166847334432,
          null,
          -0.24706166847334432,
          -0.33678918524251017,
          null,
          -0.24706166847334432,
          -0.28400546287920214,
          null,
          -0.24706166847334432,
          -0.17173413777222704,
          null,
          -0.24706166847334432,
          -0.2972595495437783,
          null,
          -0.2972595495437783,
          -0.28400546287920214,
          null,
          -0.2972595495437783,
          -0.17173413777222704,
          null,
          -0.2972595495437783,
          -0.33678918524251017,
          null,
          -0.17173413777222704,
          0.07786798455623437,
          null,
          -0.17173413777222704,
          -0.33678918524251017,
          null,
          -0.17173413777222704,
          -0.28400546287920214,
          null,
          -0.28400546287920214,
          -0.33678918524251017,
          null,
          0.4511535726307945,
          0.7555077253574461,
          null
         ],
         "y": [
          0.009846947654012336,
          0.08928908974626339,
          null,
          0.009846947654012336,
          -0.04841523227553937,
          null,
          0.009846947654012336,
          0.0749726202222063,
          null,
          0.009846947654012336,
          0.08590568515943021,
          null,
          0.009846947654012336,
          0.02419399359830801,
          null,
          0.009846947654012336,
          0.18006886752112658,
          null,
          0.009846947654012336,
          0.2189919211023719,
          null,
          0.009846947654012336,
          0.08608912436458338,
          null,
          0.009846947654012336,
          0.13901580074040656,
          null,
          0.009846947654012336,
          -0.1660795947600163,
          null,
          0.009846947654012336,
          0.13204707294036536,
          null,
          0.009846947654012336,
          -0.20111628014644634,
          null,
          0.02419399359830801,
          0.13901580074040656,
          null,
          0.02419399359830801,
          -0.04841523227553937,
          null,
          0.02419399359830801,
          0.08590568515943021,
          null,
          0.02419399359830801,
          0.08608912436458338,
          null,
          0.02419399359830801,
          -0.037615856813623096,
          null,
          0.02419399359830801,
          0.13204707294036536,
          null,
          0.02419399359830801,
          0.24521790704519394,
          null,
          0.02419399359830801,
          0.0749726202222063,
          null,
          0.02419399359830801,
          0.2189919211023719,
          null,
          0.02419399359830801,
          -0.1660795947600163,
          null,
          0.02419399359830801,
          0.08928908974626339,
          null,
          0.02419399359830801,
          0.18006886752112658,
          null,
          -0.250804866971767,
          -0.37167641652474565,
          null,
          -0.250804866971767,
          -0.1477534209731426,
          null,
          -0.250804866971767,
          -0.24321429685467166,
          null,
          -0.250804866971767,
          -0.13645721764532392,
          null,
          -0.13645721764532392,
          -0.24321429685467166,
          null,
          -0.13645721764532392,
          -0.1477534209731426,
          null,
          0.13204707294036536,
          0.24521790704519394,
          null,
          0.13204707294036536,
          0.08608912436458338,
          null,
          0.13204707294036536,
          0.08928908974626339,
          null,
          0.13204707294036536,
          0.18006886752112658,
          null,
          0.13204707294036536,
          0.0749726202222063,
          null,
          0.13204707294036536,
          -0.04841523227553937,
          null,
          0.13204707294036536,
          0.13901580074040656,
          null,
          0.13204707294036536,
          0.2189919211023719,
          null,
          -0.3933383460890349,
          -0.6570807093676464,
          null,
          0.13901580074040656,
          -0.04841523227553937,
          null,
          0.13901580074040656,
          0.2189919211023719,
          null,
          0.13901580074040656,
          -0.037615856813623096,
          null,
          0.13901580074040656,
          0.08928908974626339,
          null,
          0.13901580074040656,
          0.08608912436458338,
          null,
          0.13901580074040656,
          0.18006886752112658,
          null,
          0.13901580074040656,
          0.08590568515943021,
          null,
          0.13901580074040656,
          0.24521790704519394,
          null,
          0.8261252218699608,
          0.5803432351281913,
          null,
          -0.04841523227553937,
          -0.1660795947600163,
          null,
          -0.04841523227553937,
          0.08590568515943021,
          null,
          -0.04841523227553937,
          0.08608912436458338,
          null,
          -0.04841523227553937,
          -0.20111628014644634,
          null,
          -0.04841523227553937,
          0.0749726202222063,
          null,
          -0.04841523227553937,
          0.08928908974626339,
          null,
          -0.37167641652474565,
          -0.24321429685467166,
          null,
          -0.20111628014644634,
          -0.1660795947600163,
          null,
          -0.24321429685467166,
          -0.1477534209731426,
          null,
          -0.24321429685467166,
          -0.13473183636784794,
          null,
          0.08590568515943021,
          0.0749726202222063,
          null,
          0.08590568515943021,
          0.08928908974626339,
          null,
          0.08590568515943021,
          0.2189919211023719,
          null,
          0.08590568515943021,
          0.24521790704519394,
          null,
          0.08590568515943021,
          0.18006886752112658,
          null,
          0.08590568515943021,
          0.08608912436458338,
          null,
          0.0749726202222063,
          0.08608912436458338,
          null,
          0.0749726202222063,
          0.2189919211023719,
          null,
          0.0749726202222063,
          0.08928908974626339,
          null,
          0.0749726202222063,
          0.18006886752112658,
          null,
          -0.037615856813623096,
          0.08928908974626339,
          null,
          -0.037615856813623096,
          0.09617658769738471,
          null,
          -0.037615856813623096,
          0.08608912436458338,
          null,
          -0.037615856813623096,
          0.2189919211023719,
          null,
          0.2189919211023719,
          0.18006886752112658,
          null,
          0.2189919211023719,
          0.08928908974626339,
          null,
          0.2189919211023719,
          0.08608912436458338,
          null,
          0.2189919211023719,
          0.24521790704519394,
          null,
          0.24521790704519394,
          0.08928908974626339,
          null,
          0.24521790704519394,
          0.08608912436458338,
          null,
          0.24521790704519394,
          0.18006886752112658,
          null,
          0.08608912436458338,
          0.09617658769738471,
          null,
          0.08608912436458338,
          0.18006886752112658,
          null,
          0.08608912436458338,
          0.08928908974626339,
          null,
          0.08928908974626339,
          0.18006886752112658,
          null,
          -0.13473183636784794,
          -0.1477534209731426,
          null
         ]
        },
        {
         "hoverinfo": "none",
         "line": {
          "color": "gray",
          "dash": "dash",
          "width": 1
         },
         "mode": "lines",
         "name": "non-paraphrase",
         "showlegend": true,
         "type": "scatter",
         "x": [
          0.02785584878075448,
          -0.03575200055809637,
          null,
          -0.37603197666283983,
          -0.24706166847334432,
          null,
          -0.03575200055809637,
          0.4511535726307945,
          null
         ],
         "y": [
          -0.3933383460890349,
          -0.037615856813623096,
          null,
          0.5803432351281913,
          0.2189919211023719,
          null,
          -0.037615856813623096,
          -0.13473183636784794,
          null
         ]
        },
        {
         "hoverinfo": "none",
         "line": {
          "color": "mediumvioletred",
          "dash": "dash",
          "width": 1
         },
         "mode": "lines",
         "name": "conflicted",
         "showlegend": true,
         "type": "scatter",
         "x": [
          -0.03575200055809637,
          -0.22903946493897392,
          null,
          -0.03575200055809637,
          -0.25864352861545536,
          null
         ],
         "y": [
          -0.037615856813623096,
          0.08590568515943021,
          null,
          -0.037615856813623096,
          -0.1660795947600163,
          null
         ]
        },
        {
         "marker": {
          "color": [
           "rgb(102,194,165)",
           "rgb(102,194,165)",
           "rgb(158,1,66)",
           "rgb(158,1,66)",
           "rgb(102,194,165)",
           "rgb(213,62,79)",
           "rgb(102,194,165)",
           "rgb(171,221,164)",
           "rgb(171,221,164)",
           "rgb(102,194,165)",
           "rgb(213,62,79)",
           "rgb(158,1,66)",
           "rgb(102,194,165)",
           "rgb(158,1,66)",
           "rgb(102,194,165)",
           "rgb(102,194,165)",
           "rgb(102,194,165)",
           "rgb(102,194,165)",
           "rgb(102,194,165)",
           "rgb(102,194,165)",
           "rgb(102,194,165)",
           "rgb(102,194,165)",
           "rgb(158,1,66)",
           "rgb(102,194,165)",
           "rgb(158,1,66)",
           "rgb(102,194,165)"
          ],
          "line": {
           "color": "rgb(50,50,50)",
           "width": 0.5
          },
          "size": 10,
          "symbol": "circle-dot"
         },
         "mode": "markers+text",
         "showlegend": false,
         "text": [
          "A0",
          "A2",
          "B1",
          "B3",
          "A5",
          "C0",
          "A10",
          "D1",
          "D0",
          "A6",
          "C1",
          "B4",
          "A14",
          "B5",
          "A13",
          "A15",
          "A3",
          "A4",
          "A7",
          "A8",
          "A12",
          "A11",
          "B0",
          "A1",
          "B2",
          "A9"
         ],
         "textfont": {
          "size": 17
         },
         "textposition": "top center",
         "type": "scatter",
         "x": [
          -0.3448917273663865,
          -0.24697663326226713,
          0.9448820754284939,
          0.9418958226158908,
          -0.3701614718988464,
          0.02785584878075448,
          -0.20059268395366306,
          -0.4729967306942842,
          -0.37603197666283983,
          -0.32216243828290025,
          0.04417159141779655,
          0.9999999999999999,
          -0.4403552822810038,
          0.7880777856805369,
          -0.22903946493897392,
          -0.39695846404216995,
          -0.25864352861545536,
          -0.03575200055809637,
          -0.24706166847334432,
          -0.2972595495437783,
          -0.17173413777222704,
          -0.28400546287920214,
          0.4511535726307945,
          -0.33678918524251017,
          0.7555077253574461,
          0.07786798455623437
         ],
         "y": [
          0.009846947654012336,
          0.02419399359830801,
          -0.250804866971767,
          -0.13645721764532392,
          0.13204707294036536,
          -0.3933383460890349,
          0.13901580074040656,
          0.8261252218699608,
          0.5803432351281913,
          -0.04841523227553937,
          -0.6570807093676464,
          -0.37167641652474565,
          -0.20111628014644634,
          -0.24321429685467166,
          0.08590568515943021,
          0.0749726202222063,
          -0.1660795947600163,
          -0.037615856813623096,
          0.2189919211023719,
          0.24521790704519394,
          0.08608912436458338,
          0.08928908974626339,
          -0.13473183636784794,
          0.18006886752112658,
          -0.1477534209731426,
          0.09617658769738471
         ]
        }
       ],
       "layout": {
        "autosize": false,
        "font": {
         "size": 12
        },
        "height": 600,
        "hovermode": "closest",
        "margin": {
         "b": 20,
         "l": 5,
         "r": 5,
         "t": 40
        },
        "template": {
         "data": {
          "bar": [
           {
            "error_x": {
             "color": "#2a3f5f"
            },
            "error_y": {
             "color": "#2a3f5f"
            },
            "marker": {
             "line": {
              "color": "#E5ECF6",
              "width": 0.5
             }
            },
            "type": "bar"
           }
          ],
          "barpolar": [
           {
            "marker": {
             "line": {
              "color": "#E5ECF6",
              "width": 0.5
             }
            },
            "type": "barpolar"
           }
          ],
          "carpet": [
           {
            "aaxis": {
             "endlinecolor": "#2a3f5f",
             "gridcolor": "white",
             "linecolor": "white",
             "minorgridcolor": "white",
             "startlinecolor": "#2a3f5f"
            },
            "baxis": {
             "endlinecolor": "#2a3f5f",
             "gridcolor": "white",
             "linecolor": "white",
             "minorgridcolor": "white",
             "startlinecolor": "#2a3f5f"
            },
            "type": "carpet"
           }
          ],
          "choropleth": [
           {
            "colorbar": {
             "outlinewidth": 0,
             "ticks": ""
            },
            "type": "choropleth"
           }
          ],
          "contour": [
           {
            "colorbar": {
             "outlinewidth": 0,
             "ticks": ""
            },
            "colorscale": [
             [
              0,
              "#0d0887"
             ],
             [
              0.1111111111111111,
              "#46039f"
             ],
             [
              0.2222222222222222,
              "#7201a8"
             ],
             [
              0.3333333333333333,
              "#9c179e"
             ],
             [
              0.4444444444444444,
              "#bd3786"
             ],
             [
              0.5555555555555556,
              "#d8576b"
             ],
             [
              0.6666666666666666,
              "#ed7953"
             ],
             [
              0.7777777777777778,
              "#fb9f3a"
             ],
             [
              0.8888888888888888,
              "#fdca26"
             ],
             [
              1,
              "#f0f921"
             ]
            ],
            "type": "contour"
           }
          ],
          "contourcarpet": [
           {
            "colorbar": {
             "outlinewidth": 0,
             "ticks": ""
            },
            "type": "contourcarpet"
           }
          ],
          "heatmap": [
           {
            "colorbar": {
             "outlinewidth": 0,
             "ticks": ""
            },
            "colorscale": [
             [
              0,
              "#0d0887"
             ],
             [
              0.1111111111111111,
              "#46039f"
             ],
             [
              0.2222222222222222,
              "#7201a8"
             ],
             [
              0.3333333333333333,
              "#9c179e"
             ],
             [
              0.4444444444444444,
              "#bd3786"
             ],
             [
              0.5555555555555556,
              "#d8576b"
             ],
             [
              0.6666666666666666,
              "#ed7953"
             ],
             [
              0.7777777777777778,
              "#fb9f3a"
             ],
             [
              0.8888888888888888,
              "#fdca26"
             ],
             [
              1,
              "#f0f921"
             ]
            ],
            "type": "heatmap"
           }
          ],
          "heatmapgl": [
           {
            "colorbar": {
             "outlinewidth": 0,
             "ticks": ""
            },
            "colorscale": [
             [
              0,
              "#0d0887"
             ],
             [
              0.1111111111111111,
              "#46039f"
             ],
             [
              0.2222222222222222,
              "#7201a8"
             ],
             [
              0.3333333333333333,
              "#9c179e"
             ],
             [
              0.4444444444444444,
              "#bd3786"
             ],
             [
              0.5555555555555556,
              "#d8576b"
             ],
             [
              0.6666666666666666,
              "#ed7953"
             ],
             [
              0.7777777777777778,
              "#fb9f3a"
             ],
             [
              0.8888888888888888,
              "#fdca26"
             ],
             [
              1,
              "#f0f921"
             ]
            ],
            "type": "heatmapgl"
           }
          ],
          "histogram": [
           {
            "marker": {
             "colorbar": {
              "outlinewidth": 0,
              "ticks": ""
             }
            },
            "type": "histogram"
           }
          ],
          "histogram2d": [
           {
            "colorbar": {
             "outlinewidth": 0,
             "ticks": ""
            },
            "colorscale": [
             [
              0,
              "#0d0887"
             ],
             [
              0.1111111111111111,
              "#46039f"
             ],
             [
              0.2222222222222222,
              "#7201a8"
             ],
             [
              0.3333333333333333,
              "#9c179e"
             ],
             [
              0.4444444444444444,
              "#bd3786"
             ],
             [
              0.5555555555555556,
              "#d8576b"
             ],
             [
              0.6666666666666666,
              "#ed7953"
             ],
             [
              0.7777777777777778,
              "#fb9f3a"
             ],
             [
              0.8888888888888888,
              "#fdca26"
             ],
             [
              1,
              "#f0f921"
             ]
            ],
            "type": "histogram2d"
           }
          ],
          "histogram2dcontour": [
           {
            "colorbar": {
             "outlinewidth": 0,
             "ticks": ""
            },
            "colorscale": [
             [
              0,
              "#0d0887"
             ],
             [
              0.1111111111111111,
              "#46039f"
             ],
             [
              0.2222222222222222,
              "#7201a8"
             ],
             [
              0.3333333333333333,
              "#9c179e"
             ],
             [
              0.4444444444444444,
              "#bd3786"
             ],
             [
              0.5555555555555556,
              "#d8576b"
             ],
             [
              0.6666666666666666,
              "#ed7953"
             ],
             [
              0.7777777777777778,
              "#fb9f3a"
             ],
             [
              0.8888888888888888,
              "#fdca26"
             ],
             [
              1,
              "#f0f921"
             ]
            ],
            "type": "histogram2dcontour"
           }
          ],
          "mesh3d": [
           {
            "colorbar": {
             "outlinewidth": 0,
             "ticks": ""
            },
            "type": "mesh3d"
           }
          ],
          "parcoords": [
           {
            "line": {
             "colorbar": {
              "outlinewidth": 0,
              "ticks": ""
             }
            },
            "type": "parcoords"
           }
          ],
          "pie": [
           {
            "automargin": true,
            "type": "pie"
           }
          ],
          "scatter": [
           {
            "marker": {
             "colorbar": {
              "outlinewidth": 0,
              "ticks": ""
             }
            },
            "type": "scatter"
           }
          ],
          "scatter3d": [
           {
            "line": {
             "colorbar": {
              "outlinewidth": 0,
              "ticks": ""
             }
            },
            "marker": {
             "colorbar": {
              "outlinewidth": 0,
              "ticks": ""
             }
            },
            "type": "scatter3d"
           }
          ],
          "scattercarpet": [
           {
            "marker": {
             "colorbar": {
              "outlinewidth": 0,
              "ticks": ""
             }
            },
            "type": "scattercarpet"
           }
          ],
          "scattergeo": [
           {
            "marker": {
             "colorbar": {
              "outlinewidth": 0,
              "ticks": ""
             }
            },
            "type": "scattergeo"
           }
          ],
          "scattergl": [
           {
            "marker": {
             "colorbar": {
              "outlinewidth": 0,
              "ticks": ""
             }
            },
            "type": "scattergl"
           }
          ],
          "scattermapbox": [
           {
            "marker": {
             "colorbar": {
              "outlinewidth": 0,
              "ticks": ""
             }
            },
            "type": "scattermapbox"
           }
          ],
          "scatterpolar": [
           {
            "marker": {
             "colorbar": {
              "outlinewidth": 0,
              "ticks": ""
             }
            },
            "type": "scatterpolar"
           }
          ],
          "scatterpolargl": [
           {
            "marker": {
             "colorbar": {
              "outlinewidth": 0,
              "ticks": ""
             }
            },
            "type": "scatterpolargl"
           }
          ],
          "scatterternary": [
           {
            "marker": {
             "colorbar": {
              "outlinewidth": 0,
              "ticks": ""
             }
            },
            "type": "scatterternary"
           }
          ],
          "surface": [
           {
            "colorbar": {
             "outlinewidth": 0,
             "ticks": ""
            },
            "colorscale": [
             [
              0,
              "#0d0887"
             ],
             [
              0.1111111111111111,
              "#46039f"
             ],
             [
              0.2222222222222222,
              "#7201a8"
             ],
             [
              0.3333333333333333,
              "#9c179e"
             ],
             [
              0.4444444444444444,
              "#bd3786"
             ],
             [
              0.5555555555555556,
              "#d8576b"
             ],
             [
              0.6666666666666666,
              "#ed7953"
             ],
             [
              0.7777777777777778,
              "#fb9f3a"
             ],
             [
              0.8888888888888888,
              "#fdca26"
             ],
             [
              1,
              "#f0f921"
             ]
            ],
            "type": "surface"
           }
          ],
          "table": [
           {
            "cells": {
             "fill": {
              "color": "#EBF0F8"
             },
             "line": {
              "color": "white"
             }
            },
            "header": {
             "fill": {
              "color": "#C8D4E3"
             },
             "line": {
              "color": "white"
             }
            },
            "type": "table"
           }
          ]
         },
         "layout": {
          "annotationdefaults": {
           "arrowcolor": "#2a3f5f",
           "arrowhead": 0,
           "arrowwidth": 1
          },
          "coloraxis": {
           "colorbar": {
            "outlinewidth": 0,
            "ticks": ""
           }
          },
          "colorscale": {
           "diverging": [
            [
             0,
             "#8e0152"
            ],
            [
             0.1,
             "#c51b7d"
            ],
            [
             0.2,
             "#de77ae"
            ],
            [
             0.3,
             "#f1b6da"
            ],
            [
             0.4,
             "#fde0ef"
            ],
            [
             0.5,
             "#f7f7f7"
            ],
            [
             0.6,
             "#e6f5d0"
            ],
            [
             0.7,
             "#b8e186"
            ],
            [
             0.8,
             "#7fbc41"
            ],
            [
             0.9,
             "#4d9221"
            ],
            [
             1,
             "#276419"
            ]
           ],
           "sequential": [
            [
             0,
             "#0d0887"
            ],
            [
             0.1111111111111111,
             "#46039f"
            ],
            [
             0.2222222222222222,
             "#7201a8"
            ],
            [
             0.3333333333333333,
             "#9c179e"
            ],
            [
             0.4444444444444444,
             "#bd3786"
            ],
            [
             0.5555555555555556,
             "#d8576b"
            ],
            [
             0.6666666666666666,
             "#ed7953"
            ],
            [
             0.7777777777777778,
             "#fb9f3a"
            ],
            [
             0.8888888888888888,
             "#fdca26"
            ],
            [
             1,
             "#f0f921"
            ]
           ],
           "sequentialminus": [
            [
             0,
             "#0d0887"
            ],
            [
             0.1111111111111111,
             "#46039f"
            ],
            [
             0.2222222222222222,
             "#7201a8"
            ],
            [
             0.3333333333333333,
             "#9c179e"
            ],
            [
             0.4444444444444444,
             "#bd3786"
            ],
            [
             0.5555555555555556,
             "#d8576b"
            ],
            [
             0.6666666666666666,
             "#ed7953"
            ],
            [
             0.7777777777777778,
             "#fb9f3a"
            ],
            [
             0.8888888888888888,
             "#fdca26"
            ],
            [
             1,
             "#f0f921"
            ]
           ]
          },
          "colorway": [
           "#636efa",
           "#EF553B",
           "#00cc96",
           "#ab63fa",
           "#FFA15A",
           "#19d3f3",
           "#FF6692",
           "#B6E880",
           "#FF97FF",
           "#FECB52"
          ],
          "font": {
           "color": "#2a3f5f"
          },
          "geo": {
           "bgcolor": "white",
           "lakecolor": "white",
           "landcolor": "#E5ECF6",
           "showlakes": true,
           "showland": true,
           "subunitcolor": "white"
          },
          "hoverlabel": {
           "align": "left"
          },
          "hovermode": "closest",
          "mapbox": {
           "style": "light"
          },
          "paper_bgcolor": "white",
          "plot_bgcolor": "#E5ECF6",
          "polar": {
           "angularaxis": {
            "gridcolor": "white",
            "linecolor": "white",
            "ticks": ""
           },
           "bgcolor": "#E5ECF6",
           "radialaxis": {
            "gridcolor": "white",
            "linecolor": "white",
            "ticks": ""
           }
          },
          "scene": {
           "xaxis": {
            "backgroundcolor": "#E5ECF6",
            "gridcolor": "white",
            "gridwidth": 2,
            "linecolor": "white",
            "showbackground": true,
            "ticks": "",
            "zerolinecolor": "white"
           },
           "yaxis": {
            "backgroundcolor": "#E5ECF6",
            "gridcolor": "white",
            "gridwidth": 2,
            "linecolor": "white",
            "showbackground": true,
            "ticks": "",
            "zerolinecolor": "white"
           },
           "zaxis": {
            "backgroundcolor": "#E5ECF6",
            "gridcolor": "white",
            "gridwidth": 2,
            "linecolor": "white",
            "showbackground": true,
            "ticks": "",
            "zerolinecolor": "white"
           }
          },
          "shapedefaults": {
           "line": {
            "color": "#2a3f5f"
           }
          },
          "ternary": {
           "aaxis": {
            "gridcolor": "white",
            "linecolor": "white",
            "ticks": ""
           },
           "baxis": {
            "gridcolor": "white",
            "linecolor": "white",
            "ticks": ""
           },
           "bgcolor": "#E5ECF6",
           "caxis": {
            "gridcolor": "white",
            "linecolor": "white",
            "ticks": ""
           }
          },
          "title": {
           "x": 0.05
          },
          "xaxis": {
           "automargin": true,
           "gridcolor": "white",
           "linecolor": "white",
           "ticks": "",
           "title": {
            "standoff": 15
           },
           "zerolinecolor": "white",
           "zerolinewidth": 2
          },
          "yaxis": {
           "automargin": true,
           "gridcolor": "white",
           "linecolor": "white",
           "ticks": "",
           "title": {
            "standoff": 15
           },
           "zerolinecolor": "white",
           "zerolinewidth": 2
          }
         }
        },
        "width": 800,
        "xaxis": {
         "showgrid": false,
         "showline": false,
         "showticklabels": false,
         "title": {
          "text": ""
         },
         "zeroline": false
        },
        "yaxis": {
         "showgrid": false,
         "showline": false,
         "showticklabels": false,
         "title": {
          "text": ""
         },
         "zeroline": false
        }
       }
      },
      "text/html": [
       "<div>\n",
       "        \n",
       "        \n",
       "            <div id=\"91ddc2ec-b961-4771-b062-5c0d5860a37e\" class=\"plotly-graph-div\" style=\"height:600px; width:800px;\"></div>\n",
       "            <script type=\"text/javascript\">\n",
       "                require([\"plotly\"], function(Plotly) {\n",
       "                    window.PLOTLYENV=window.PLOTLYENV || {};\n",
       "                    \n",
       "                if (document.getElementById(\"91ddc2ec-b961-4771-b062-5c0d5860a37e\")) {\n",
       "                    Plotly.newPlot(\n",
       "                        '91ddc2ec-b961-4771-b062-5c0d5860a37e',\n",
       "                        [{\"hoverinfo\": \"none\", \"line\": {\"color\": \"gray\", \"width\": 1}, \"mode\": \"lines\", \"name\": \"paraphrase\", \"showlegend\": true, \"type\": \"scatter\", \"x\": [-0.3448917273663865, -0.28400546287920214, null, -0.3448917273663865, -0.32216243828290025, null, -0.3448917273663865, -0.39695846404216995, null, -0.3448917273663865, -0.22903946493897392, null, -0.3448917273663865, -0.24697663326226713, null, -0.3448917273663865, -0.33678918524251017, null, -0.3448917273663865, -0.24706166847334432, null, -0.3448917273663865, -0.17173413777222704, null, -0.3448917273663865, -0.20059268395366306, null, -0.3448917273663865, -0.25864352861545536, null, -0.3448917273663865, -0.3701614718988464, null, -0.3448917273663865, -0.4403552822810038, null, -0.24697663326226713, -0.20059268395366306, null, -0.24697663326226713, -0.32216243828290025, null, -0.24697663326226713, -0.22903946493897392, null, -0.24697663326226713, -0.17173413777222704, null, -0.24697663326226713, -0.03575200055809637, null, -0.24697663326226713, -0.3701614718988464, null, -0.24697663326226713, -0.2972595495437783, null, -0.24697663326226713, -0.39695846404216995, null, -0.24697663326226713, -0.24706166847334432, null, -0.24697663326226713, -0.25864352861545536, null, -0.24697663326226713, -0.28400546287920214, null, -0.24697663326226713, -0.33678918524251017, null, 0.9448820754284939, 0.9999999999999999, null, 0.9448820754284939, 0.7555077253574461, null, 0.9448820754284939, 0.7880777856805369, null, 0.9448820754284939, 0.9418958226158908, null, 0.9418958226158908, 0.7880777856805369, null, 0.9418958226158908, 0.7555077253574461, null, -0.3701614718988464, -0.2972595495437783, null, -0.3701614718988464, -0.17173413777222704, null, -0.3701614718988464, -0.28400546287920214, null, -0.3701614718988464, -0.33678918524251017, null, -0.3701614718988464, -0.39695846404216995, null, -0.3701614718988464, -0.32216243828290025, null, -0.3701614718988464, -0.20059268395366306, null, -0.3701614718988464, -0.24706166847334432, null, 0.02785584878075448, 0.04417159141779655, null, -0.20059268395366306, -0.32216243828290025, null, -0.20059268395366306, -0.24706166847334432, null, -0.20059268395366306, -0.03575200055809637, null, -0.20059268395366306, -0.28400546287920214, null, -0.20059268395366306, -0.17173413777222704, null, -0.20059268395366306, -0.33678918524251017, null, -0.20059268395366306, -0.22903946493897392, null, -0.20059268395366306, -0.2972595495437783, null, -0.4729967306942842, -0.37603197666283983, null, -0.32216243828290025, -0.25864352861545536, null, -0.32216243828290025, -0.22903946493897392, null, -0.32216243828290025, -0.17173413777222704, null, -0.32216243828290025, -0.4403552822810038, null, -0.32216243828290025, -0.39695846404216995, null, -0.32216243828290025, -0.28400546287920214, null, 0.9999999999999999, 0.7880777856805369, null, -0.4403552822810038, -0.25864352861545536, null, 0.7880777856805369, 0.7555077253574461, null, 0.7880777856805369, 0.4511535726307945, null, -0.22903946493897392, -0.39695846404216995, null, -0.22903946493897392, -0.28400546287920214, null, -0.22903946493897392, -0.24706166847334432, null, -0.22903946493897392, -0.2972595495437783, null, -0.22903946493897392, -0.33678918524251017, null, -0.22903946493897392, -0.17173413777222704, null, -0.39695846404216995, -0.17173413777222704, null, -0.39695846404216995, -0.24706166847334432, null, -0.39695846404216995, -0.28400546287920214, null, -0.39695846404216995, -0.33678918524251017, null, -0.03575200055809637, -0.28400546287920214, null, -0.03575200055809637, 0.07786798455623437, null, -0.03575200055809637, -0.17173413777222704, null, -0.03575200055809637, -0.24706166847334432, null, -0.24706166847334432, -0.33678918524251017, null, -0.24706166847334432, -0.28400546287920214, null, -0.24706166847334432, -0.17173413777222704, null, -0.24706166847334432, -0.2972595495437783, null, -0.2972595495437783, -0.28400546287920214, null, -0.2972595495437783, -0.17173413777222704, null, -0.2972595495437783, -0.33678918524251017, null, -0.17173413777222704, 0.07786798455623437, null, -0.17173413777222704, -0.33678918524251017, null, -0.17173413777222704, -0.28400546287920214, null, -0.28400546287920214, -0.33678918524251017, null, 0.4511535726307945, 0.7555077253574461, null], \"y\": [0.009846947654012336, 0.08928908974626339, null, 0.009846947654012336, -0.04841523227553937, null, 0.009846947654012336, 0.0749726202222063, null, 0.009846947654012336, 0.08590568515943021, null, 0.009846947654012336, 0.02419399359830801, null, 0.009846947654012336, 0.18006886752112658, null, 0.009846947654012336, 0.2189919211023719, null, 0.009846947654012336, 0.08608912436458338, null, 0.009846947654012336, 0.13901580074040656, null, 0.009846947654012336, -0.1660795947600163, null, 0.009846947654012336, 0.13204707294036536, null, 0.009846947654012336, -0.20111628014644634, null, 0.02419399359830801, 0.13901580074040656, null, 0.02419399359830801, -0.04841523227553937, null, 0.02419399359830801, 0.08590568515943021, null, 0.02419399359830801, 0.08608912436458338, null, 0.02419399359830801, -0.037615856813623096, null, 0.02419399359830801, 0.13204707294036536, null, 0.02419399359830801, 0.24521790704519394, null, 0.02419399359830801, 0.0749726202222063, null, 0.02419399359830801, 0.2189919211023719, null, 0.02419399359830801, -0.1660795947600163, null, 0.02419399359830801, 0.08928908974626339, null, 0.02419399359830801, 0.18006886752112658, null, -0.250804866971767, -0.37167641652474565, null, -0.250804866971767, -0.1477534209731426, null, -0.250804866971767, -0.24321429685467166, null, -0.250804866971767, -0.13645721764532392, null, -0.13645721764532392, -0.24321429685467166, null, -0.13645721764532392, -0.1477534209731426, null, 0.13204707294036536, 0.24521790704519394, null, 0.13204707294036536, 0.08608912436458338, null, 0.13204707294036536, 0.08928908974626339, null, 0.13204707294036536, 0.18006886752112658, null, 0.13204707294036536, 0.0749726202222063, null, 0.13204707294036536, -0.04841523227553937, null, 0.13204707294036536, 0.13901580074040656, null, 0.13204707294036536, 0.2189919211023719, null, -0.3933383460890349, -0.6570807093676464, null, 0.13901580074040656, -0.04841523227553937, null, 0.13901580074040656, 0.2189919211023719, null, 0.13901580074040656, -0.037615856813623096, null, 0.13901580074040656, 0.08928908974626339, null, 0.13901580074040656, 0.08608912436458338, null, 0.13901580074040656, 0.18006886752112658, null, 0.13901580074040656, 0.08590568515943021, null, 0.13901580074040656, 0.24521790704519394, null, 0.8261252218699608, 0.5803432351281913, null, -0.04841523227553937, -0.1660795947600163, null, -0.04841523227553937, 0.08590568515943021, null, -0.04841523227553937, 0.08608912436458338, null, -0.04841523227553937, -0.20111628014644634, null, -0.04841523227553937, 0.0749726202222063, null, -0.04841523227553937, 0.08928908974626339, null, -0.37167641652474565, -0.24321429685467166, null, -0.20111628014644634, -0.1660795947600163, null, -0.24321429685467166, -0.1477534209731426, null, -0.24321429685467166, -0.13473183636784794, null, 0.08590568515943021, 0.0749726202222063, null, 0.08590568515943021, 0.08928908974626339, null, 0.08590568515943021, 0.2189919211023719, null, 0.08590568515943021, 0.24521790704519394, null, 0.08590568515943021, 0.18006886752112658, null, 0.08590568515943021, 0.08608912436458338, null, 0.0749726202222063, 0.08608912436458338, null, 0.0749726202222063, 0.2189919211023719, null, 0.0749726202222063, 0.08928908974626339, null, 0.0749726202222063, 0.18006886752112658, null, -0.037615856813623096, 0.08928908974626339, null, -0.037615856813623096, 0.09617658769738471, null, -0.037615856813623096, 0.08608912436458338, null, -0.037615856813623096, 0.2189919211023719, null, 0.2189919211023719, 0.18006886752112658, null, 0.2189919211023719, 0.08928908974626339, null, 0.2189919211023719, 0.08608912436458338, null, 0.2189919211023719, 0.24521790704519394, null, 0.24521790704519394, 0.08928908974626339, null, 0.24521790704519394, 0.08608912436458338, null, 0.24521790704519394, 0.18006886752112658, null, 0.08608912436458338, 0.09617658769738471, null, 0.08608912436458338, 0.18006886752112658, null, 0.08608912436458338, 0.08928908974626339, null, 0.08928908974626339, 0.18006886752112658, null, -0.13473183636784794, -0.1477534209731426, null]}, {\"hoverinfo\": \"none\", \"line\": {\"color\": \"gray\", \"dash\": \"dash\", \"width\": 1}, \"mode\": \"lines\", \"name\": \"non-paraphrase\", \"showlegend\": true, \"type\": \"scatter\", \"x\": [0.02785584878075448, -0.03575200055809637, null, -0.37603197666283983, -0.24706166847334432, null, -0.03575200055809637, 0.4511535726307945, null], \"y\": [-0.3933383460890349, -0.037615856813623096, null, 0.5803432351281913, 0.2189919211023719, null, -0.037615856813623096, -0.13473183636784794, null]}, {\"hoverinfo\": \"none\", \"line\": {\"color\": \"mediumvioletred\", \"dash\": \"dash\", \"width\": 1}, \"mode\": \"lines\", \"name\": \"conflicted\", \"showlegend\": true, \"type\": \"scatter\", \"x\": [-0.03575200055809637, -0.22903946493897392, null, -0.03575200055809637, -0.25864352861545536, null], \"y\": [-0.037615856813623096, 0.08590568515943021, null, -0.037615856813623096, -0.1660795947600163, null]}, {\"marker\": {\"color\": [\"rgb(102,194,165)\", \"rgb(102,194,165)\", \"rgb(158,1,66)\", \"rgb(158,1,66)\", \"rgb(102,194,165)\", \"rgb(213,62,79)\", \"rgb(102,194,165)\", \"rgb(171,221,164)\", \"rgb(171,221,164)\", \"rgb(102,194,165)\", \"rgb(213,62,79)\", \"rgb(158,1,66)\", \"rgb(102,194,165)\", \"rgb(158,1,66)\", \"rgb(102,194,165)\", \"rgb(102,194,165)\", \"rgb(102,194,165)\", \"rgb(102,194,165)\", \"rgb(102,194,165)\", \"rgb(102,194,165)\", \"rgb(102,194,165)\", \"rgb(102,194,165)\", \"rgb(158,1,66)\", \"rgb(102,194,165)\", \"rgb(158,1,66)\", \"rgb(102,194,165)\"], \"line\": {\"color\": \"rgb(50,50,50)\", \"width\": 0.5}, \"size\": 10, \"symbol\": \"circle-dot\"}, \"mode\": \"markers+text\", \"showlegend\": false, \"text\": [\"A0\", \"A2\", \"B1\", \"B3\", \"A5\", \"C0\", \"A10\", \"D1\", \"D0\", \"A6\", \"C1\", \"B4\", \"A14\", \"B5\", \"A13\", \"A15\", \"A3\", \"A4\", \"A7\", \"A8\", \"A12\", \"A11\", \"B0\", \"A1\", \"B2\", \"A9\"], \"textfont\": {\"size\": 17}, \"textposition\": \"top center\", \"type\": \"scatter\", \"x\": [-0.3448917273663865, -0.24697663326226713, 0.9448820754284939, 0.9418958226158908, -0.3701614718988464, 0.02785584878075448, -0.20059268395366306, -0.4729967306942842, -0.37603197666283983, -0.32216243828290025, 0.04417159141779655, 0.9999999999999999, -0.4403552822810038, 0.7880777856805369, -0.22903946493897392, -0.39695846404216995, -0.25864352861545536, -0.03575200055809637, -0.24706166847334432, -0.2972595495437783, -0.17173413777222704, -0.28400546287920214, 0.4511535726307945, -0.33678918524251017, 0.7555077253574461, 0.07786798455623437], \"y\": [0.009846947654012336, 0.02419399359830801, -0.250804866971767, -0.13645721764532392, 0.13204707294036536, -0.3933383460890349, 0.13901580074040656, 0.8261252218699608, 0.5803432351281913, -0.04841523227553937, -0.6570807093676464, -0.37167641652474565, -0.20111628014644634, -0.24321429685467166, 0.08590568515943021, 0.0749726202222063, -0.1660795947600163, -0.037615856813623096, 0.2189919211023719, 0.24521790704519394, 0.08608912436458338, 0.08928908974626339, -0.13473183636784794, 0.18006886752112658, -0.1477534209731426, 0.09617658769738471]}],\n",
       "                        {\"autosize\": false, \"font\": {\"size\": 12}, \"height\": 600, \"hovermode\": \"closest\", \"margin\": {\"b\": 20, \"l\": 5, \"r\": 5, \"t\": 40}, \"template\": {\"data\": {\"bar\": [{\"error_x\": {\"color\": \"#2a3f5f\"}, \"error_y\": {\"color\": \"#2a3f5f\"}, \"marker\": {\"line\": {\"color\": \"#E5ECF6\", \"width\": 0.5}}, \"type\": \"bar\"}], \"barpolar\": [{\"marker\": {\"line\": {\"color\": \"#E5ECF6\", \"width\": 0.5}}, \"type\": \"barpolar\"}], \"carpet\": [{\"aaxis\": {\"endlinecolor\": \"#2a3f5f\", \"gridcolor\": \"white\", \"linecolor\": \"white\", \"minorgridcolor\": \"white\", \"startlinecolor\": \"#2a3f5f\"}, \"baxis\": {\"endlinecolor\": \"#2a3f5f\", \"gridcolor\": \"white\", \"linecolor\": \"white\", \"minorgridcolor\": \"white\", \"startlinecolor\": \"#2a3f5f\"}, \"type\": \"carpet\"}], \"choropleth\": [{\"colorbar\": {\"outlinewidth\": 0, \"ticks\": \"\"}, \"type\": \"choropleth\"}], \"contour\": [{\"colorbar\": {\"outlinewidth\": 0, \"ticks\": \"\"}, \"colorscale\": [[0.0, \"#0d0887\"], [0.1111111111111111, \"#46039f\"], [0.2222222222222222, \"#7201a8\"], [0.3333333333333333, \"#9c179e\"], [0.4444444444444444, \"#bd3786\"], [0.5555555555555556, \"#d8576b\"], [0.6666666666666666, \"#ed7953\"], [0.7777777777777778, \"#fb9f3a\"], [0.8888888888888888, \"#fdca26\"], [1.0, \"#f0f921\"]], \"type\": \"contour\"}], \"contourcarpet\": [{\"colorbar\": {\"outlinewidth\": 0, \"ticks\": \"\"}, \"type\": \"contourcarpet\"}], \"heatmap\": [{\"colorbar\": {\"outlinewidth\": 0, \"ticks\": \"\"}, \"colorscale\": [[0.0, \"#0d0887\"], [0.1111111111111111, \"#46039f\"], [0.2222222222222222, \"#7201a8\"], [0.3333333333333333, \"#9c179e\"], [0.4444444444444444, \"#bd3786\"], [0.5555555555555556, \"#d8576b\"], [0.6666666666666666, \"#ed7953\"], [0.7777777777777778, \"#fb9f3a\"], [0.8888888888888888, \"#fdca26\"], [1.0, \"#f0f921\"]], \"type\": \"heatmap\"}], \"heatmapgl\": [{\"colorbar\": {\"outlinewidth\": 0, \"ticks\": \"\"}, \"colorscale\": [[0.0, \"#0d0887\"], [0.1111111111111111, \"#46039f\"], [0.2222222222222222, \"#7201a8\"], [0.3333333333333333, \"#9c179e\"], [0.4444444444444444, \"#bd3786\"], [0.5555555555555556, \"#d8576b\"], [0.6666666666666666, \"#ed7953\"], [0.7777777777777778, \"#fb9f3a\"], [0.8888888888888888, \"#fdca26\"], [1.0, \"#f0f921\"]], \"type\": \"heatmapgl\"}], \"histogram\": [{\"marker\": {\"colorbar\": {\"outlinewidth\": 0, \"ticks\": \"\"}}, \"type\": \"histogram\"}], \"histogram2d\": [{\"colorbar\": {\"outlinewidth\": 0, \"ticks\": \"\"}, \"colorscale\": [[0.0, \"#0d0887\"], [0.1111111111111111, \"#46039f\"], [0.2222222222222222, \"#7201a8\"], [0.3333333333333333, \"#9c179e\"], [0.4444444444444444, \"#bd3786\"], [0.5555555555555556, \"#d8576b\"], [0.6666666666666666, \"#ed7953\"], [0.7777777777777778, \"#fb9f3a\"], [0.8888888888888888, \"#fdca26\"], [1.0, \"#f0f921\"]], \"type\": \"histogram2d\"}], \"histogram2dcontour\": [{\"colorbar\": {\"outlinewidth\": 0, \"ticks\": \"\"}, \"colorscale\": [[0.0, \"#0d0887\"], [0.1111111111111111, \"#46039f\"], [0.2222222222222222, \"#7201a8\"], [0.3333333333333333, \"#9c179e\"], [0.4444444444444444, \"#bd3786\"], [0.5555555555555556, \"#d8576b\"], [0.6666666666666666, \"#ed7953\"], [0.7777777777777778, \"#fb9f3a\"], [0.8888888888888888, \"#fdca26\"], [1.0, \"#f0f921\"]], \"type\": \"histogram2dcontour\"}], \"mesh3d\": [{\"colorbar\": {\"outlinewidth\": 0, \"ticks\": \"\"}, \"type\": \"mesh3d\"}], \"parcoords\": [{\"line\": {\"colorbar\": {\"outlinewidth\": 0, \"ticks\": \"\"}}, \"type\": \"parcoords\"}], \"pie\": [{\"automargin\": true, \"type\": \"pie\"}], \"scatter\": [{\"marker\": {\"colorbar\": {\"outlinewidth\": 0, \"ticks\": \"\"}}, \"type\": \"scatter\"}], \"scatter3d\": [{\"line\": {\"colorbar\": {\"outlinewidth\": 0, \"ticks\": \"\"}}, \"marker\": {\"colorbar\": {\"outlinewidth\": 0, \"ticks\": \"\"}}, \"type\": \"scatter3d\"}], \"scattercarpet\": [{\"marker\": {\"colorbar\": {\"outlinewidth\": 0, \"ticks\": \"\"}}, \"type\": \"scattercarpet\"}], \"scattergeo\": [{\"marker\": {\"colorbar\": {\"outlinewidth\": 0, \"ticks\": \"\"}}, \"type\": \"scattergeo\"}], \"scattergl\": [{\"marker\": {\"colorbar\": {\"outlinewidth\": 0, \"ticks\": \"\"}}, \"type\": \"scattergl\"}], \"scattermapbox\": [{\"marker\": {\"colorbar\": {\"outlinewidth\": 0, \"ticks\": \"\"}}, \"type\": \"scattermapbox\"}], \"scatterpolar\": [{\"marker\": {\"colorbar\": {\"outlinewidth\": 0, \"ticks\": \"\"}}, \"type\": \"scatterpolar\"}], \"scatterpolargl\": [{\"marker\": {\"colorbar\": {\"outlinewidth\": 0, \"ticks\": \"\"}}, \"type\": \"scatterpolargl\"}], \"scatterternary\": [{\"marker\": {\"colorbar\": {\"outlinewidth\": 0, \"ticks\": \"\"}}, \"type\": \"scatterternary\"}], \"surface\": [{\"colorbar\": {\"outlinewidth\": 0, \"ticks\": \"\"}, \"colorscale\": [[0.0, \"#0d0887\"], [0.1111111111111111, \"#46039f\"], [0.2222222222222222, \"#7201a8\"], [0.3333333333333333, \"#9c179e\"], [0.4444444444444444, \"#bd3786\"], [0.5555555555555556, \"#d8576b\"], [0.6666666666666666, \"#ed7953\"], [0.7777777777777778, \"#fb9f3a\"], [0.8888888888888888, \"#fdca26\"], [1.0, \"#f0f921\"]], \"type\": \"surface\"}], \"table\": [{\"cells\": {\"fill\": {\"color\": \"#EBF0F8\"}, \"line\": {\"color\": \"white\"}}, \"header\": {\"fill\": {\"color\": \"#C8D4E3\"}, \"line\": {\"color\": \"white\"}}, \"type\": \"table\"}]}, \"layout\": {\"annotationdefaults\": {\"arrowcolor\": \"#2a3f5f\", \"arrowhead\": 0, \"arrowwidth\": 1}, \"coloraxis\": {\"colorbar\": {\"outlinewidth\": 0, \"ticks\": \"\"}}, \"colorscale\": {\"diverging\": [[0, \"#8e0152\"], [0.1, \"#c51b7d\"], [0.2, \"#de77ae\"], [0.3, \"#f1b6da\"], [0.4, \"#fde0ef\"], [0.5, \"#f7f7f7\"], [0.6, \"#e6f5d0\"], [0.7, \"#b8e186\"], [0.8, \"#7fbc41\"], [0.9, \"#4d9221\"], [1, \"#276419\"]], \"sequential\": [[0.0, \"#0d0887\"], [0.1111111111111111, \"#46039f\"], [0.2222222222222222, \"#7201a8\"], [0.3333333333333333, \"#9c179e\"], [0.4444444444444444, \"#bd3786\"], [0.5555555555555556, \"#d8576b\"], [0.6666666666666666, \"#ed7953\"], [0.7777777777777778, \"#fb9f3a\"], [0.8888888888888888, \"#fdca26\"], [1.0, \"#f0f921\"]], \"sequentialminus\": [[0.0, \"#0d0887\"], [0.1111111111111111, \"#46039f\"], [0.2222222222222222, \"#7201a8\"], [0.3333333333333333, \"#9c179e\"], [0.4444444444444444, \"#bd3786\"], [0.5555555555555556, \"#d8576b\"], [0.6666666666666666, \"#ed7953\"], [0.7777777777777778, \"#fb9f3a\"], [0.8888888888888888, \"#fdca26\"], [1.0, \"#f0f921\"]]}, \"colorway\": [\"#636efa\", \"#EF553B\", \"#00cc96\", \"#ab63fa\", \"#FFA15A\", \"#19d3f3\", \"#FF6692\", \"#B6E880\", \"#FF97FF\", \"#FECB52\"], \"font\": {\"color\": \"#2a3f5f\"}, \"geo\": {\"bgcolor\": \"white\", \"lakecolor\": \"white\", \"landcolor\": \"#E5ECF6\", \"showlakes\": true, \"showland\": true, \"subunitcolor\": \"white\"}, \"hoverlabel\": {\"align\": \"left\"}, \"hovermode\": \"closest\", \"mapbox\": {\"style\": \"light\"}, \"paper_bgcolor\": \"white\", \"plot_bgcolor\": \"#E5ECF6\", \"polar\": {\"angularaxis\": {\"gridcolor\": \"white\", \"linecolor\": \"white\", \"ticks\": \"\"}, \"bgcolor\": \"#E5ECF6\", \"radialaxis\": {\"gridcolor\": \"white\", \"linecolor\": \"white\", \"ticks\": \"\"}}, \"scene\": {\"xaxis\": {\"backgroundcolor\": \"#E5ECF6\", \"gridcolor\": \"white\", \"gridwidth\": 2, \"linecolor\": \"white\", \"showbackground\": true, \"ticks\": \"\", \"zerolinecolor\": \"white\"}, \"yaxis\": {\"backgroundcolor\": \"#E5ECF6\", \"gridcolor\": \"white\", \"gridwidth\": 2, \"linecolor\": \"white\", \"showbackground\": true, \"ticks\": \"\", \"zerolinecolor\": \"white\"}, \"zaxis\": {\"backgroundcolor\": \"#E5ECF6\", \"gridcolor\": \"white\", \"gridwidth\": 2, \"linecolor\": \"white\", \"showbackground\": true, \"ticks\": \"\", \"zerolinecolor\": \"white\"}}, \"shapedefaults\": {\"line\": {\"color\": \"#2a3f5f\"}}, \"ternary\": {\"aaxis\": {\"gridcolor\": \"white\", \"linecolor\": \"white\", \"ticks\": \"\"}, \"baxis\": {\"gridcolor\": \"white\", \"linecolor\": \"white\", \"ticks\": \"\"}, \"bgcolor\": \"#E5ECF6\", \"caxis\": {\"gridcolor\": \"white\", \"linecolor\": \"white\", \"ticks\": \"\"}}, \"title\": {\"x\": 0.05}, \"xaxis\": {\"automargin\": true, \"gridcolor\": \"white\", \"linecolor\": \"white\", \"ticks\": \"\", \"title\": {\"standoff\": 15}, \"zerolinecolor\": \"white\", \"zerolinewidth\": 2}, \"yaxis\": {\"automargin\": true, \"gridcolor\": \"white\", \"linecolor\": \"white\", \"ticks\": \"\", \"title\": {\"standoff\": 15}, \"zerolinecolor\": \"white\", \"zerolinewidth\": 2}}}, \"width\": 800, \"xaxis\": {\"showgrid\": false, \"showline\": false, \"showticklabels\": false, \"title\": {\"text\": \"\"}, \"zeroline\": false}, \"yaxis\": {\"showgrid\": false, \"showline\": false, \"showticklabels\": false, \"title\": {\"text\": \"\"}, \"zeroline\": false}},\n",
       "                        {\"responsive\": true}\n",
       "                    ).then(function(){\n",
       "                            \n",
       "var gd = document.getElementById('91ddc2ec-b961-4771-b062-5c0d5860a37e');\n",
       "var x = new MutationObserver(function (mutations, observer) {{\n",
       "        var display = window.getComputedStyle(gd).display;\n",
       "        if (!display || display === 'none') {{\n",
       "            console.log([gd, 'removed!']);\n",
       "            Plotly.purge(gd);\n",
       "            observer.disconnect();\n",
       "        }}\n",
       "}});\n",
       "\n",
       "// Listen for the removal of the full notebook cells\n",
       "var notebookContainer = gd.closest('#notebook-container');\n",
       "if (notebookContainer) {{\n",
       "    x.observe(notebookContainer, {childList: true});\n",
       "}}\n",
       "\n",
       "// Listen for the clearing of the current output cell\n",
       "var outputEl = gd.closest('.output');\n",
       "if (outputEl) {{\n",
       "    x.observe(outputEl, {childList: true});\n",
       "}}\n",
       "\n",
       "                        })\n",
       "                };\n",
       "                });\n",
       "            </script>\n",
       "        </div>"
      ]
     },
     "metadata": {},
     "output_type": "display_data"
    }
   ],
   "source": [
    "index = 2\n",
    "plot(unbalanced_subgraphs[index], mislabeled_pairs[index])"
   ]
  },
  {
   "cell_type": "code",
   "execution_count": 86,
   "metadata": {},
   "outputs": [
    {
     "name": "stdout",
     "output_type": "stream",
     "text": [
      "A: Can history repeat itself?\n",
      "B: Will the history repeat itself?\n",
      "C: Is history repeating itself?\n",
      "D: What proves that history repeats itself?\n"
     ]
    },
    {
     "data": {
      "application/vnd.plotly.v1+json": {
       "config": {
        "plotlyServerURL": "https://plot.ly"
       },
       "data": [
        {
         "hoverinfo": "none",
         "line": {
          "color": "gray",
          "width": 1
         },
         "mode": "lines",
         "name": "paraphrase",
         "showlegend": true,
         "type": "scatter",
         "x": [
          0.23170469063023386,
          1,
          null,
          0.23170469063023386,
          -0.9999999999996384,
          null,
          -0.9999999999996384,
          -0.23170469063059534,
          null,
          1,
          -0.23170469063059534,
          null
         ],
         "y": [
          0.4573322058200295,
          -0.5066441586254915,
          null,
          0.4573322058200295,
          0.5066441586262048,
          null,
          0.5066441586262048,
          -0.457332205820743,
          null,
          -0.5066441586254915,
          -0.457332205820743,
          null
         ]
        },
        {
         "hoverinfo": "none",
         "line": {
          "color": "gray",
          "dash": "dash",
          "width": 1
         },
         "mode": "lines",
         "name": "non-paraphrase",
         "showlegend": true,
         "type": "scatter",
         "x": [],
         "y": []
        },
        {
         "hoverinfo": "none",
         "line": {
          "color": "mediumvioletred",
          "dash": "dash",
          "width": 1
         },
         "mode": "lines",
         "name": "conflicted",
         "showlegend": true,
         "type": "scatter",
         "x": [
          0.23170469063023386,
          -0.23170469063059534,
          null
         ],
         "y": [
          0.4573322058200295,
          -0.457332205820743,
          null
         ]
        },
        {
         "marker": {
          "color": [
           "rgb(94,79,162)",
           "rgb(94,79,162)",
           "rgb(94,79,162)",
           "rgb(94,79,162)"
          ],
          "line": {
           "color": "rgb(50,50,50)",
           "width": 0.5
          },
          "size": 10,
          "symbol": "circle-dot"
         },
         "mode": "markers+text",
         "showlegend": false,
         "text": [
          "A",
          "B",
          "C",
          "D"
         ],
         "textfont": {
          "size": 17
         },
         "textposition": "top center",
         "type": "scatter",
         "x": [
          0.23170469063023386,
          -0.9999999999996384,
          1,
          -0.23170469063059534
         ],
         "y": [
          0.4573322058200295,
          0.5066441586262048,
          -0.5066441586254915,
          -0.457332205820743
         ]
        }
       ],
       "layout": {
        "autosize": false,
        "font": {
         "size": 12
        },
        "height": 600,
        "hovermode": "closest",
        "margin": {
         "b": 20,
         "l": 5,
         "r": 5,
         "t": 40
        },
        "template": {
         "data": {
          "bar": [
           {
            "error_x": {
             "color": "#2a3f5f"
            },
            "error_y": {
             "color": "#2a3f5f"
            },
            "marker": {
             "line": {
              "color": "#E5ECF6",
              "width": 0.5
             }
            },
            "type": "bar"
           }
          ],
          "barpolar": [
           {
            "marker": {
             "line": {
              "color": "#E5ECF6",
              "width": 0.5
             }
            },
            "type": "barpolar"
           }
          ],
          "carpet": [
           {
            "aaxis": {
             "endlinecolor": "#2a3f5f",
             "gridcolor": "white",
             "linecolor": "white",
             "minorgridcolor": "white",
             "startlinecolor": "#2a3f5f"
            },
            "baxis": {
             "endlinecolor": "#2a3f5f",
             "gridcolor": "white",
             "linecolor": "white",
             "minorgridcolor": "white",
             "startlinecolor": "#2a3f5f"
            },
            "type": "carpet"
           }
          ],
          "choropleth": [
           {
            "colorbar": {
             "outlinewidth": 0,
             "ticks": ""
            },
            "type": "choropleth"
           }
          ],
          "contour": [
           {
            "colorbar": {
             "outlinewidth": 0,
             "ticks": ""
            },
            "colorscale": [
             [
              0,
              "#0d0887"
             ],
             [
              0.1111111111111111,
              "#46039f"
             ],
             [
              0.2222222222222222,
              "#7201a8"
             ],
             [
              0.3333333333333333,
              "#9c179e"
             ],
             [
              0.4444444444444444,
              "#bd3786"
             ],
             [
              0.5555555555555556,
              "#d8576b"
             ],
             [
              0.6666666666666666,
              "#ed7953"
             ],
             [
              0.7777777777777778,
              "#fb9f3a"
             ],
             [
              0.8888888888888888,
              "#fdca26"
             ],
             [
              1,
              "#f0f921"
             ]
            ],
            "type": "contour"
           }
          ],
          "contourcarpet": [
           {
            "colorbar": {
             "outlinewidth": 0,
             "ticks": ""
            },
            "type": "contourcarpet"
           }
          ],
          "heatmap": [
           {
            "colorbar": {
             "outlinewidth": 0,
             "ticks": ""
            },
            "colorscale": [
             [
              0,
              "#0d0887"
             ],
             [
              0.1111111111111111,
              "#46039f"
             ],
             [
              0.2222222222222222,
              "#7201a8"
             ],
             [
              0.3333333333333333,
              "#9c179e"
             ],
             [
              0.4444444444444444,
              "#bd3786"
             ],
             [
              0.5555555555555556,
              "#d8576b"
             ],
             [
              0.6666666666666666,
              "#ed7953"
             ],
             [
              0.7777777777777778,
              "#fb9f3a"
             ],
             [
              0.8888888888888888,
              "#fdca26"
             ],
             [
              1,
              "#f0f921"
             ]
            ],
            "type": "heatmap"
           }
          ],
          "heatmapgl": [
           {
            "colorbar": {
             "outlinewidth": 0,
             "ticks": ""
            },
            "colorscale": [
             [
              0,
              "#0d0887"
             ],
             [
              0.1111111111111111,
              "#46039f"
             ],
             [
              0.2222222222222222,
              "#7201a8"
             ],
             [
              0.3333333333333333,
              "#9c179e"
             ],
             [
              0.4444444444444444,
              "#bd3786"
             ],
             [
              0.5555555555555556,
              "#d8576b"
             ],
             [
              0.6666666666666666,
              "#ed7953"
             ],
             [
              0.7777777777777778,
              "#fb9f3a"
             ],
             [
              0.8888888888888888,
              "#fdca26"
             ],
             [
              1,
              "#f0f921"
             ]
            ],
            "type": "heatmapgl"
           }
          ],
          "histogram": [
           {
            "marker": {
             "colorbar": {
              "outlinewidth": 0,
              "ticks": ""
             }
            },
            "type": "histogram"
           }
          ],
          "histogram2d": [
           {
            "colorbar": {
             "outlinewidth": 0,
             "ticks": ""
            },
            "colorscale": [
             [
              0,
              "#0d0887"
             ],
             [
              0.1111111111111111,
              "#46039f"
             ],
             [
              0.2222222222222222,
              "#7201a8"
             ],
             [
              0.3333333333333333,
              "#9c179e"
             ],
             [
              0.4444444444444444,
              "#bd3786"
             ],
             [
              0.5555555555555556,
              "#d8576b"
             ],
             [
              0.6666666666666666,
              "#ed7953"
             ],
             [
              0.7777777777777778,
              "#fb9f3a"
             ],
             [
              0.8888888888888888,
              "#fdca26"
             ],
             [
              1,
              "#f0f921"
             ]
            ],
            "type": "histogram2d"
           }
          ],
          "histogram2dcontour": [
           {
            "colorbar": {
             "outlinewidth": 0,
             "ticks": ""
            },
            "colorscale": [
             [
              0,
              "#0d0887"
             ],
             [
              0.1111111111111111,
              "#46039f"
             ],
             [
              0.2222222222222222,
              "#7201a8"
             ],
             [
              0.3333333333333333,
              "#9c179e"
             ],
             [
              0.4444444444444444,
              "#bd3786"
             ],
             [
              0.5555555555555556,
              "#d8576b"
             ],
             [
              0.6666666666666666,
              "#ed7953"
             ],
             [
              0.7777777777777778,
              "#fb9f3a"
             ],
             [
              0.8888888888888888,
              "#fdca26"
             ],
             [
              1,
              "#f0f921"
             ]
            ],
            "type": "histogram2dcontour"
           }
          ],
          "mesh3d": [
           {
            "colorbar": {
             "outlinewidth": 0,
             "ticks": ""
            },
            "type": "mesh3d"
           }
          ],
          "parcoords": [
           {
            "line": {
             "colorbar": {
              "outlinewidth": 0,
              "ticks": ""
             }
            },
            "type": "parcoords"
           }
          ],
          "pie": [
           {
            "automargin": true,
            "type": "pie"
           }
          ],
          "scatter": [
           {
            "marker": {
             "colorbar": {
              "outlinewidth": 0,
              "ticks": ""
             }
            },
            "type": "scatter"
           }
          ],
          "scatter3d": [
           {
            "line": {
             "colorbar": {
              "outlinewidth": 0,
              "ticks": ""
             }
            },
            "marker": {
             "colorbar": {
              "outlinewidth": 0,
              "ticks": ""
             }
            },
            "type": "scatter3d"
           }
          ],
          "scattercarpet": [
           {
            "marker": {
             "colorbar": {
              "outlinewidth": 0,
              "ticks": ""
             }
            },
            "type": "scattercarpet"
           }
          ],
          "scattergeo": [
           {
            "marker": {
             "colorbar": {
              "outlinewidth": 0,
              "ticks": ""
             }
            },
            "type": "scattergeo"
           }
          ],
          "scattergl": [
           {
            "marker": {
             "colorbar": {
              "outlinewidth": 0,
              "ticks": ""
             }
            },
            "type": "scattergl"
           }
          ],
          "scattermapbox": [
           {
            "marker": {
             "colorbar": {
              "outlinewidth": 0,
              "ticks": ""
             }
            },
            "type": "scattermapbox"
           }
          ],
          "scatterpolar": [
           {
            "marker": {
             "colorbar": {
              "outlinewidth": 0,
              "ticks": ""
             }
            },
            "type": "scatterpolar"
           }
          ],
          "scatterpolargl": [
           {
            "marker": {
             "colorbar": {
              "outlinewidth": 0,
              "ticks": ""
             }
            },
            "type": "scatterpolargl"
           }
          ],
          "scatterternary": [
           {
            "marker": {
             "colorbar": {
              "outlinewidth": 0,
              "ticks": ""
             }
            },
            "type": "scatterternary"
           }
          ],
          "surface": [
           {
            "colorbar": {
             "outlinewidth": 0,
             "ticks": ""
            },
            "colorscale": [
             [
              0,
              "#0d0887"
             ],
             [
              0.1111111111111111,
              "#46039f"
             ],
             [
              0.2222222222222222,
              "#7201a8"
             ],
             [
              0.3333333333333333,
              "#9c179e"
             ],
             [
              0.4444444444444444,
              "#bd3786"
             ],
             [
              0.5555555555555556,
              "#d8576b"
             ],
             [
              0.6666666666666666,
              "#ed7953"
             ],
             [
              0.7777777777777778,
              "#fb9f3a"
             ],
             [
              0.8888888888888888,
              "#fdca26"
             ],
             [
              1,
              "#f0f921"
             ]
            ],
            "type": "surface"
           }
          ],
          "table": [
           {
            "cells": {
             "fill": {
              "color": "#EBF0F8"
             },
             "line": {
              "color": "white"
             }
            },
            "header": {
             "fill": {
              "color": "#C8D4E3"
             },
             "line": {
              "color": "white"
             }
            },
            "type": "table"
           }
          ]
         },
         "layout": {
          "annotationdefaults": {
           "arrowcolor": "#2a3f5f",
           "arrowhead": 0,
           "arrowwidth": 1
          },
          "coloraxis": {
           "colorbar": {
            "outlinewidth": 0,
            "ticks": ""
           }
          },
          "colorscale": {
           "diverging": [
            [
             0,
             "#8e0152"
            ],
            [
             0.1,
             "#c51b7d"
            ],
            [
             0.2,
             "#de77ae"
            ],
            [
             0.3,
             "#f1b6da"
            ],
            [
             0.4,
             "#fde0ef"
            ],
            [
             0.5,
             "#f7f7f7"
            ],
            [
             0.6,
             "#e6f5d0"
            ],
            [
             0.7,
             "#b8e186"
            ],
            [
             0.8,
             "#7fbc41"
            ],
            [
             0.9,
             "#4d9221"
            ],
            [
             1,
             "#276419"
            ]
           ],
           "sequential": [
            [
             0,
             "#0d0887"
            ],
            [
             0.1111111111111111,
             "#46039f"
            ],
            [
             0.2222222222222222,
             "#7201a8"
            ],
            [
             0.3333333333333333,
             "#9c179e"
            ],
            [
             0.4444444444444444,
             "#bd3786"
            ],
            [
             0.5555555555555556,
             "#d8576b"
            ],
            [
             0.6666666666666666,
             "#ed7953"
            ],
            [
             0.7777777777777778,
             "#fb9f3a"
            ],
            [
             0.8888888888888888,
             "#fdca26"
            ],
            [
             1,
             "#f0f921"
            ]
           ],
           "sequentialminus": [
            [
             0,
             "#0d0887"
            ],
            [
             0.1111111111111111,
             "#46039f"
            ],
            [
             0.2222222222222222,
             "#7201a8"
            ],
            [
             0.3333333333333333,
             "#9c179e"
            ],
            [
             0.4444444444444444,
             "#bd3786"
            ],
            [
             0.5555555555555556,
             "#d8576b"
            ],
            [
             0.6666666666666666,
             "#ed7953"
            ],
            [
             0.7777777777777778,
             "#fb9f3a"
            ],
            [
             0.8888888888888888,
             "#fdca26"
            ],
            [
             1,
             "#f0f921"
            ]
           ]
          },
          "colorway": [
           "#636efa",
           "#EF553B",
           "#00cc96",
           "#ab63fa",
           "#FFA15A",
           "#19d3f3",
           "#FF6692",
           "#B6E880",
           "#FF97FF",
           "#FECB52"
          ],
          "font": {
           "color": "#2a3f5f"
          },
          "geo": {
           "bgcolor": "white",
           "lakecolor": "white",
           "landcolor": "#E5ECF6",
           "showlakes": true,
           "showland": true,
           "subunitcolor": "white"
          },
          "hoverlabel": {
           "align": "left"
          },
          "hovermode": "closest",
          "mapbox": {
           "style": "light"
          },
          "paper_bgcolor": "white",
          "plot_bgcolor": "#E5ECF6",
          "polar": {
           "angularaxis": {
            "gridcolor": "white",
            "linecolor": "white",
            "ticks": ""
           },
           "bgcolor": "#E5ECF6",
           "radialaxis": {
            "gridcolor": "white",
            "linecolor": "white",
            "ticks": ""
           }
          },
          "scene": {
           "xaxis": {
            "backgroundcolor": "#E5ECF6",
            "gridcolor": "white",
            "gridwidth": 2,
            "linecolor": "white",
            "showbackground": true,
            "ticks": "",
            "zerolinecolor": "white"
           },
           "yaxis": {
            "backgroundcolor": "#E5ECF6",
            "gridcolor": "white",
            "gridwidth": 2,
            "linecolor": "white",
            "showbackground": true,
            "ticks": "",
            "zerolinecolor": "white"
           },
           "zaxis": {
            "backgroundcolor": "#E5ECF6",
            "gridcolor": "white",
            "gridwidth": 2,
            "linecolor": "white",
            "showbackground": true,
            "ticks": "",
            "zerolinecolor": "white"
           }
          },
          "shapedefaults": {
           "line": {
            "color": "#2a3f5f"
           }
          },
          "ternary": {
           "aaxis": {
            "gridcolor": "white",
            "linecolor": "white",
            "ticks": ""
           },
           "baxis": {
            "gridcolor": "white",
            "linecolor": "white",
            "ticks": ""
           },
           "bgcolor": "#E5ECF6",
           "caxis": {
            "gridcolor": "white",
            "linecolor": "white",
            "ticks": ""
           }
          },
          "title": {
           "x": 0.05
          },
          "xaxis": {
           "automargin": true,
           "gridcolor": "white",
           "linecolor": "white",
           "ticks": "",
           "title": {
            "standoff": 15
           },
           "zerolinecolor": "white",
           "zerolinewidth": 2
          },
          "yaxis": {
           "automargin": true,
           "gridcolor": "white",
           "linecolor": "white",
           "ticks": "",
           "title": {
            "standoff": 15
           },
           "zerolinecolor": "white",
           "zerolinewidth": 2
          }
         }
        },
        "width": 800,
        "xaxis": {
         "showgrid": false,
         "showline": false,
         "showticklabels": false,
         "title": {
          "text": ""
         },
         "zeroline": false
        },
        "yaxis": {
         "showgrid": false,
         "showline": false,
         "showticklabels": false,
         "title": {
          "text": ""
         },
         "zeroline": false
        }
       }
      },
      "text/html": [
       "<div>\n",
       "        \n",
       "        \n",
       "            <div id=\"f8f07c6c-fbdc-4d33-8fa8-93d38ecfc5a2\" class=\"plotly-graph-div\" style=\"height:600px; width:800px;\"></div>\n",
       "            <script type=\"text/javascript\">\n",
       "                require([\"plotly\"], function(Plotly) {\n",
       "                    window.PLOTLYENV=window.PLOTLYENV || {};\n",
       "                    \n",
       "                if (document.getElementById(\"f8f07c6c-fbdc-4d33-8fa8-93d38ecfc5a2\")) {\n",
       "                    Plotly.newPlot(\n",
       "                        'f8f07c6c-fbdc-4d33-8fa8-93d38ecfc5a2',\n",
       "                        [{\"hoverinfo\": \"none\", \"line\": {\"color\": \"gray\", \"width\": 1}, \"mode\": \"lines\", \"name\": \"paraphrase\", \"showlegend\": true, \"type\": \"scatter\", \"x\": [0.23170469063023386, 1.0, null, 0.23170469063023386, -0.9999999999996384, null, -0.9999999999996384, -0.23170469063059534, null, 1.0, -0.23170469063059534, null], \"y\": [0.4573322058200295, -0.5066441586254915, null, 0.4573322058200295, 0.5066441586262048, null, 0.5066441586262048, -0.457332205820743, null, -0.5066441586254915, -0.457332205820743, null]}, {\"hoverinfo\": \"none\", \"line\": {\"color\": \"gray\", \"dash\": \"dash\", \"width\": 1}, \"mode\": \"lines\", \"name\": \"non-paraphrase\", \"showlegend\": true, \"type\": \"scatter\", \"x\": [], \"y\": []}, {\"hoverinfo\": \"none\", \"line\": {\"color\": \"mediumvioletred\", \"dash\": \"dash\", \"width\": 1}, \"mode\": \"lines\", \"name\": \"conflicted\", \"showlegend\": true, \"type\": \"scatter\", \"x\": [0.23170469063023386, -0.23170469063059534, null], \"y\": [0.4573322058200295, -0.457332205820743, null]}, {\"marker\": {\"color\": [\"rgb(94,79,162)\", \"rgb(94,79,162)\", \"rgb(94,79,162)\", \"rgb(94,79,162)\"], \"line\": {\"color\": \"rgb(50,50,50)\", \"width\": 0.5}, \"size\": 10, \"symbol\": \"circle-dot\"}, \"mode\": \"markers+text\", \"showlegend\": false, \"text\": [\"A\", \"B\", \"C\", \"D\"], \"textfont\": {\"size\": 17}, \"textposition\": \"top center\", \"type\": \"scatter\", \"x\": [0.23170469063023386, -0.9999999999996384, 1.0, -0.23170469063059534], \"y\": [0.4573322058200295, 0.5066441586262048, -0.5066441586254915, -0.457332205820743]}],\n",
       "                        {\"autosize\": false, \"font\": {\"size\": 12}, \"height\": 600, \"hovermode\": \"closest\", \"margin\": {\"b\": 20, \"l\": 5, \"r\": 5, \"t\": 40}, \"template\": {\"data\": {\"bar\": [{\"error_x\": {\"color\": \"#2a3f5f\"}, \"error_y\": {\"color\": \"#2a3f5f\"}, \"marker\": {\"line\": {\"color\": \"#E5ECF6\", \"width\": 0.5}}, \"type\": \"bar\"}], \"barpolar\": [{\"marker\": {\"line\": {\"color\": \"#E5ECF6\", \"width\": 0.5}}, \"type\": \"barpolar\"}], \"carpet\": [{\"aaxis\": {\"endlinecolor\": \"#2a3f5f\", \"gridcolor\": \"white\", \"linecolor\": \"white\", \"minorgridcolor\": \"white\", \"startlinecolor\": \"#2a3f5f\"}, \"baxis\": {\"endlinecolor\": \"#2a3f5f\", \"gridcolor\": \"white\", \"linecolor\": \"white\", \"minorgridcolor\": \"white\", \"startlinecolor\": \"#2a3f5f\"}, \"type\": \"carpet\"}], \"choropleth\": [{\"colorbar\": {\"outlinewidth\": 0, \"ticks\": \"\"}, \"type\": \"choropleth\"}], \"contour\": [{\"colorbar\": {\"outlinewidth\": 0, \"ticks\": \"\"}, \"colorscale\": [[0.0, \"#0d0887\"], [0.1111111111111111, \"#46039f\"], [0.2222222222222222, \"#7201a8\"], [0.3333333333333333, \"#9c179e\"], [0.4444444444444444, \"#bd3786\"], [0.5555555555555556, \"#d8576b\"], [0.6666666666666666, \"#ed7953\"], [0.7777777777777778, \"#fb9f3a\"], [0.8888888888888888, \"#fdca26\"], [1.0, \"#f0f921\"]], \"type\": \"contour\"}], \"contourcarpet\": [{\"colorbar\": {\"outlinewidth\": 0, \"ticks\": \"\"}, \"type\": \"contourcarpet\"}], \"heatmap\": [{\"colorbar\": {\"outlinewidth\": 0, \"ticks\": \"\"}, \"colorscale\": [[0.0, \"#0d0887\"], [0.1111111111111111, \"#46039f\"], [0.2222222222222222, \"#7201a8\"], [0.3333333333333333, \"#9c179e\"], [0.4444444444444444, \"#bd3786\"], [0.5555555555555556, \"#d8576b\"], [0.6666666666666666, \"#ed7953\"], [0.7777777777777778, \"#fb9f3a\"], [0.8888888888888888, \"#fdca26\"], [1.0, \"#f0f921\"]], \"type\": \"heatmap\"}], \"heatmapgl\": [{\"colorbar\": {\"outlinewidth\": 0, \"ticks\": \"\"}, \"colorscale\": [[0.0, \"#0d0887\"], [0.1111111111111111, \"#46039f\"], [0.2222222222222222, \"#7201a8\"], [0.3333333333333333, \"#9c179e\"], [0.4444444444444444, \"#bd3786\"], [0.5555555555555556, \"#d8576b\"], [0.6666666666666666, \"#ed7953\"], [0.7777777777777778, \"#fb9f3a\"], [0.8888888888888888, \"#fdca26\"], [1.0, \"#f0f921\"]], \"type\": \"heatmapgl\"}], \"histogram\": [{\"marker\": {\"colorbar\": {\"outlinewidth\": 0, \"ticks\": \"\"}}, \"type\": \"histogram\"}], \"histogram2d\": [{\"colorbar\": {\"outlinewidth\": 0, \"ticks\": \"\"}, \"colorscale\": [[0.0, \"#0d0887\"], [0.1111111111111111, \"#46039f\"], [0.2222222222222222, \"#7201a8\"], [0.3333333333333333, \"#9c179e\"], [0.4444444444444444, \"#bd3786\"], [0.5555555555555556, \"#d8576b\"], [0.6666666666666666, \"#ed7953\"], [0.7777777777777778, \"#fb9f3a\"], [0.8888888888888888, \"#fdca26\"], [1.0, \"#f0f921\"]], \"type\": \"histogram2d\"}], \"histogram2dcontour\": [{\"colorbar\": {\"outlinewidth\": 0, \"ticks\": \"\"}, \"colorscale\": [[0.0, \"#0d0887\"], [0.1111111111111111, \"#46039f\"], [0.2222222222222222, \"#7201a8\"], [0.3333333333333333, \"#9c179e\"], [0.4444444444444444, \"#bd3786\"], [0.5555555555555556, \"#d8576b\"], [0.6666666666666666, \"#ed7953\"], [0.7777777777777778, \"#fb9f3a\"], [0.8888888888888888, \"#fdca26\"], [1.0, \"#f0f921\"]], \"type\": \"histogram2dcontour\"}], \"mesh3d\": [{\"colorbar\": {\"outlinewidth\": 0, \"ticks\": \"\"}, \"type\": \"mesh3d\"}], \"parcoords\": [{\"line\": {\"colorbar\": {\"outlinewidth\": 0, \"ticks\": \"\"}}, \"type\": \"parcoords\"}], \"pie\": [{\"automargin\": true, \"type\": \"pie\"}], \"scatter\": [{\"marker\": {\"colorbar\": {\"outlinewidth\": 0, \"ticks\": \"\"}}, \"type\": \"scatter\"}], \"scatter3d\": [{\"line\": {\"colorbar\": {\"outlinewidth\": 0, \"ticks\": \"\"}}, \"marker\": {\"colorbar\": {\"outlinewidth\": 0, \"ticks\": \"\"}}, \"type\": \"scatter3d\"}], \"scattercarpet\": [{\"marker\": {\"colorbar\": {\"outlinewidth\": 0, \"ticks\": \"\"}}, \"type\": \"scattercarpet\"}], \"scattergeo\": [{\"marker\": {\"colorbar\": {\"outlinewidth\": 0, \"ticks\": \"\"}}, \"type\": \"scattergeo\"}], \"scattergl\": [{\"marker\": {\"colorbar\": {\"outlinewidth\": 0, \"ticks\": \"\"}}, \"type\": \"scattergl\"}], \"scattermapbox\": [{\"marker\": {\"colorbar\": {\"outlinewidth\": 0, \"ticks\": \"\"}}, \"type\": \"scattermapbox\"}], \"scatterpolar\": [{\"marker\": {\"colorbar\": {\"outlinewidth\": 0, \"ticks\": \"\"}}, \"type\": \"scatterpolar\"}], \"scatterpolargl\": [{\"marker\": {\"colorbar\": {\"outlinewidth\": 0, \"ticks\": \"\"}}, \"type\": \"scatterpolargl\"}], \"scatterternary\": [{\"marker\": {\"colorbar\": {\"outlinewidth\": 0, \"ticks\": \"\"}}, \"type\": \"scatterternary\"}], \"surface\": [{\"colorbar\": {\"outlinewidth\": 0, \"ticks\": \"\"}, \"colorscale\": [[0.0, \"#0d0887\"], [0.1111111111111111, \"#46039f\"], [0.2222222222222222, \"#7201a8\"], [0.3333333333333333, \"#9c179e\"], [0.4444444444444444, \"#bd3786\"], [0.5555555555555556, \"#d8576b\"], [0.6666666666666666, \"#ed7953\"], [0.7777777777777778, \"#fb9f3a\"], [0.8888888888888888, \"#fdca26\"], [1.0, \"#f0f921\"]], \"type\": \"surface\"}], \"table\": [{\"cells\": {\"fill\": {\"color\": \"#EBF0F8\"}, \"line\": {\"color\": \"white\"}}, \"header\": {\"fill\": {\"color\": \"#C8D4E3\"}, \"line\": {\"color\": \"white\"}}, \"type\": \"table\"}]}, \"layout\": {\"annotationdefaults\": {\"arrowcolor\": \"#2a3f5f\", \"arrowhead\": 0, \"arrowwidth\": 1}, \"coloraxis\": {\"colorbar\": {\"outlinewidth\": 0, \"ticks\": \"\"}}, \"colorscale\": {\"diverging\": [[0, \"#8e0152\"], [0.1, \"#c51b7d\"], [0.2, \"#de77ae\"], [0.3, \"#f1b6da\"], [0.4, \"#fde0ef\"], [0.5, \"#f7f7f7\"], [0.6, \"#e6f5d0\"], [0.7, \"#b8e186\"], [0.8, \"#7fbc41\"], [0.9, \"#4d9221\"], [1, \"#276419\"]], \"sequential\": [[0.0, \"#0d0887\"], [0.1111111111111111, \"#46039f\"], [0.2222222222222222, \"#7201a8\"], [0.3333333333333333, \"#9c179e\"], [0.4444444444444444, \"#bd3786\"], [0.5555555555555556, \"#d8576b\"], [0.6666666666666666, \"#ed7953\"], [0.7777777777777778, \"#fb9f3a\"], [0.8888888888888888, \"#fdca26\"], [1.0, \"#f0f921\"]], \"sequentialminus\": [[0.0, \"#0d0887\"], [0.1111111111111111, \"#46039f\"], [0.2222222222222222, \"#7201a8\"], [0.3333333333333333, \"#9c179e\"], [0.4444444444444444, \"#bd3786\"], [0.5555555555555556, \"#d8576b\"], [0.6666666666666666, \"#ed7953\"], [0.7777777777777778, \"#fb9f3a\"], [0.8888888888888888, \"#fdca26\"], [1.0, \"#f0f921\"]]}, \"colorway\": [\"#636efa\", \"#EF553B\", \"#00cc96\", \"#ab63fa\", \"#FFA15A\", \"#19d3f3\", \"#FF6692\", \"#B6E880\", \"#FF97FF\", \"#FECB52\"], \"font\": {\"color\": \"#2a3f5f\"}, \"geo\": {\"bgcolor\": \"white\", \"lakecolor\": \"white\", \"landcolor\": \"#E5ECF6\", \"showlakes\": true, \"showland\": true, \"subunitcolor\": \"white\"}, \"hoverlabel\": {\"align\": \"left\"}, \"hovermode\": \"closest\", \"mapbox\": {\"style\": \"light\"}, \"paper_bgcolor\": \"white\", \"plot_bgcolor\": \"#E5ECF6\", \"polar\": {\"angularaxis\": {\"gridcolor\": \"white\", \"linecolor\": \"white\", \"ticks\": \"\"}, \"bgcolor\": \"#E5ECF6\", \"radialaxis\": {\"gridcolor\": \"white\", \"linecolor\": \"white\", \"ticks\": \"\"}}, \"scene\": {\"xaxis\": {\"backgroundcolor\": \"#E5ECF6\", \"gridcolor\": \"white\", \"gridwidth\": 2, \"linecolor\": \"white\", \"showbackground\": true, \"ticks\": \"\", \"zerolinecolor\": \"white\"}, \"yaxis\": {\"backgroundcolor\": \"#E5ECF6\", \"gridcolor\": \"white\", \"gridwidth\": 2, \"linecolor\": \"white\", \"showbackground\": true, \"ticks\": \"\", \"zerolinecolor\": \"white\"}, \"zaxis\": {\"backgroundcolor\": \"#E5ECF6\", \"gridcolor\": \"white\", \"gridwidth\": 2, \"linecolor\": \"white\", \"showbackground\": true, \"ticks\": \"\", \"zerolinecolor\": \"white\"}}, \"shapedefaults\": {\"line\": {\"color\": \"#2a3f5f\"}}, \"ternary\": {\"aaxis\": {\"gridcolor\": \"white\", \"linecolor\": \"white\", \"ticks\": \"\"}, \"baxis\": {\"gridcolor\": \"white\", \"linecolor\": \"white\", \"ticks\": \"\"}, \"bgcolor\": \"#E5ECF6\", \"caxis\": {\"gridcolor\": \"white\", \"linecolor\": \"white\", \"ticks\": \"\"}}, \"title\": {\"x\": 0.05}, \"xaxis\": {\"automargin\": true, \"gridcolor\": \"white\", \"linecolor\": \"white\", \"ticks\": \"\", \"title\": {\"standoff\": 15}, \"zerolinecolor\": \"white\", \"zerolinewidth\": 2}, \"yaxis\": {\"automargin\": true, \"gridcolor\": \"white\", \"linecolor\": \"white\", \"ticks\": \"\", \"title\": {\"standoff\": 15}, \"zerolinecolor\": \"white\", \"zerolinewidth\": 2}}}, \"width\": 800, \"xaxis\": {\"showgrid\": false, \"showline\": false, \"showticklabels\": false, \"title\": {\"text\": \"\"}, \"zeroline\": false}, \"yaxis\": {\"showgrid\": false, \"showline\": false, \"showticklabels\": false, \"title\": {\"text\": \"\"}, \"zeroline\": false}},\n",
       "                        {\"responsive\": true}\n",
       "                    ).then(function(){\n",
       "                            \n",
       "var gd = document.getElementById('f8f07c6c-fbdc-4d33-8fa8-93d38ecfc5a2');\n",
       "var x = new MutationObserver(function (mutations, observer) {{\n",
       "        var display = window.getComputedStyle(gd).display;\n",
       "        if (!display || display === 'none') {{\n",
       "            console.log([gd, 'removed!']);\n",
       "            Plotly.purge(gd);\n",
       "            observer.disconnect();\n",
       "        }}\n",
       "}});\n",
       "\n",
       "// Listen for the removal of the full notebook cells\n",
       "var notebookContainer = gd.closest('#notebook-container');\n",
       "if (notebookContainer) {{\n",
       "    x.observe(notebookContainer, {childList: true});\n",
       "}}\n",
       "\n",
       "// Listen for the clearing of the current output cell\n",
       "var outputEl = gd.closest('.output');\n",
       "if (outputEl) {{\n",
       "    x.observe(outputEl, {childList: true});\n",
       "}}\n",
       "\n",
       "                        })\n",
       "                };\n",
       "                });\n",
       "            </script>\n",
       "        </div>"
      ]
     },
     "metadata": {},
     "output_type": "display_data"
    }
   ],
   "source": [
    "index = 1\n",
    "plot(unbalanced_subgraphs[index], mislabeled_pairs[index])"
   ]
  },
  {
   "cell_type": "code",
   "execution_count": 33,
   "metadata": {},
   "outputs": [
    {
     "name": "stdout",
     "output_type": "stream",
     "text": [
      "A0: What music app is free without wifi connection?\n",
      "A1: What app for music without wifi for iPod?\n",
      "A2: What are some free music apps to download whereby you can download music in the app itself and listen to the music when offline?\n",
      "A3: Are there any music apps that I can listen to without needing an Internet connection?\n",
      "A4: How can I listen to music offline without it stopping when I turn off the device or open up another app or tab?\n",
      "A5: What app allows you to listen to music without WiFi or Internet?\n",
      "B0: What is the best music app for the iOS where you don't need internet to use?\n",
      "B1: What app allows you to listen to music without wifi or Internet for IOS?\n",
      "B2: What is the best music app that doesn't need wifi for ios?\n"
     ]
    },
    {
     "data": {
      "application/vnd.plotly.v1+json": {
       "config": {
        "plotlyServerURL": "https://plot.ly"
       },
       "data": [
        {
         "hoverinfo": "none",
         "line": {
          "color": "gray",
          "width": 1
         },
         "mode": "lines",
         "name": "paraphrase",
         "showlegend": true,
         "type": "scatter",
         "x": [
          -0.48399792931506125,
          -0.17131084490242998,
          null,
          -0.48399792931506125,
          -0.4884865794516804,
          null,
          0.2524531429569622,
          -0.002523740587687546,
          null,
          0.2524531429569622,
          0.5409008517424381,
          null,
          0.2524531429569622,
          -0.17131084490242998,
          null,
          0.24211105787273562,
          -0.051589527207752214,
          null,
          0.24211105787273562,
          0.16244356889247596,
          null,
          0.16244356889247596,
          -0.051589527207752214,
          null,
          -0.4884865794516804,
          -0.002523740587687546,
          null,
          -0.4884865794516804,
          -0.17131084490242998,
          null,
          -0.17131084490242998,
          -0.002523740587687546,
          null,
          0.5409008517424381,
          -0.002523740587687546,
          null
         ],
         "y": [
          0.4859737835489175,
          0.5057728505827116,
          null,
          0.4859737835489175,
          0.20065117522723078,
          null,
          0.5386477193364391,
          0.07302298456738442,
          null,
          0.5386477193364391,
          0.31075170432509924,
          null,
          0.5386477193364391,
          0.5057728505827116,
          null,
          -0.5348919460512767,
          -0.5799282715365064,
          null,
          -0.5348919460512767,
          -1,
          null,
          -1,
          -0.5799282715365064,
          null,
          0.20065117522723078,
          0.07302298456738442,
          null,
          0.20065117522723078,
          0.5057728505827116,
          null,
          0.5057728505827116,
          0.07302298456738442,
          null,
          0.31075170432509924,
          0.07302298456738442,
          null
         ]
        },
        {
         "hoverinfo": "none",
         "line": {
          "color": "gray",
          "dash": "dash",
          "width": 1
         },
         "mode": "lines",
         "name": "non-paraphrase",
         "showlegend": true,
         "type": "scatter",
         "x": [
          0.24211105787273562,
          -0.002523740587687546,
          null,
          -0.051589527207752214,
          -0.002523740587687546,
          null
         ],
         "y": [
          -0.5348919460512767,
          0.07302298456738442,
          null,
          -0.5799282715365064,
          0.07302298456738442,
          null
         ]
        },
        {
         "hoverinfo": "none",
         "line": {
          "color": "mediumvioletred",
          "dash": "dash",
          "width": 1
         },
         "mode": "lines",
         "name": "conflicted",
         "showlegend": true,
         "type": "scatter",
         "x": [
          -0.002523740587687546,
          -0.48399792931506125,
          null
         ],
         "y": [
          0.07302298456738442,
          0.4859737835489175,
          null
         ]
        },
        {
         "marker": {
          "color": [
           "rgb(213,62,79)",
           "rgb(213,62,79)",
           "rgb(253,174,97)",
           "rgb(253,174,97)",
           "rgb(213,62,79)",
           "rgb(213,62,79)",
           "rgb(213,62,79)",
           "rgb(253,174,97)",
           "rgb(213,62,79)"
          ],
          "line": {
           "color": "rgb(50,50,50)",
           "width": 0.5
          },
          "size": 10,
          "symbol": "circle-dot"
         },
         "mode": "markers+text",
         "showlegend": false,
         "text": [
          "A0",
          "A1",
          "B1",
          "B2",
          "A2",
          "A3",
          "A4",
          "B0",
          "A5"
         ],
         "textposition": "top center",
         "type": "scatter",
         "x": [
          -0.48399792931506125,
          0.2524531429569622,
          0.24211105787273562,
          0.16244356889247596,
          -0.4884865794516804,
          -0.17131084490242998,
          0.5409008517424381,
          -0.051589527207752214,
          -0.002523740587687546
         ],
         "y": [
          0.4859737835489175,
          0.5386477193364391,
          -0.5348919460512767,
          -1,
          0.20065117522723078,
          0.5057728505827116,
          0.31075170432509924,
          -0.5799282715365064,
          0.07302298456738442
         ]
        }
       ],
       "layout": {
        "autosize": false,
        "font": {
         "size": 12
        },
        "height": 600,
        "hovermode": "closest",
        "margin": {
         "b": 20,
         "l": 5,
         "r": 5,
         "t": 40
        },
        "template": {
         "data": {
          "bar": [
           {
            "error_x": {
             "color": "#2a3f5f"
            },
            "error_y": {
             "color": "#2a3f5f"
            },
            "marker": {
             "line": {
              "color": "#E5ECF6",
              "width": 0.5
             }
            },
            "type": "bar"
           }
          ],
          "barpolar": [
           {
            "marker": {
             "line": {
              "color": "#E5ECF6",
              "width": 0.5
             }
            },
            "type": "barpolar"
           }
          ],
          "carpet": [
           {
            "aaxis": {
             "endlinecolor": "#2a3f5f",
             "gridcolor": "white",
             "linecolor": "white",
             "minorgridcolor": "white",
             "startlinecolor": "#2a3f5f"
            },
            "baxis": {
             "endlinecolor": "#2a3f5f",
             "gridcolor": "white",
             "linecolor": "white",
             "minorgridcolor": "white",
             "startlinecolor": "#2a3f5f"
            },
            "type": "carpet"
           }
          ],
          "choropleth": [
           {
            "colorbar": {
             "outlinewidth": 0,
             "ticks": ""
            },
            "type": "choropleth"
           }
          ],
          "contour": [
           {
            "colorbar": {
             "outlinewidth": 0,
             "ticks": ""
            },
            "colorscale": [
             [
              0,
              "#0d0887"
             ],
             [
              0.1111111111111111,
              "#46039f"
             ],
             [
              0.2222222222222222,
              "#7201a8"
             ],
             [
              0.3333333333333333,
              "#9c179e"
             ],
             [
              0.4444444444444444,
              "#bd3786"
             ],
             [
              0.5555555555555556,
              "#d8576b"
             ],
             [
              0.6666666666666666,
              "#ed7953"
             ],
             [
              0.7777777777777778,
              "#fb9f3a"
             ],
             [
              0.8888888888888888,
              "#fdca26"
             ],
             [
              1,
              "#f0f921"
             ]
            ],
            "type": "contour"
           }
          ],
          "contourcarpet": [
           {
            "colorbar": {
             "outlinewidth": 0,
             "ticks": ""
            },
            "type": "contourcarpet"
           }
          ],
          "heatmap": [
           {
            "colorbar": {
             "outlinewidth": 0,
             "ticks": ""
            },
            "colorscale": [
             [
              0,
              "#0d0887"
             ],
             [
              0.1111111111111111,
              "#46039f"
             ],
             [
              0.2222222222222222,
              "#7201a8"
             ],
             [
              0.3333333333333333,
              "#9c179e"
             ],
             [
              0.4444444444444444,
              "#bd3786"
             ],
             [
              0.5555555555555556,
              "#d8576b"
             ],
             [
              0.6666666666666666,
              "#ed7953"
             ],
             [
              0.7777777777777778,
              "#fb9f3a"
             ],
             [
              0.8888888888888888,
              "#fdca26"
             ],
             [
              1,
              "#f0f921"
             ]
            ],
            "type": "heatmap"
           }
          ],
          "heatmapgl": [
           {
            "colorbar": {
             "outlinewidth": 0,
             "ticks": ""
            },
            "colorscale": [
             [
              0,
              "#0d0887"
             ],
             [
              0.1111111111111111,
              "#46039f"
             ],
             [
              0.2222222222222222,
              "#7201a8"
             ],
             [
              0.3333333333333333,
              "#9c179e"
             ],
             [
              0.4444444444444444,
              "#bd3786"
             ],
             [
              0.5555555555555556,
              "#d8576b"
             ],
             [
              0.6666666666666666,
              "#ed7953"
             ],
             [
              0.7777777777777778,
              "#fb9f3a"
             ],
             [
              0.8888888888888888,
              "#fdca26"
             ],
             [
              1,
              "#f0f921"
             ]
            ],
            "type": "heatmapgl"
           }
          ],
          "histogram": [
           {
            "marker": {
             "colorbar": {
              "outlinewidth": 0,
              "ticks": ""
             }
            },
            "type": "histogram"
           }
          ],
          "histogram2d": [
           {
            "colorbar": {
             "outlinewidth": 0,
             "ticks": ""
            },
            "colorscale": [
             [
              0,
              "#0d0887"
             ],
             [
              0.1111111111111111,
              "#46039f"
             ],
             [
              0.2222222222222222,
              "#7201a8"
             ],
             [
              0.3333333333333333,
              "#9c179e"
             ],
             [
              0.4444444444444444,
              "#bd3786"
             ],
             [
              0.5555555555555556,
              "#d8576b"
             ],
             [
              0.6666666666666666,
              "#ed7953"
             ],
             [
              0.7777777777777778,
              "#fb9f3a"
             ],
             [
              0.8888888888888888,
              "#fdca26"
             ],
             [
              1,
              "#f0f921"
             ]
            ],
            "type": "histogram2d"
           }
          ],
          "histogram2dcontour": [
           {
            "colorbar": {
             "outlinewidth": 0,
             "ticks": ""
            },
            "colorscale": [
             [
              0,
              "#0d0887"
             ],
             [
              0.1111111111111111,
              "#46039f"
             ],
             [
              0.2222222222222222,
              "#7201a8"
             ],
             [
              0.3333333333333333,
              "#9c179e"
             ],
             [
              0.4444444444444444,
              "#bd3786"
             ],
             [
              0.5555555555555556,
              "#d8576b"
             ],
             [
              0.6666666666666666,
              "#ed7953"
             ],
             [
              0.7777777777777778,
              "#fb9f3a"
             ],
             [
              0.8888888888888888,
              "#fdca26"
             ],
             [
              1,
              "#f0f921"
             ]
            ],
            "type": "histogram2dcontour"
           }
          ],
          "mesh3d": [
           {
            "colorbar": {
             "outlinewidth": 0,
             "ticks": ""
            },
            "type": "mesh3d"
           }
          ],
          "parcoords": [
           {
            "line": {
             "colorbar": {
              "outlinewidth": 0,
              "ticks": ""
             }
            },
            "type": "parcoords"
           }
          ],
          "pie": [
           {
            "automargin": true,
            "type": "pie"
           }
          ],
          "scatter": [
           {
            "marker": {
             "colorbar": {
              "outlinewidth": 0,
              "ticks": ""
             }
            },
            "type": "scatter"
           }
          ],
          "scatter3d": [
           {
            "line": {
             "colorbar": {
              "outlinewidth": 0,
              "ticks": ""
             }
            },
            "marker": {
             "colorbar": {
              "outlinewidth": 0,
              "ticks": ""
             }
            },
            "type": "scatter3d"
           }
          ],
          "scattercarpet": [
           {
            "marker": {
             "colorbar": {
              "outlinewidth": 0,
              "ticks": ""
             }
            },
            "type": "scattercarpet"
           }
          ],
          "scattergeo": [
           {
            "marker": {
             "colorbar": {
              "outlinewidth": 0,
              "ticks": ""
             }
            },
            "type": "scattergeo"
           }
          ],
          "scattergl": [
           {
            "marker": {
             "colorbar": {
              "outlinewidth": 0,
              "ticks": ""
             }
            },
            "type": "scattergl"
           }
          ],
          "scattermapbox": [
           {
            "marker": {
             "colorbar": {
              "outlinewidth": 0,
              "ticks": ""
             }
            },
            "type": "scattermapbox"
           }
          ],
          "scatterpolar": [
           {
            "marker": {
             "colorbar": {
              "outlinewidth": 0,
              "ticks": ""
             }
            },
            "type": "scatterpolar"
           }
          ],
          "scatterpolargl": [
           {
            "marker": {
             "colorbar": {
              "outlinewidth": 0,
              "ticks": ""
             }
            },
            "type": "scatterpolargl"
           }
          ],
          "scatterternary": [
           {
            "marker": {
             "colorbar": {
              "outlinewidth": 0,
              "ticks": ""
             }
            },
            "type": "scatterternary"
           }
          ],
          "surface": [
           {
            "colorbar": {
             "outlinewidth": 0,
             "ticks": ""
            },
            "colorscale": [
             [
              0,
              "#0d0887"
             ],
             [
              0.1111111111111111,
              "#46039f"
             ],
             [
              0.2222222222222222,
              "#7201a8"
             ],
             [
              0.3333333333333333,
              "#9c179e"
             ],
             [
              0.4444444444444444,
              "#bd3786"
             ],
             [
              0.5555555555555556,
              "#d8576b"
             ],
             [
              0.6666666666666666,
              "#ed7953"
             ],
             [
              0.7777777777777778,
              "#fb9f3a"
             ],
             [
              0.8888888888888888,
              "#fdca26"
             ],
             [
              1,
              "#f0f921"
             ]
            ],
            "type": "surface"
           }
          ],
          "table": [
           {
            "cells": {
             "fill": {
              "color": "#EBF0F8"
             },
             "line": {
              "color": "white"
             }
            },
            "header": {
             "fill": {
              "color": "#C8D4E3"
             },
             "line": {
              "color": "white"
             }
            },
            "type": "table"
           }
          ]
         },
         "layout": {
          "annotationdefaults": {
           "arrowcolor": "#2a3f5f",
           "arrowhead": 0,
           "arrowwidth": 1
          },
          "coloraxis": {
           "colorbar": {
            "outlinewidth": 0,
            "ticks": ""
           }
          },
          "colorscale": {
           "diverging": [
            [
             0,
             "#8e0152"
            ],
            [
             0.1,
             "#c51b7d"
            ],
            [
             0.2,
             "#de77ae"
            ],
            [
             0.3,
             "#f1b6da"
            ],
            [
             0.4,
             "#fde0ef"
            ],
            [
             0.5,
             "#f7f7f7"
            ],
            [
             0.6,
             "#e6f5d0"
            ],
            [
             0.7,
             "#b8e186"
            ],
            [
             0.8,
             "#7fbc41"
            ],
            [
             0.9,
             "#4d9221"
            ],
            [
             1,
             "#276419"
            ]
           ],
           "sequential": [
            [
             0,
             "#0d0887"
            ],
            [
             0.1111111111111111,
             "#46039f"
            ],
            [
             0.2222222222222222,
             "#7201a8"
            ],
            [
             0.3333333333333333,
             "#9c179e"
            ],
            [
             0.4444444444444444,
             "#bd3786"
            ],
            [
             0.5555555555555556,
             "#d8576b"
            ],
            [
             0.6666666666666666,
             "#ed7953"
            ],
            [
             0.7777777777777778,
             "#fb9f3a"
            ],
            [
             0.8888888888888888,
             "#fdca26"
            ],
            [
             1,
             "#f0f921"
            ]
           ],
           "sequentialminus": [
            [
             0,
             "#0d0887"
            ],
            [
             0.1111111111111111,
             "#46039f"
            ],
            [
             0.2222222222222222,
             "#7201a8"
            ],
            [
             0.3333333333333333,
             "#9c179e"
            ],
            [
             0.4444444444444444,
             "#bd3786"
            ],
            [
             0.5555555555555556,
             "#d8576b"
            ],
            [
             0.6666666666666666,
             "#ed7953"
            ],
            [
             0.7777777777777778,
             "#fb9f3a"
            ],
            [
             0.8888888888888888,
             "#fdca26"
            ],
            [
             1,
             "#f0f921"
            ]
           ]
          },
          "colorway": [
           "#636efa",
           "#EF553B",
           "#00cc96",
           "#ab63fa",
           "#FFA15A",
           "#19d3f3",
           "#FF6692",
           "#B6E880",
           "#FF97FF",
           "#FECB52"
          ],
          "font": {
           "color": "#2a3f5f"
          },
          "geo": {
           "bgcolor": "white",
           "lakecolor": "white",
           "landcolor": "#E5ECF6",
           "showlakes": true,
           "showland": true,
           "subunitcolor": "white"
          },
          "hoverlabel": {
           "align": "left"
          },
          "hovermode": "closest",
          "mapbox": {
           "style": "light"
          },
          "paper_bgcolor": "white",
          "plot_bgcolor": "#E5ECF6",
          "polar": {
           "angularaxis": {
            "gridcolor": "white",
            "linecolor": "white",
            "ticks": ""
           },
           "bgcolor": "#E5ECF6",
           "radialaxis": {
            "gridcolor": "white",
            "linecolor": "white",
            "ticks": ""
           }
          },
          "scene": {
           "xaxis": {
            "backgroundcolor": "#E5ECF6",
            "gridcolor": "white",
            "gridwidth": 2,
            "linecolor": "white",
            "showbackground": true,
            "ticks": "",
            "zerolinecolor": "white"
           },
           "yaxis": {
            "backgroundcolor": "#E5ECF6",
            "gridcolor": "white",
            "gridwidth": 2,
            "linecolor": "white",
            "showbackground": true,
            "ticks": "",
            "zerolinecolor": "white"
           },
           "zaxis": {
            "backgroundcolor": "#E5ECF6",
            "gridcolor": "white",
            "gridwidth": 2,
            "linecolor": "white",
            "showbackground": true,
            "ticks": "",
            "zerolinecolor": "white"
           }
          },
          "shapedefaults": {
           "line": {
            "color": "#2a3f5f"
           }
          },
          "ternary": {
           "aaxis": {
            "gridcolor": "white",
            "linecolor": "white",
            "ticks": ""
           },
           "baxis": {
            "gridcolor": "white",
            "linecolor": "white",
            "ticks": ""
           },
           "bgcolor": "#E5ECF6",
           "caxis": {
            "gridcolor": "white",
            "linecolor": "white",
            "ticks": ""
           }
          },
          "title": {
           "x": 0.05
          },
          "xaxis": {
           "automargin": true,
           "gridcolor": "white",
           "linecolor": "white",
           "ticks": "",
           "title": {
            "standoff": 15
           },
           "zerolinecolor": "white",
           "zerolinewidth": 2
          },
          "yaxis": {
           "automargin": true,
           "gridcolor": "white",
           "linecolor": "white",
           "ticks": "",
           "title": {
            "standoff": 15
           },
           "zerolinecolor": "white",
           "zerolinewidth": 2
          }
         }
        },
        "width": 800,
        "xaxis": {
         "showgrid": false,
         "showline": false,
         "showticklabels": false,
         "title": {
          "text": ""
         },
         "zeroline": false
        },
        "yaxis": {
         "showgrid": false,
         "showline": false,
         "showticklabels": false,
         "title": {
          "text": ""
         },
         "zeroline": false
        }
       }
      },
      "text/html": [
       "<div>\n",
       "        \n",
       "        \n",
       "            <div id=\"cbb1e8fc-5065-4aed-885c-d7076c1e1c51\" class=\"plotly-graph-div\" style=\"height:600px; width:800px;\"></div>\n",
       "            <script type=\"text/javascript\">\n",
       "                require([\"plotly\"], function(Plotly) {\n",
       "                    window.PLOTLYENV=window.PLOTLYENV || {};\n",
       "                    \n",
       "                if (document.getElementById(\"cbb1e8fc-5065-4aed-885c-d7076c1e1c51\")) {\n",
       "                    Plotly.newPlot(\n",
       "                        'cbb1e8fc-5065-4aed-885c-d7076c1e1c51',\n",
       "                        [{\"hoverinfo\": \"none\", \"line\": {\"color\": \"gray\", \"width\": 1}, \"mode\": \"lines\", \"name\": \"paraphrase\", \"showlegend\": true, \"type\": \"scatter\", \"x\": [-0.48399792931506125, -0.17131084490242998, null, -0.48399792931506125, -0.4884865794516804, null, 0.2524531429569622, -0.002523740587687546, null, 0.2524531429569622, 0.5409008517424381, null, 0.2524531429569622, -0.17131084490242998, null, 0.24211105787273562, -0.051589527207752214, null, 0.24211105787273562, 0.16244356889247596, null, 0.16244356889247596, -0.051589527207752214, null, -0.4884865794516804, -0.002523740587687546, null, -0.4884865794516804, -0.17131084490242998, null, -0.17131084490242998, -0.002523740587687546, null, 0.5409008517424381, -0.002523740587687546, null], \"y\": [0.4859737835489175, 0.5057728505827116, null, 0.4859737835489175, 0.20065117522723078, null, 0.5386477193364391, 0.07302298456738442, null, 0.5386477193364391, 0.31075170432509924, null, 0.5386477193364391, 0.5057728505827116, null, -0.5348919460512767, -0.5799282715365064, null, -0.5348919460512767, -1.0, null, -1.0, -0.5799282715365064, null, 0.20065117522723078, 0.07302298456738442, null, 0.20065117522723078, 0.5057728505827116, null, 0.5057728505827116, 0.07302298456738442, null, 0.31075170432509924, 0.07302298456738442, null]}, {\"hoverinfo\": \"none\", \"line\": {\"color\": \"gray\", \"dash\": \"dash\", \"width\": 1}, \"mode\": \"lines\", \"name\": \"non-paraphrase\", \"showlegend\": true, \"type\": \"scatter\", \"x\": [0.24211105787273562, -0.002523740587687546, null, -0.051589527207752214, -0.002523740587687546, null], \"y\": [-0.5348919460512767, 0.07302298456738442, null, -0.5799282715365064, 0.07302298456738442, null]}, {\"hoverinfo\": \"none\", \"line\": {\"color\": \"mediumvioletred\", \"dash\": \"dash\", \"width\": 1}, \"mode\": \"lines\", \"name\": \"conflicted\", \"showlegend\": true, \"type\": \"scatter\", \"x\": [-0.002523740587687546, -0.48399792931506125, null], \"y\": [0.07302298456738442, 0.4859737835489175, null]}, {\"marker\": {\"color\": [\"rgb(213,62,79)\", \"rgb(213,62,79)\", \"rgb(253,174,97)\", \"rgb(253,174,97)\", \"rgb(213,62,79)\", \"rgb(213,62,79)\", \"rgb(213,62,79)\", \"rgb(253,174,97)\", \"rgb(213,62,79)\"], \"line\": {\"color\": \"rgb(50,50,50)\", \"width\": 0.5}, \"size\": 10, \"symbol\": \"circle-dot\"}, \"mode\": \"markers+text\", \"showlegend\": false, \"text\": [\"A0\", \"A1\", \"B1\", \"B2\", \"A2\", \"A3\", \"A4\", \"B0\", \"A5\"], \"textposition\": \"top center\", \"type\": \"scatter\", \"x\": [-0.48399792931506125, 0.2524531429569622, 0.24211105787273562, 0.16244356889247596, -0.4884865794516804, -0.17131084490242998, 0.5409008517424381, -0.051589527207752214, -0.002523740587687546], \"y\": [0.4859737835489175, 0.5386477193364391, -0.5348919460512767, -1.0, 0.20065117522723078, 0.5057728505827116, 0.31075170432509924, -0.5799282715365064, 0.07302298456738442]}],\n",
       "                        {\"autosize\": false, \"font\": {\"size\": 12}, \"height\": 600, \"hovermode\": \"closest\", \"margin\": {\"b\": 20, \"l\": 5, \"r\": 5, \"t\": 40}, \"template\": {\"data\": {\"bar\": [{\"error_x\": {\"color\": \"#2a3f5f\"}, \"error_y\": {\"color\": \"#2a3f5f\"}, \"marker\": {\"line\": {\"color\": \"#E5ECF6\", \"width\": 0.5}}, \"type\": \"bar\"}], \"barpolar\": [{\"marker\": {\"line\": {\"color\": \"#E5ECF6\", \"width\": 0.5}}, \"type\": \"barpolar\"}], \"carpet\": [{\"aaxis\": {\"endlinecolor\": \"#2a3f5f\", \"gridcolor\": \"white\", \"linecolor\": \"white\", \"minorgridcolor\": \"white\", \"startlinecolor\": \"#2a3f5f\"}, \"baxis\": {\"endlinecolor\": \"#2a3f5f\", \"gridcolor\": \"white\", \"linecolor\": \"white\", \"minorgridcolor\": \"white\", \"startlinecolor\": \"#2a3f5f\"}, \"type\": \"carpet\"}], \"choropleth\": [{\"colorbar\": {\"outlinewidth\": 0, \"ticks\": \"\"}, \"type\": \"choropleth\"}], \"contour\": [{\"colorbar\": {\"outlinewidth\": 0, \"ticks\": \"\"}, \"colorscale\": [[0.0, \"#0d0887\"], [0.1111111111111111, \"#46039f\"], [0.2222222222222222, \"#7201a8\"], [0.3333333333333333, \"#9c179e\"], [0.4444444444444444, \"#bd3786\"], [0.5555555555555556, \"#d8576b\"], [0.6666666666666666, \"#ed7953\"], [0.7777777777777778, \"#fb9f3a\"], [0.8888888888888888, \"#fdca26\"], [1.0, \"#f0f921\"]], \"type\": \"contour\"}], \"contourcarpet\": [{\"colorbar\": {\"outlinewidth\": 0, \"ticks\": \"\"}, \"type\": \"contourcarpet\"}], \"heatmap\": [{\"colorbar\": {\"outlinewidth\": 0, \"ticks\": \"\"}, \"colorscale\": [[0.0, \"#0d0887\"], [0.1111111111111111, \"#46039f\"], [0.2222222222222222, \"#7201a8\"], [0.3333333333333333, \"#9c179e\"], [0.4444444444444444, \"#bd3786\"], [0.5555555555555556, \"#d8576b\"], [0.6666666666666666, \"#ed7953\"], [0.7777777777777778, \"#fb9f3a\"], [0.8888888888888888, \"#fdca26\"], [1.0, \"#f0f921\"]], \"type\": \"heatmap\"}], \"heatmapgl\": [{\"colorbar\": {\"outlinewidth\": 0, \"ticks\": \"\"}, \"colorscale\": [[0.0, \"#0d0887\"], [0.1111111111111111, \"#46039f\"], [0.2222222222222222, \"#7201a8\"], [0.3333333333333333, \"#9c179e\"], [0.4444444444444444, \"#bd3786\"], [0.5555555555555556, \"#d8576b\"], [0.6666666666666666, \"#ed7953\"], [0.7777777777777778, \"#fb9f3a\"], [0.8888888888888888, \"#fdca26\"], [1.0, \"#f0f921\"]], \"type\": \"heatmapgl\"}], \"histogram\": [{\"marker\": {\"colorbar\": {\"outlinewidth\": 0, \"ticks\": \"\"}}, \"type\": \"histogram\"}], \"histogram2d\": [{\"colorbar\": {\"outlinewidth\": 0, \"ticks\": \"\"}, \"colorscale\": [[0.0, \"#0d0887\"], [0.1111111111111111, \"#46039f\"], [0.2222222222222222, \"#7201a8\"], [0.3333333333333333, \"#9c179e\"], [0.4444444444444444, \"#bd3786\"], [0.5555555555555556, \"#d8576b\"], [0.6666666666666666, \"#ed7953\"], [0.7777777777777778, \"#fb9f3a\"], [0.8888888888888888, \"#fdca26\"], [1.0, \"#f0f921\"]], \"type\": \"histogram2d\"}], \"histogram2dcontour\": [{\"colorbar\": {\"outlinewidth\": 0, \"ticks\": \"\"}, \"colorscale\": [[0.0, \"#0d0887\"], [0.1111111111111111, \"#46039f\"], [0.2222222222222222, \"#7201a8\"], [0.3333333333333333, \"#9c179e\"], [0.4444444444444444, \"#bd3786\"], [0.5555555555555556, \"#d8576b\"], [0.6666666666666666, \"#ed7953\"], [0.7777777777777778, \"#fb9f3a\"], [0.8888888888888888, \"#fdca26\"], [1.0, \"#f0f921\"]], \"type\": \"histogram2dcontour\"}], \"mesh3d\": [{\"colorbar\": {\"outlinewidth\": 0, \"ticks\": \"\"}, \"type\": \"mesh3d\"}], \"parcoords\": [{\"line\": {\"colorbar\": {\"outlinewidth\": 0, \"ticks\": \"\"}}, \"type\": \"parcoords\"}], \"pie\": [{\"automargin\": true, \"type\": \"pie\"}], \"scatter\": [{\"marker\": {\"colorbar\": {\"outlinewidth\": 0, \"ticks\": \"\"}}, \"type\": \"scatter\"}], \"scatter3d\": [{\"line\": {\"colorbar\": {\"outlinewidth\": 0, \"ticks\": \"\"}}, \"marker\": {\"colorbar\": {\"outlinewidth\": 0, \"ticks\": \"\"}}, \"type\": \"scatter3d\"}], \"scattercarpet\": [{\"marker\": {\"colorbar\": {\"outlinewidth\": 0, \"ticks\": \"\"}}, \"type\": \"scattercarpet\"}], \"scattergeo\": [{\"marker\": {\"colorbar\": {\"outlinewidth\": 0, \"ticks\": \"\"}}, \"type\": \"scattergeo\"}], \"scattergl\": [{\"marker\": {\"colorbar\": {\"outlinewidth\": 0, \"ticks\": \"\"}}, \"type\": \"scattergl\"}], \"scattermapbox\": [{\"marker\": {\"colorbar\": {\"outlinewidth\": 0, \"ticks\": \"\"}}, \"type\": \"scattermapbox\"}], \"scatterpolar\": [{\"marker\": {\"colorbar\": {\"outlinewidth\": 0, \"ticks\": \"\"}}, \"type\": \"scatterpolar\"}], \"scatterpolargl\": [{\"marker\": {\"colorbar\": {\"outlinewidth\": 0, \"ticks\": \"\"}}, \"type\": \"scatterpolargl\"}], \"scatterternary\": [{\"marker\": {\"colorbar\": {\"outlinewidth\": 0, \"ticks\": \"\"}}, \"type\": \"scatterternary\"}], \"surface\": [{\"colorbar\": {\"outlinewidth\": 0, \"ticks\": \"\"}, \"colorscale\": [[0.0, \"#0d0887\"], [0.1111111111111111, \"#46039f\"], [0.2222222222222222, \"#7201a8\"], [0.3333333333333333, \"#9c179e\"], [0.4444444444444444, \"#bd3786\"], [0.5555555555555556, \"#d8576b\"], [0.6666666666666666, \"#ed7953\"], [0.7777777777777778, \"#fb9f3a\"], [0.8888888888888888, \"#fdca26\"], [1.0, \"#f0f921\"]], \"type\": \"surface\"}], \"table\": [{\"cells\": {\"fill\": {\"color\": \"#EBF0F8\"}, \"line\": {\"color\": \"white\"}}, \"header\": {\"fill\": {\"color\": \"#C8D4E3\"}, \"line\": {\"color\": \"white\"}}, \"type\": \"table\"}]}, \"layout\": {\"annotationdefaults\": {\"arrowcolor\": \"#2a3f5f\", \"arrowhead\": 0, \"arrowwidth\": 1}, \"coloraxis\": {\"colorbar\": {\"outlinewidth\": 0, \"ticks\": \"\"}}, \"colorscale\": {\"diverging\": [[0, \"#8e0152\"], [0.1, \"#c51b7d\"], [0.2, \"#de77ae\"], [0.3, \"#f1b6da\"], [0.4, \"#fde0ef\"], [0.5, \"#f7f7f7\"], [0.6, \"#e6f5d0\"], [0.7, \"#b8e186\"], [0.8, \"#7fbc41\"], [0.9, \"#4d9221\"], [1, \"#276419\"]], \"sequential\": [[0.0, \"#0d0887\"], [0.1111111111111111, \"#46039f\"], [0.2222222222222222, \"#7201a8\"], [0.3333333333333333, \"#9c179e\"], [0.4444444444444444, \"#bd3786\"], [0.5555555555555556, \"#d8576b\"], [0.6666666666666666, \"#ed7953\"], [0.7777777777777778, \"#fb9f3a\"], [0.8888888888888888, \"#fdca26\"], [1.0, \"#f0f921\"]], \"sequentialminus\": [[0.0, \"#0d0887\"], [0.1111111111111111, \"#46039f\"], [0.2222222222222222, \"#7201a8\"], [0.3333333333333333, \"#9c179e\"], [0.4444444444444444, \"#bd3786\"], [0.5555555555555556, \"#d8576b\"], [0.6666666666666666, \"#ed7953\"], [0.7777777777777778, \"#fb9f3a\"], [0.8888888888888888, \"#fdca26\"], [1.0, \"#f0f921\"]]}, \"colorway\": [\"#636efa\", \"#EF553B\", \"#00cc96\", \"#ab63fa\", \"#FFA15A\", \"#19d3f3\", \"#FF6692\", \"#B6E880\", \"#FF97FF\", \"#FECB52\"], \"font\": {\"color\": \"#2a3f5f\"}, \"geo\": {\"bgcolor\": \"white\", \"lakecolor\": \"white\", \"landcolor\": \"#E5ECF6\", \"showlakes\": true, \"showland\": true, \"subunitcolor\": \"white\"}, \"hoverlabel\": {\"align\": \"left\"}, \"hovermode\": \"closest\", \"mapbox\": {\"style\": \"light\"}, \"paper_bgcolor\": \"white\", \"plot_bgcolor\": \"#E5ECF6\", \"polar\": {\"angularaxis\": {\"gridcolor\": \"white\", \"linecolor\": \"white\", \"ticks\": \"\"}, \"bgcolor\": \"#E5ECF6\", \"radialaxis\": {\"gridcolor\": \"white\", \"linecolor\": \"white\", \"ticks\": \"\"}}, \"scene\": {\"xaxis\": {\"backgroundcolor\": \"#E5ECF6\", \"gridcolor\": \"white\", \"gridwidth\": 2, \"linecolor\": \"white\", \"showbackground\": true, \"ticks\": \"\", \"zerolinecolor\": \"white\"}, \"yaxis\": {\"backgroundcolor\": \"#E5ECF6\", \"gridcolor\": \"white\", \"gridwidth\": 2, \"linecolor\": \"white\", \"showbackground\": true, \"ticks\": \"\", \"zerolinecolor\": \"white\"}, \"zaxis\": {\"backgroundcolor\": \"#E5ECF6\", \"gridcolor\": \"white\", \"gridwidth\": 2, \"linecolor\": \"white\", \"showbackground\": true, \"ticks\": \"\", \"zerolinecolor\": \"white\"}}, \"shapedefaults\": {\"line\": {\"color\": \"#2a3f5f\"}}, \"ternary\": {\"aaxis\": {\"gridcolor\": \"white\", \"linecolor\": \"white\", \"ticks\": \"\"}, \"baxis\": {\"gridcolor\": \"white\", \"linecolor\": \"white\", \"ticks\": \"\"}, \"bgcolor\": \"#E5ECF6\", \"caxis\": {\"gridcolor\": \"white\", \"linecolor\": \"white\", \"ticks\": \"\"}}, \"title\": {\"x\": 0.05}, \"xaxis\": {\"automargin\": true, \"gridcolor\": \"white\", \"linecolor\": \"white\", \"ticks\": \"\", \"title\": {\"standoff\": 15}, \"zerolinecolor\": \"white\", \"zerolinewidth\": 2}, \"yaxis\": {\"automargin\": true, \"gridcolor\": \"white\", \"linecolor\": \"white\", \"ticks\": \"\", \"title\": {\"standoff\": 15}, \"zerolinecolor\": \"white\", \"zerolinewidth\": 2}}}, \"width\": 800, \"xaxis\": {\"showgrid\": false, \"showline\": false, \"showticklabels\": false, \"title\": {\"text\": \"\"}, \"zeroline\": false}, \"yaxis\": {\"showgrid\": false, \"showline\": false, \"showticklabels\": false, \"title\": {\"text\": \"\"}, \"zeroline\": false}},\n",
       "                        {\"responsive\": true}\n",
       "                    ).then(function(){\n",
       "                            \n",
       "var gd = document.getElementById('cbb1e8fc-5065-4aed-885c-d7076c1e1c51');\n",
       "var x = new MutationObserver(function (mutations, observer) {{\n",
       "        var display = window.getComputedStyle(gd).display;\n",
       "        if (!display || display === 'none') {{\n",
       "            console.log([gd, 'removed!']);\n",
       "            Plotly.purge(gd);\n",
       "            observer.disconnect();\n",
       "        }}\n",
       "}});\n",
       "\n",
       "// Listen for the removal of the full notebook cells\n",
       "var notebookContainer = gd.closest('#notebook-container');\n",
       "if (notebookContainer) {{\n",
       "    x.observe(notebookContainer, {childList: true});\n",
       "}}\n",
       "\n",
       "// Listen for the clearing of the current output cell\n",
       "var outputEl = gd.closest('.output');\n",
       "if (outputEl) {{\n",
       "    x.observe(outputEl, {childList: true});\n",
       "}}\n",
       "\n",
       "                        })\n",
       "                };\n",
       "                });\n",
       "            </script>\n",
       "        </div>"
      ]
     },
     "metadata": {},
     "output_type": "display_data"
    }
   ],
   "source": [
    "index = 15\n",
    "plot(unbalanced_subgraphs[index], mislabeled_pairs[index])"
   ]
  },
  {
   "cell_type": "code",
   "execution_count": 30,
   "metadata": {},
   "outputs": [
    {
     "name": "stdout",
     "output_type": "stream",
     "text": [
      "A: How can I write a essay?\n",
      "B: How do I write an essay in English?\n",
      "C: How can we write a essay?\n",
      "D: How do I write a good essay?\n",
      "E: How can I write an essay efficiently?\n",
      "F: Why is it so hard to write an essay?\n",
      "G: How should one write an essay on myself?\n",
      "I: How do I write great essays?\n",
      "H: How do I write an essay?\n",
      "J: What's the best way to write an essay?\n",
      "K: What are the best ways to write an impressive essay?\n",
      "L: How do I write an essay in English effectively?\n",
      "M: Why can't I write good essay?\n"
     ]
    },
    {
     "data": {
      "application/vnd.plotly.v1+json": {
       "config": {
        "plotlyServerURL": "https://plot.ly"
       },
       "data": [
        {
         "hoverinfo": "none",
         "line": {
          "color": "gray",
          "width": 1
         },
         "mode": "lines",
         "name": "paraphrase",
         "showlegend": true,
         "type": "scatter",
         "x": [
          0.18636870283942944,
          0.3638563119077265,
          null,
          0.18636870283942944,
          -0.08205454832217753,
          null,
          0.18636870283942944,
          0.23340515400010114,
          null,
          0.18636870283942944,
          -0.36735026116180375,
          null,
          0.18636870283942944,
          -0.08985373011491869,
          null,
          0.18636870283942944,
          -0.04041641994582793,
          null,
          0.18636870283942944,
          -0.3226150823174728,
          null,
          0.18636870283942944,
          -0.3958340863549483,
          null,
          0.18636870283942944,
          -0.07648758233369388,
          null,
          0.18636870283942944,
          0.21956379893749814,
          null,
          0.18636870283942944,
          -0.6285822571339104,
          null,
          -0.07648758233369388,
          -0.08205454832217753,
          null,
          -0.07648758233369388,
          0.21956379893749814,
          null,
          -0.07648758233369388,
          -0.36735026116180375,
          null,
          -0.07648758233369388,
          0.3638563119077265,
          null,
          -0.07648758233369388,
          0.23340515400010114,
          null,
          -0.07648758233369388,
          -0.08985373011491869,
          null,
          -0.36735026116180375,
          -0.6285822571339104,
          null,
          -0.36735026116180375,
          -0.3958340863549483,
          null,
          -0.36735026116180375,
          -0.08985373011491869,
          null,
          -0.36735026116180375,
          0.21956379893749814,
          null,
          -0.36735026116180375,
          -0.08205454832217753,
          null,
          -0.36735026116180375,
          -0.04041641994582793,
          null,
          -0.36735026116180375,
          0.23340515400010114,
          null,
          -0.08985373011491869,
          -0.04041641994582793,
          null,
          -0.08985373011491869,
          -0.6285822571339104,
          null,
          -0.08985373011491869,
          -0.3958340863549483,
          null,
          -0.08985373011491869,
          -0.3226150823174728,
          null,
          -0.08985373011491869,
          0.21956379893749814,
          null,
          -0.08985373011491869,
          0.3638563119077265,
          null,
          0.3638563119077265,
          -0.08205454832217753,
          null,
          0.3638563119077265,
          -0.3958340863549483,
          null,
          0.3638563119077265,
          0.21956379893749814,
          null,
          -0.3958340863549483,
          -0.3226150823174728,
          null,
          -0.3958340863549483,
          -0.6285822571339104,
          null,
          -0.3958340863549483,
          -0.04041641994582793,
          null,
          -0.3958340863549483,
          -0.08205454832217753,
          null,
          -0.3958340863549483,
          0.21956379893749814,
          null,
          1,
          0.21956379893749814,
          null,
          0.21956379893749814,
          0.23340515400010114,
          null,
          0.21956379893749814,
          -0.08205454832217753,
          null,
          0.21956379893749814,
          -0.6285822571339104,
          null,
          0.21956379893749814,
          -0.3226150823174728,
          null,
          0.21956379893749814,
          -0.04041641994582793,
          null,
          -0.3226150823174728,
          -0.6285822571339104,
          null,
          -0.3226150823174728,
          -0.04041641994582793,
          null
         ],
         "y": [
          -0.04249073758363418,
          -0.38996188957717104,
          null,
          -0.04249073758363418,
          -0.6290958974431284,
          null,
          -0.04249073758363418,
          0.6513164227966495,
          null,
          -0.04249073758363418,
          0.06580067160686973,
          null,
          -0.04249073758363418,
          0.2755762370361281,
          null,
          -0.04249073758363418,
          -0.30932268382906764,
          null,
          -0.04249073758363418,
          0.48254592694237514,
          null,
          -0.04249073758363418,
          -0.2357876337346792,
          null,
          -0.04249073758363418,
          -0.05314900537113138,
          null,
          -0.04249073758363418,
          0.1435664286720027,
          null,
          -0.04249073758363418,
          0.30511552376974493,
          null,
          -0.05314900537113138,
          -0.6290958974431284,
          null,
          -0.05314900537113138,
          0.1435664286720027,
          null,
          -0.05314900537113138,
          0.06580067160686973,
          null,
          -0.05314900537113138,
          -0.38996188957717104,
          null,
          -0.05314900537113138,
          0.6513164227966495,
          null,
          -0.05314900537113138,
          0.2755762370361281,
          null,
          0.06580067160686973,
          0.30511552376974493,
          null,
          0.06580067160686973,
          -0.2357876337346792,
          null,
          0.06580067160686973,
          0.2755762370361281,
          null,
          0.06580067160686973,
          0.1435664286720027,
          null,
          0.06580067160686973,
          -0.6290958974431284,
          null,
          0.06580067160686973,
          -0.30932268382906764,
          null,
          0.06580067160686973,
          0.6513164227966495,
          null,
          0.2755762370361281,
          -0.30932268382906764,
          null,
          0.2755762370361281,
          0.30511552376974493,
          null,
          0.2755762370361281,
          -0.2357876337346792,
          null,
          0.2755762370361281,
          0.48254592694237514,
          null,
          0.2755762370361281,
          0.1435664286720027,
          null,
          0.2755762370361281,
          -0.38996188957717104,
          null,
          -0.38996188957717104,
          -0.6290958974431284,
          null,
          -0.38996188957717104,
          -0.2357876337346792,
          null,
          -0.38996188957717104,
          0.1435664286720027,
          null,
          -0.2357876337346792,
          0.48254592694237514,
          null,
          -0.2357876337346792,
          0.30511552376974493,
          null,
          -0.2357876337346792,
          -0.30932268382906764,
          null,
          -0.2357876337346792,
          -0.6290958974431284,
          null,
          -0.2357876337346792,
          0.1435664286720027,
          null,
          -0.2641133632849585,
          0.1435664286720027,
          null,
          0.1435664286720027,
          0.6513164227966495,
          null,
          0.1435664286720027,
          -0.6290958974431284,
          null,
          0.1435664286720027,
          0.30511552376974493,
          null,
          0.1435664286720027,
          0.48254592694237514,
          null,
          0.1435664286720027,
          -0.30932268382906764,
          null,
          0.48254592694237514,
          0.30511552376974493,
          null,
          0.48254592694237514,
          -0.30932268382906764,
          null
         ]
        },
        {
         "hoverinfo": "none",
         "line": {
          "color": "gray",
          "dash": "dash",
          "width": 1
         },
         "mode": "lines",
         "name": "non-paraphrase",
         "showlegend": true,
         "type": "scatter",
         "x": [],
         "y": []
        },
        {
         "hoverinfo": "none",
         "line": {
          "color": "mediumvioletred",
          "dash": "dash",
          "width": 1
         },
         "mode": "lines",
         "name": "conflicted",
         "showlegend": true,
         "type": "scatter",
         "x": [
          0.18636870283942944,
          1,
          null
         ],
         "y": [
          -0.04249073758363418,
          -0.2641133632849585,
          null
         ]
        },
        {
         "marker": {
          "color": [
           "rgb(244,109,67)",
           "rgb(244,109,67)",
           "rgb(244,109,67)",
           "rgb(244,109,67)",
           "rgb(244,109,67)",
           "rgb(244,109,67)",
           "rgb(244,109,67)",
           "rgb(244,109,67)",
           "rgb(244,109,67)",
           "rgb(244,109,67)",
           "rgb(244,109,67)",
           "rgb(244,109,67)",
           "rgb(244,109,67)"
          ],
          "line": {
           "color": "rgb(50,50,50)",
           "width": 0.5
          },
          "size": 10,
          "symbol": "circle-dot"
         },
         "mode": "markers+text",
         "showlegend": false,
         "text": [
          "A",
          "B",
          "C",
          "D",
          "E",
          "F",
          "G",
          "H",
          "I",
          "J",
          "K",
          "L",
          "M"
         ],
         "textposition": "top center",
         "type": "scatter",
         "x": [
          0.18636870283942944,
          -0.07648758233369388,
          -0.36735026116180375,
          -0.08985373011491869,
          0.3638563119077265,
          -0.3958340863549483,
          1,
          0.21956379893749814,
          -0.08205454832217753,
          -0.3226150823174728,
          -0.04041641994582793,
          0.23340515400010114,
          -0.6285822571339104
         ],
         "y": [
          -0.04249073758363418,
          -0.05314900537113138,
          0.06580067160686973,
          0.2755762370361281,
          -0.38996188957717104,
          -0.2357876337346792,
          -0.2641133632849585,
          0.1435664286720027,
          -0.6290958974431284,
          0.48254592694237514,
          -0.30932268382906764,
          0.6513164227966495,
          0.30511552376974493
         ]
        }
       ],
       "layout": {
        "autosize": false,
        "font": {
         "size": 12
        },
        "height": 600,
        "hovermode": "closest",
        "margin": {
         "b": 20,
         "l": 5,
         "r": 5,
         "t": 40
        },
        "template": {
         "data": {
          "bar": [
           {
            "error_x": {
             "color": "#2a3f5f"
            },
            "error_y": {
             "color": "#2a3f5f"
            },
            "marker": {
             "line": {
              "color": "#E5ECF6",
              "width": 0.5
             }
            },
            "type": "bar"
           }
          ],
          "barpolar": [
           {
            "marker": {
             "line": {
              "color": "#E5ECF6",
              "width": 0.5
             }
            },
            "type": "barpolar"
           }
          ],
          "carpet": [
           {
            "aaxis": {
             "endlinecolor": "#2a3f5f",
             "gridcolor": "white",
             "linecolor": "white",
             "minorgridcolor": "white",
             "startlinecolor": "#2a3f5f"
            },
            "baxis": {
             "endlinecolor": "#2a3f5f",
             "gridcolor": "white",
             "linecolor": "white",
             "minorgridcolor": "white",
             "startlinecolor": "#2a3f5f"
            },
            "type": "carpet"
           }
          ],
          "choropleth": [
           {
            "colorbar": {
             "outlinewidth": 0,
             "ticks": ""
            },
            "type": "choropleth"
           }
          ],
          "contour": [
           {
            "colorbar": {
             "outlinewidth": 0,
             "ticks": ""
            },
            "colorscale": [
             [
              0,
              "#0d0887"
             ],
             [
              0.1111111111111111,
              "#46039f"
             ],
             [
              0.2222222222222222,
              "#7201a8"
             ],
             [
              0.3333333333333333,
              "#9c179e"
             ],
             [
              0.4444444444444444,
              "#bd3786"
             ],
             [
              0.5555555555555556,
              "#d8576b"
             ],
             [
              0.6666666666666666,
              "#ed7953"
             ],
             [
              0.7777777777777778,
              "#fb9f3a"
             ],
             [
              0.8888888888888888,
              "#fdca26"
             ],
             [
              1,
              "#f0f921"
             ]
            ],
            "type": "contour"
           }
          ],
          "contourcarpet": [
           {
            "colorbar": {
             "outlinewidth": 0,
             "ticks": ""
            },
            "type": "contourcarpet"
           }
          ],
          "heatmap": [
           {
            "colorbar": {
             "outlinewidth": 0,
             "ticks": ""
            },
            "colorscale": [
             [
              0,
              "#0d0887"
             ],
             [
              0.1111111111111111,
              "#46039f"
             ],
             [
              0.2222222222222222,
              "#7201a8"
             ],
             [
              0.3333333333333333,
              "#9c179e"
             ],
             [
              0.4444444444444444,
              "#bd3786"
             ],
             [
              0.5555555555555556,
              "#d8576b"
             ],
             [
              0.6666666666666666,
              "#ed7953"
             ],
             [
              0.7777777777777778,
              "#fb9f3a"
             ],
             [
              0.8888888888888888,
              "#fdca26"
             ],
             [
              1,
              "#f0f921"
             ]
            ],
            "type": "heatmap"
           }
          ],
          "heatmapgl": [
           {
            "colorbar": {
             "outlinewidth": 0,
             "ticks": ""
            },
            "colorscale": [
             [
              0,
              "#0d0887"
             ],
             [
              0.1111111111111111,
              "#46039f"
             ],
             [
              0.2222222222222222,
              "#7201a8"
             ],
             [
              0.3333333333333333,
              "#9c179e"
             ],
             [
              0.4444444444444444,
              "#bd3786"
             ],
             [
              0.5555555555555556,
              "#d8576b"
             ],
             [
              0.6666666666666666,
              "#ed7953"
             ],
             [
              0.7777777777777778,
              "#fb9f3a"
             ],
             [
              0.8888888888888888,
              "#fdca26"
             ],
             [
              1,
              "#f0f921"
             ]
            ],
            "type": "heatmapgl"
           }
          ],
          "histogram": [
           {
            "marker": {
             "colorbar": {
              "outlinewidth": 0,
              "ticks": ""
             }
            },
            "type": "histogram"
           }
          ],
          "histogram2d": [
           {
            "colorbar": {
             "outlinewidth": 0,
             "ticks": ""
            },
            "colorscale": [
             [
              0,
              "#0d0887"
             ],
             [
              0.1111111111111111,
              "#46039f"
             ],
             [
              0.2222222222222222,
              "#7201a8"
             ],
             [
              0.3333333333333333,
              "#9c179e"
             ],
             [
              0.4444444444444444,
              "#bd3786"
             ],
             [
              0.5555555555555556,
              "#d8576b"
             ],
             [
              0.6666666666666666,
              "#ed7953"
             ],
             [
              0.7777777777777778,
              "#fb9f3a"
             ],
             [
              0.8888888888888888,
              "#fdca26"
             ],
             [
              1,
              "#f0f921"
             ]
            ],
            "type": "histogram2d"
           }
          ],
          "histogram2dcontour": [
           {
            "colorbar": {
             "outlinewidth": 0,
             "ticks": ""
            },
            "colorscale": [
             [
              0,
              "#0d0887"
             ],
             [
              0.1111111111111111,
              "#46039f"
             ],
             [
              0.2222222222222222,
              "#7201a8"
             ],
             [
              0.3333333333333333,
              "#9c179e"
             ],
             [
              0.4444444444444444,
              "#bd3786"
             ],
             [
              0.5555555555555556,
              "#d8576b"
             ],
             [
              0.6666666666666666,
              "#ed7953"
             ],
             [
              0.7777777777777778,
              "#fb9f3a"
             ],
             [
              0.8888888888888888,
              "#fdca26"
             ],
             [
              1,
              "#f0f921"
             ]
            ],
            "type": "histogram2dcontour"
           }
          ],
          "mesh3d": [
           {
            "colorbar": {
             "outlinewidth": 0,
             "ticks": ""
            },
            "type": "mesh3d"
           }
          ],
          "parcoords": [
           {
            "line": {
             "colorbar": {
              "outlinewidth": 0,
              "ticks": ""
             }
            },
            "type": "parcoords"
           }
          ],
          "pie": [
           {
            "automargin": true,
            "type": "pie"
           }
          ],
          "scatter": [
           {
            "marker": {
             "colorbar": {
              "outlinewidth": 0,
              "ticks": ""
             }
            },
            "type": "scatter"
           }
          ],
          "scatter3d": [
           {
            "line": {
             "colorbar": {
              "outlinewidth": 0,
              "ticks": ""
             }
            },
            "marker": {
             "colorbar": {
              "outlinewidth": 0,
              "ticks": ""
             }
            },
            "type": "scatter3d"
           }
          ],
          "scattercarpet": [
           {
            "marker": {
             "colorbar": {
              "outlinewidth": 0,
              "ticks": ""
             }
            },
            "type": "scattercarpet"
           }
          ],
          "scattergeo": [
           {
            "marker": {
             "colorbar": {
              "outlinewidth": 0,
              "ticks": ""
             }
            },
            "type": "scattergeo"
           }
          ],
          "scattergl": [
           {
            "marker": {
             "colorbar": {
              "outlinewidth": 0,
              "ticks": ""
             }
            },
            "type": "scattergl"
           }
          ],
          "scattermapbox": [
           {
            "marker": {
             "colorbar": {
              "outlinewidth": 0,
              "ticks": ""
             }
            },
            "type": "scattermapbox"
           }
          ],
          "scatterpolar": [
           {
            "marker": {
             "colorbar": {
              "outlinewidth": 0,
              "ticks": ""
             }
            },
            "type": "scatterpolar"
           }
          ],
          "scatterpolargl": [
           {
            "marker": {
             "colorbar": {
              "outlinewidth": 0,
              "ticks": ""
             }
            },
            "type": "scatterpolargl"
           }
          ],
          "scatterternary": [
           {
            "marker": {
             "colorbar": {
              "outlinewidth": 0,
              "ticks": ""
             }
            },
            "type": "scatterternary"
           }
          ],
          "surface": [
           {
            "colorbar": {
             "outlinewidth": 0,
             "ticks": ""
            },
            "colorscale": [
             [
              0,
              "#0d0887"
             ],
             [
              0.1111111111111111,
              "#46039f"
             ],
             [
              0.2222222222222222,
              "#7201a8"
             ],
             [
              0.3333333333333333,
              "#9c179e"
             ],
             [
              0.4444444444444444,
              "#bd3786"
             ],
             [
              0.5555555555555556,
              "#d8576b"
             ],
             [
              0.6666666666666666,
              "#ed7953"
             ],
             [
              0.7777777777777778,
              "#fb9f3a"
             ],
             [
              0.8888888888888888,
              "#fdca26"
             ],
             [
              1,
              "#f0f921"
             ]
            ],
            "type": "surface"
           }
          ],
          "table": [
           {
            "cells": {
             "fill": {
              "color": "#EBF0F8"
             },
             "line": {
              "color": "white"
             }
            },
            "header": {
             "fill": {
              "color": "#C8D4E3"
             },
             "line": {
              "color": "white"
             }
            },
            "type": "table"
           }
          ]
         },
         "layout": {
          "annotationdefaults": {
           "arrowcolor": "#2a3f5f",
           "arrowhead": 0,
           "arrowwidth": 1
          },
          "coloraxis": {
           "colorbar": {
            "outlinewidth": 0,
            "ticks": ""
           }
          },
          "colorscale": {
           "diverging": [
            [
             0,
             "#8e0152"
            ],
            [
             0.1,
             "#c51b7d"
            ],
            [
             0.2,
             "#de77ae"
            ],
            [
             0.3,
             "#f1b6da"
            ],
            [
             0.4,
             "#fde0ef"
            ],
            [
             0.5,
             "#f7f7f7"
            ],
            [
             0.6,
             "#e6f5d0"
            ],
            [
             0.7,
             "#b8e186"
            ],
            [
             0.8,
             "#7fbc41"
            ],
            [
             0.9,
             "#4d9221"
            ],
            [
             1,
             "#276419"
            ]
           ],
           "sequential": [
            [
             0,
             "#0d0887"
            ],
            [
             0.1111111111111111,
             "#46039f"
            ],
            [
             0.2222222222222222,
             "#7201a8"
            ],
            [
             0.3333333333333333,
             "#9c179e"
            ],
            [
             0.4444444444444444,
             "#bd3786"
            ],
            [
             0.5555555555555556,
             "#d8576b"
            ],
            [
             0.6666666666666666,
             "#ed7953"
            ],
            [
             0.7777777777777778,
             "#fb9f3a"
            ],
            [
             0.8888888888888888,
             "#fdca26"
            ],
            [
             1,
             "#f0f921"
            ]
           ],
           "sequentialminus": [
            [
             0,
             "#0d0887"
            ],
            [
             0.1111111111111111,
             "#46039f"
            ],
            [
             0.2222222222222222,
             "#7201a8"
            ],
            [
             0.3333333333333333,
             "#9c179e"
            ],
            [
             0.4444444444444444,
             "#bd3786"
            ],
            [
             0.5555555555555556,
             "#d8576b"
            ],
            [
             0.6666666666666666,
             "#ed7953"
            ],
            [
             0.7777777777777778,
             "#fb9f3a"
            ],
            [
             0.8888888888888888,
             "#fdca26"
            ],
            [
             1,
             "#f0f921"
            ]
           ]
          },
          "colorway": [
           "#636efa",
           "#EF553B",
           "#00cc96",
           "#ab63fa",
           "#FFA15A",
           "#19d3f3",
           "#FF6692",
           "#B6E880",
           "#FF97FF",
           "#FECB52"
          ],
          "font": {
           "color": "#2a3f5f"
          },
          "geo": {
           "bgcolor": "white",
           "lakecolor": "white",
           "landcolor": "#E5ECF6",
           "showlakes": true,
           "showland": true,
           "subunitcolor": "white"
          },
          "hoverlabel": {
           "align": "left"
          },
          "hovermode": "closest",
          "mapbox": {
           "style": "light"
          },
          "paper_bgcolor": "white",
          "plot_bgcolor": "#E5ECF6",
          "polar": {
           "angularaxis": {
            "gridcolor": "white",
            "linecolor": "white",
            "ticks": ""
           },
           "bgcolor": "#E5ECF6",
           "radialaxis": {
            "gridcolor": "white",
            "linecolor": "white",
            "ticks": ""
           }
          },
          "scene": {
           "xaxis": {
            "backgroundcolor": "#E5ECF6",
            "gridcolor": "white",
            "gridwidth": 2,
            "linecolor": "white",
            "showbackground": true,
            "ticks": "",
            "zerolinecolor": "white"
           },
           "yaxis": {
            "backgroundcolor": "#E5ECF6",
            "gridcolor": "white",
            "gridwidth": 2,
            "linecolor": "white",
            "showbackground": true,
            "ticks": "",
            "zerolinecolor": "white"
           },
           "zaxis": {
            "backgroundcolor": "#E5ECF6",
            "gridcolor": "white",
            "gridwidth": 2,
            "linecolor": "white",
            "showbackground": true,
            "ticks": "",
            "zerolinecolor": "white"
           }
          },
          "shapedefaults": {
           "line": {
            "color": "#2a3f5f"
           }
          },
          "ternary": {
           "aaxis": {
            "gridcolor": "white",
            "linecolor": "white",
            "ticks": ""
           },
           "baxis": {
            "gridcolor": "white",
            "linecolor": "white",
            "ticks": ""
           },
           "bgcolor": "#E5ECF6",
           "caxis": {
            "gridcolor": "white",
            "linecolor": "white",
            "ticks": ""
           }
          },
          "title": {
           "x": 0.05
          },
          "xaxis": {
           "automargin": true,
           "gridcolor": "white",
           "linecolor": "white",
           "ticks": "",
           "title": {
            "standoff": 15
           },
           "zerolinecolor": "white",
           "zerolinewidth": 2
          },
          "yaxis": {
           "automargin": true,
           "gridcolor": "white",
           "linecolor": "white",
           "ticks": "",
           "title": {
            "standoff": 15
           },
           "zerolinecolor": "white",
           "zerolinewidth": 2
          }
         }
        },
        "width": 800,
        "xaxis": {
         "showgrid": false,
         "showline": false,
         "showticklabels": false,
         "title": {
          "text": ""
         },
         "zeroline": false
        },
        "yaxis": {
         "showgrid": false,
         "showline": false,
         "showticklabels": false,
         "title": {
          "text": ""
         },
         "zeroline": false
        }
       }
      },
      "text/html": [
       "<div>\n",
       "        \n",
       "        \n",
       "            <div id=\"1e1b7b6b-75df-4bbd-a653-4b4e77648a52\" class=\"plotly-graph-div\" style=\"height:600px; width:800px;\"></div>\n",
       "            <script type=\"text/javascript\">\n",
       "                require([\"plotly\"], function(Plotly) {\n",
       "                    window.PLOTLYENV=window.PLOTLYENV || {};\n",
       "                    \n",
       "                if (document.getElementById(\"1e1b7b6b-75df-4bbd-a653-4b4e77648a52\")) {\n",
       "                    Plotly.newPlot(\n",
       "                        '1e1b7b6b-75df-4bbd-a653-4b4e77648a52',\n",
       "                        [{\"hoverinfo\": \"none\", \"line\": {\"color\": \"gray\", \"width\": 1}, \"mode\": \"lines\", \"name\": \"paraphrase\", \"showlegend\": true, \"type\": \"scatter\", \"x\": [0.18636870283942944, 0.3638563119077265, null, 0.18636870283942944, -0.08205454832217753, null, 0.18636870283942944, 0.23340515400010114, null, 0.18636870283942944, -0.36735026116180375, null, 0.18636870283942944, -0.08985373011491869, null, 0.18636870283942944, -0.04041641994582793, null, 0.18636870283942944, -0.3226150823174728, null, 0.18636870283942944, -0.3958340863549483, null, 0.18636870283942944, -0.07648758233369388, null, 0.18636870283942944, 0.21956379893749814, null, 0.18636870283942944, -0.6285822571339104, null, -0.07648758233369388, -0.08205454832217753, null, -0.07648758233369388, 0.21956379893749814, null, -0.07648758233369388, -0.36735026116180375, null, -0.07648758233369388, 0.3638563119077265, null, -0.07648758233369388, 0.23340515400010114, null, -0.07648758233369388, -0.08985373011491869, null, -0.36735026116180375, -0.6285822571339104, null, -0.36735026116180375, -0.3958340863549483, null, -0.36735026116180375, -0.08985373011491869, null, -0.36735026116180375, 0.21956379893749814, null, -0.36735026116180375, -0.08205454832217753, null, -0.36735026116180375, -0.04041641994582793, null, -0.36735026116180375, 0.23340515400010114, null, -0.08985373011491869, -0.04041641994582793, null, -0.08985373011491869, -0.6285822571339104, null, -0.08985373011491869, -0.3958340863549483, null, -0.08985373011491869, -0.3226150823174728, null, -0.08985373011491869, 0.21956379893749814, null, -0.08985373011491869, 0.3638563119077265, null, 0.3638563119077265, -0.08205454832217753, null, 0.3638563119077265, -0.3958340863549483, null, 0.3638563119077265, 0.21956379893749814, null, -0.3958340863549483, -0.3226150823174728, null, -0.3958340863549483, -0.6285822571339104, null, -0.3958340863549483, -0.04041641994582793, null, -0.3958340863549483, -0.08205454832217753, null, -0.3958340863549483, 0.21956379893749814, null, 1.0, 0.21956379893749814, null, 0.21956379893749814, 0.23340515400010114, null, 0.21956379893749814, -0.08205454832217753, null, 0.21956379893749814, -0.6285822571339104, null, 0.21956379893749814, -0.3226150823174728, null, 0.21956379893749814, -0.04041641994582793, null, -0.3226150823174728, -0.6285822571339104, null, -0.3226150823174728, -0.04041641994582793, null], \"y\": [-0.04249073758363418, -0.38996188957717104, null, -0.04249073758363418, -0.6290958974431284, null, -0.04249073758363418, 0.6513164227966495, null, -0.04249073758363418, 0.06580067160686973, null, -0.04249073758363418, 0.2755762370361281, null, -0.04249073758363418, -0.30932268382906764, null, -0.04249073758363418, 0.48254592694237514, null, -0.04249073758363418, -0.2357876337346792, null, -0.04249073758363418, -0.05314900537113138, null, -0.04249073758363418, 0.1435664286720027, null, -0.04249073758363418, 0.30511552376974493, null, -0.05314900537113138, -0.6290958974431284, null, -0.05314900537113138, 0.1435664286720027, null, -0.05314900537113138, 0.06580067160686973, null, -0.05314900537113138, -0.38996188957717104, null, -0.05314900537113138, 0.6513164227966495, null, -0.05314900537113138, 0.2755762370361281, null, 0.06580067160686973, 0.30511552376974493, null, 0.06580067160686973, -0.2357876337346792, null, 0.06580067160686973, 0.2755762370361281, null, 0.06580067160686973, 0.1435664286720027, null, 0.06580067160686973, -0.6290958974431284, null, 0.06580067160686973, -0.30932268382906764, null, 0.06580067160686973, 0.6513164227966495, null, 0.2755762370361281, -0.30932268382906764, null, 0.2755762370361281, 0.30511552376974493, null, 0.2755762370361281, -0.2357876337346792, null, 0.2755762370361281, 0.48254592694237514, null, 0.2755762370361281, 0.1435664286720027, null, 0.2755762370361281, -0.38996188957717104, null, -0.38996188957717104, -0.6290958974431284, null, -0.38996188957717104, -0.2357876337346792, null, -0.38996188957717104, 0.1435664286720027, null, -0.2357876337346792, 0.48254592694237514, null, -0.2357876337346792, 0.30511552376974493, null, -0.2357876337346792, -0.30932268382906764, null, -0.2357876337346792, -0.6290958974431284, null, -0.2357876337346792, 0.1435664286720027, null, -0.2641133632849585, 0.1435664286720027, null, 0.1435664286720027, 0.6513164227966495, null, 0.1435664286720027, -0.6290958974431284, null, 0.1435664286720027, 0.30511552376974493, null, 0.1435664286720027, 0.48254592694237514, null, 0.1435664286720027, -0.30932268382906764, null, 0.48254592694237514, 0.30511552376974493, null, 0.48254592694237514, -0.30932268382906764, null]}, {\"hoverinfo\": \"none\", \"line\": {\"color\": \"gray\", \"dash\": \"dash\", \"width\": 1}, \"mode\": \"lines\", \"name\": \"non-paraphrase\", \"showlegend\": true, \"type\": \"scatter\", \"x\": [], \"y\": []}, {\"hoverinfo\": \"none\", \"line\": {\"color\": \"mediumvioletred\", \"dash\": \"dash\", \"width\": 1}, \"mode\": \"lines\", \"name\": \"conflicted\", \"showlegend\": true, \"type\": \"scatter\", \"x\": [0.18636870283942944, 1.0, null], \"y\": [-0.04249073758363418, -0.2641133632849585, null]}, {\"marker\": {\"color\": [\"rgb(244,109,67)\", \"rgb(244,109,67)\", \"rgb(244,109,67)\", \"rgb(244,109,67)\", \"rgb(244,109,67)\", \"rgb(244,109,67)\", \"rgb(244,109,67)\", \"rgb(244,109,67)\", \"rgb(244,109,67)\", \"rgb(244,109,67)\", \"rgb(244,109,67)\", \"rgb(244,109,67)\", \"rgb(244,109,67)\"], \"line\": {\"color\": \"rgb(50,50,50)\", \"width\": 0.5}, \"size\": 10, \"symbol\": \"circle-dot\"}, \"mode\": \"markers+text\", \"showlegend\": false, \"text\": [\"A\", \"B\", \"C\", \"D\", \"E\", \"F\", \"G\", \"H\", \"I\", \"J\", \"K\", \"L\", \"M\"], \"textposition\": \"top center\", \"type\": \"scatter\", \"x\": [0.18636870283942944, -0.07648758233369388, -0.36735026116180375, -0.08985373011491869, 0.3638563119077265, -0.3958340863549483, 1.0, 0.21956379893749814, -0.08205454832217753, -0.3226150823174728, -0.04041641994582793, 0.23340515400010114, -0.6285822571339104], \"y\": [-0.04249073758363418, -0.05314900537113138, 0.06580067160686973, 0.2755762370361281, -0.38996188957717104, -0.2357876337346792, -0.2641133632849585, 0.1435664286720027, -0.6290958974431284, 0.48254592694237514, -0.30932268382906764, 0.6513164227966495, 0.30511552376974493]}],\n",
       "                        {\"autosize\": false, \"font\": {\"size\": 12}, \"height\": 600, \"hovermode\": \"closest\", \"margin\": {\"b\": 20, \"l\": 5, \"r\": 5, \"t\": 40}, \"template\": {\"data\": {\"bar\": [{\"error_x\": {\"color\": \"#2a3f5f\"}, \"error_y\": {\"color\": \"#2a3f5f\"}, \"marker\": {\"line\": {\"color\": \"#E5ECF6\", \"width\": 0.5}}, \"type\": \"bar\"}], \"barpolar\": [{\"marker\": {\"line\": {\"color\": \"#E5ECF6\", \"width\": 0.5}}, \"type\": \"barpolar\"}], \"carpet\": [{\"aaxis\": {\"endlinecolor\": \"#2a3f5f\", \"gridcolor\": \"white\", \"linecolor\": \"white\", \"minorgridcolor\": \"white\", \"startlinecolor\": \"#2a3f5f\"}, \"baxis\": {\"endlinecolor\": \"#2a3f5f\", \"gridcolor\": \"white\", \"linecolor\": \"white\", \"minorgridcolor\": \"white\", \"startlinecolor\": \"#2a3f5f\"}, \"type\": \"carpet\"}], \"choropleth\": [{\"colorbar\": {\"outlinewidth\": 0, \"ticks\": \"\"}, \"type\": \"choropleth\"}], \"contour\": [{\"colorbar\": {\"outlinewidth\": 0, \"ticks\": \"\"}, \"colorscale\": [[0.0, \"#0d0887\"], [0.1111111111111111, \"#46039f\"], [0.2222222222222222, \"#7201a8\"], [0.3333333333333333, \"#9c179e\"], [0.4444444444444444, \"#bd3786\"], [0.5555555555555556, \"#d8576b\"], [0.6666666666666666, \"#ed7953\"], [0.7777777777777778, \"#fb9f3a\"], [0.8888888888888888, \"#fdca26\"], [1.0, \"#f0f921\"]], \"type\": \"contour\"}], \"contourcarpet\": [{\"colorbar\": {\"outlinewidth\": 0, \"ticks\": \"\"}, \"type\": \"contourcarpet\"}], \"heatmap\": [{\"colorbar\": {\"outlinewidth\": 0, \"ticks\": \"\"}, \"colorscale\": [[0.0, \"#0d0887\"], [0.1111111111111111, \"#46039f\"], [0.2222222222222222, \"#7201a8\"], [0.3333333333333333, \"#9c179e\"], [0.4444444444444444, \"#bd3786\"], [0.5555555555555556, \"#d8576b\"], [0.6666666666666666, \"#ed7953\"], [0.7777777777777778, \"#fb9f3a\"], [0.8888888888888888, \"#fdca26\"], [1.0, \"#f0f921\"]], \"type\": \"heatmap\"}], \"heatmapgl\": [{\"colorbar\": {\"outlinewidth\": 0, \"ticks\": \"\"}, \"colorscale\": [[0.0, \"#0d0887\"], [0.1111111111111111, \"#46039f\"], [0.2222222222222222, \"#7201a8\"], [0.3333333333333333, \"#9c179e\"], [0.4444444444444444, \"#bd3786\"], [0.5555555555555556, \"#d8576b\"], [0.6666666666666666, \"#ed7953\"], [0.7777777777777778, \"#fb9f3a\"], [0.8888888888888888, \"#fdca26\"], [1.0, \"#f0f921\"]], \"type\": \"heatmapgl\"}], \"histogram\": [{\"marker\": {\"colorbar\": {\"outlinewidth\": 0, \"ticks\": \"\"}}, \"type\": \"histogram\"}], \"histogram2d\": [{\"colorbar\": {\"outlinewidth\": 0, \"ticks\": \"\"}, \"colorscale\": [[0.0, \"#0d0887\"], [0.1111111111111111, \"#46039f\"], [0.2222222222222222, \"#7201a8\"], [0.3333333333333333, \"#9c179e\"], [0.4444444444444444, \"#bd3786\"], [0.5555555555555556, \"#d8576b\"], [0.6666666666666666, \"#ed7953\"], [0.7777777777777778, \"#fb9f3a\"], [0.8888888888888888, \"#fdca26\"], [1.0, \"#f0f921\"]], \"type\": \"histogram2d\"}], \"histogram2dcontour\": [{\"colorbar\": {\"outlinewidth\": 0, \"ticks\": \"\"}, \"colorscale\": [[0.0, \"#0d0887\"], [0.1111111111111111, \"#46039f\"], [0.2222222222222222, \"#7201a8\"], [0.3333333333333333, \"#9c179e\"], [0.4444444444444444, \"#bd3786\"], [0.5555555555555556, \"#d8576b\"], [0.6666666666666666, \"#ed7953\"], [0.7777777777777778, \"#fb9f3a\"], [0.8888888888888888, \"#fdca26\"], [1.0, \"#f0f921\"]], \"type\": \"histogram2dcontour\"}], \"mesh3d\": [{\"colorbar\": {\"outlinewidth\": 0, \"ticks\": \"\"}, \"type\": \"mesh3d\"}], \"parcoords\": [{\"line\": {\"colorbar\": {\"outlinewidth\": 0, \"ticks\": \"\"}}, \"type\": \"parcoords\"}], \"pie\": [{\"automargin\": true, \"type\": \"pie\"}], \"scatter\": [{\"marker\": {\"colorbar\": {\"outlinewidth\": 0, \"ticks\": \"\"}}, \"type\": \"scatter\"}], \"scatter3d\": [{\"line\": {\"colorbar\": {\"outlinewidth\": 0, \"ticks\": \"\"}}, \"marker\": {\"colorbar\": {\"outlinewidth\": 0, \"ticks\": \"\"}}, \"type\": \"scatter3d\"}], \"scattercarpet\": [{\"marker\": {\"colorbar\": {\"outlinewidth\": 0, \"ticks\": \"\"}}, \"type\": \"scattercarpet\"}], \"scattergeo\": [{\"marker\": {\"colorbar\": {\"outlinewidth\": 0, \"ticks\": \"\"}}, \"type\": \"scattergeo\"}], \"scattergl\": [{\"marker\": {\"colorbar\": {\"outlinewidth\": 0, \"ticks\": \"\"}}, \"type\": \"scattergl\"}], \"scattermapbox\": [{\"marker\": {\"colorbar\": {\"outlinewidth\": 0, \"ticks\": \"\"}}, \"type\": \"scattermapbox\"}], \"scatterpolar\": [{\"marker\": {\"colorbar\": {\"outlinewidth\": 0, \"ticks\": \"\"}}, \"type\": \"scatterpolar\"}], \"scatterpolargl\": [{\"marker\": {\"colorbar\": {\"outlinewidth\": 0, \"ticks\": \"\"}}, \"type\": \"scatterpolargl\"}], \"scatterternary\": [{\"marker\": {\"colorbar\": {\"outlinewidth\": 0, \"ticks\": \"\"}}, \"type\": \"scatterternary\"}], \"surface\": [{\"colorbar\": {\"outlinewidth\": 0, \"ticks\": \"\"}, \"colorscale\": [[0.0, \"#0d0887\"], [0.1111111111111111, \"#46039f\"], [0.2222222222222222, \"#7201a8\"], [0.3333333333333333, \"#9c179e\"], [0.4444444444444444, \"#bd3786\"], [0.5555555555555556, \"#d8576b\"], [0.6666666666666666, \"#ed7953\"], [0.7777777777777778, \"#fb9f3a\"], [0.8888888888888888, \"#fdca26\"], [1.0, \"#f0f921\"]], \"type\": \"surface\"}], \"table\": [{\"cells\": {\"fill\": {\"color\": \"#EBF0F8\"}, \"line\": {\"color\": \"white\"}}, \"header\": {\"fill\": {\"color\": \"#C8D4E3\"}, \"line\": {\"color\": \"white\"}}, \"type\": \"table\"}]}, \"layout\": {\"annotationdefaults\": {\"arrowcolor\": \"#2a3f5f\", \"arrowhead\": 0, \"arrowwidth\": 1}, \"coloraxis\": {\"colorbar\": {\"outlinewidth\": 0, \"ticks\": \"\"}}, \"colorscale\": {\"diverging\": [[0, \"#8e0152\"], [0.1, \"#c51b7d\"], [0.2, \"#de77ae\"], [0.3, \"#f1b6da\"], [0.4, \"#fde0ef\"], [0.5, \"#f7f7f7\"], [0.6, \"#e6f5d0\"], [0.7, \"#b8e186\"], [0.8, \"#7fbc41\"], [0.9, \"#4d9221\"], [1, \"#276419\"]], \"sequential\": [[0.0, \"#0d0887\"], [0.1111111111111111, \"#46039f\"], [0.2222222222222222, \"#7201a8\"], [0.3333333333333333, \"#9c179e\"], [0.4444444444444444, \"#bd3786\"], [0.5555555555555556, \"#d8576b\"], [0.6666666666666666, \"#ed7953\"], [0.7777777777777778, \"#fb9f3a\"], [0.8888888888888888, \"#fdca26\"], [1.0, \"#f0f921\"]], \"sequentialminus\": [[0.0, \"#0d0887\"], [0.1111111111111111, \"#46039f\"], [0.2222222222222222, \"#7201a8\"], [0.3333333333333333, \"#9c179e\"], [0.4444444444444444, \"#bd3786\"], [0.5555555555555556, \"#d8576b\"], [0.6666666666666666, \"#ed7953\"], [0.7777777777777778, \"#fb9f3a\"], [0.8888888888888888, \"#fdca26\"], [1.0, \"#f0f921\"]]}, \"colorway\": [\"#636efa\", \"#EF553B\", \"#00cc96\", \"#ab63fa\", \"#FFA15A\", \"#19d3f3\", \"#FF6692\", \"#B6E880\", \"#FF97FF\", \"#FECB52\"], \"font\": {\"color\": \"#2a3f5f\"}, \"geo\": {\"bgcolor\": \"white\", \"lakecolor\": \"white\", \"landcolor\": \"#E5ECF6\", \"showlakes\": true, \"showland\": true, \"subunitcolor\": \"white\"}, \"hoverlabel\": {\"align\": \"left\"}, \"hovermode\": \"closest\", \"mapbox\": {\"style\": \"light\"}, \"paper_bgcolor\": \"white\", \"plot_bgcolor\": \"#E5ECF6\", \"polar\": {\"angularaxis\": {\"gridcolor\": \"white\", \"linecolor\": \"white\", \"ticks\": \"\"}, \"bgcolor\": \"#E5ECF6\", \"radialaxis\": {\"gridcolor\": \"white\", \"linecolor\": \"white\", \"ticks\": \"\"}}, \"scene\": {\"xaxis\": {\"backgroundcolor\": \"#E5ECF6\", \"gridcolor\": \"white\", \"gridwidth\": 2, \"linecolor\": \"white\", \"showbackground\": true, \"ticks\": \"\", \"zerolinecolor\": \"white\"}, \"yaxis\": {\"backgroundcolor\": \"#E5ECF6\", \"gridcolor\": \"white\", \"gridwidth\": 2, \"linecolor\": \"white\", \"showbackground\": true, \"ticks\": \"\", \"zerolinecolor\": \"white\"}, \"zaxis\": {\"backgroundcolor\": \"#E5ECF6\", \"gridcolor\": \"white\", \"gridwidth\": 2, \"linecolor\": \"white\", \"showbackground\": true, \"ticks\": \"\", \"zerolinecolor\": \"white\"}}, \"shapedefaults\": {\"line\": {\"color\": \"#2a3f5f\"}}, \"ternary\": {\"aaxis\": {\"gridcolor\": \"white\", \"linecolor\": \"white\", \"ticks\": \"\"}, \"baxis\": {\"gridcolor\": \"white\", \"linecolor\": \"white\", \"ticks\": \"\"}, \"bgcolor\": \"#E5ECF6\", \"caxis\": {\"gridcolor\": \"white\", \"linecolor\": \"white\", \"ticks\": \"\"}}, \"title\": {\"x\": 0.05}, \"xaxis\": {\"automargin\": true, \"gridcolor\": \"white\", \"linecolor\": \"white\", \"ticks\": \"\", \"title\": {\"standoff\": 15}, \"zerolinecolor\": \"white\", \"zerolinewidth\": 2}, \"yaxis\": {\"automargin\": true, \"gridcolor\": \"white\", \"linecolor\": \"white\", \"ticks\": \"\", \"title\": {\"standoff\": 15}, \"zerolinecolor\": \"white\", \"zerolinewidth\": 2}}}, \"width\": 800, \"xaxis\": {\"showgrid\": false, \"showline\": false, \"showticklabels\": false, \"title\": {\"text\": \"\"}, \"zeroline\": false}, \"yaxis\": {\"showgrid\": false, \"showline\": false, \"showticklabels\": false, \"title\": {\"text\": \"\"}, \"zeroline\": false}},\n",
       "                        {\"responsive\": true}\n",
       "                    ).then(function(){\n",
       "                            \n",
       "var gd = document.getElementById('1e1b7b6b-75df-4bbd-a653-4b4e77648a52');\n",
       "var x = new MutationObserver(function (mutations, observer) {{\n",
       "        var display = window.getComputedStyle(gd).display;\n",
       "        if (!display || display === 'none') {{\n",
       "            console.log([gd, 'removed!']);\n",
       "            Plotly.purge(gd);\n",
       "            observer.disconnect();\n",
       "        }}\n",
       "}});\n",
       "\n",
       "// Listen for the removal of the full notebook cells\n",
       "var notebookContainer = gd.closest('#notebook-container');\n",
       "if (notebookContainer) {{\n",
       "    x.observe(notebookContainer, {childList: true});\n",
       "}}\n",
       "\n",
       "// Listen for the clearing of the current output cell\n",
       "var outputEl = gd.closest('.output');\n",
       "if (outputEl) {{\n",
       "    x.observe(outputEl, {childList: true});\n",
       "}}\n",
       "\n",
       "                        })\n",
       "                };\n",
       "                });\n",
       "            </script>\n",
       "        </div>"
      ]
     },
     "metadata": {},
     "output_type": "display_data"
    }
   ],
   "source": [
    "index = 12\n",
    "plot(unbalanced_subgraphs[index], mislabeled_pairs[index])"
   ]
  },
  {
   "cell_type": "code",
   "execution_count": 27,
   "metadata": {},
   "outputs": [
    {
     "name": "stdout",
     "output_type": "stream",
     "text": [
      "A0: What is the most interesting fact that I know, but you don't, but I shouldn't?\n",
      "A1: What is the most interesting fact that you know and I don't, but I should?\n",
      "A2: What is an interesting fact that you know and I don't, but shouldn't?\n",
      "A3: What are some interesting facts that I should know?\n",
      "A4: What is the most interesting fact that most people don't know about?\n",
      "A5: What are some interesting facts that you don't know but I should?\n",
      "A6: What is the best fact that I should know?\n",
      "A7: What is an interesting fact that you know, and I should know?\n",
      "A8: What is the most interesting fact that you know but I don't?\n",
      "B0: What is the most interesting fact you have come across and want others to know?\n",
      "B1: What are the most interesting and mindblowing facts you know?\n",
      "B2: What is the most interesting fact you know off the top of your head?\n",
      "B3: What are the most interesting facts you know?\n",
      "B4: What is the most disturbing fact you know?\n"
     ]
    },
    {
     "data": {
      "application/vnd.plotly.v1+json": {
       "config": {
        "plotlyServerURL": "https://plot.ly"
       },
       "data": [
        {
         "hoverinfo": "none",
         "line": {
          "color": "gray",
          "width": 1
         },
         "mode": "lines",
         "name": "paraphrase",
         "showlegend": true,
         "type": "scatter",
         "x": [
          -0.06087630063528756,
          0.00813250954853184,
          null,
          -0.06087630063528756,
          -0.11704148440674597,
          null,
          -0.06087630063528756,
          -0.2521299940725673,
          null,
          -0.06087630063528756,
          0.060701396595967225,
          null,
          -0.06087630063528756,
          -0.18601465889447608,
          null,
          -0.2521299940725673,
          -0.11704148440674597,
          null,
          -0.2521299940725673,
          -0.18601465889447608,
          null,
          -0.2521299940725673,
          0.060701396595967225,
          null,
          -0.2521299940725673,
          0.00813250954853184,
          null,
          0.060701396595967225,
          0.00813250954853184,
          null,
          0.060701396595967225,
          -0.11704148440674597,
          null,
          0.060701396595967225,
          0.11365784100067454,
          null,
          0.060701396595967225,
          -0.18601465889447608,
          null,
          -0.4891807316229762,
          -0.9031376252934895,
          null,
          -0.4891807316229762,
          -0.18601465889447608,
          null,
          -0.11704148440674597,
          0.11365784100067454,
          null,
          -0.11704148440674597,
          0.00813250954853184,
          null,
          -0.11704148440674597,
          -0.18601465889447608,
          null,
          0.20994345641537324,
          0.3729332898585625,
          null,
          0.20994345641537324,
          0.4774367636413293,
          null,
          0.20994345641537324,
          0.22113060879329008,
          null,
          0.00813250954853184,
          0.11365784100067454,
          null,
          0.00813250954853184,
          -0.18601465889447608,
          null,
          0.5444449290718125,
          0.3729332898585625,
          null,
          0.5444449290718125,
          0.4774367636413293,
          null,
          0.5444449290718125,
          0.22113060879329008,
          null,
          0.3729332898585625,
          0.22113060879329008,
          null,
          0.3729332898585625,
          0.4774367636413293,
          null
         ],
         "y": [
          0.16632698043980457,
          0.5431498556054271,
          null,
          0.16632698043980457,
          0.5773913490624657,
          null,
          0.16632698043980457,
          0.4420047945943193,
          null,
          0.16632698043980457,
          0.4349653878941991,
          null,
          0.16632698043980457,
          0.3309208797401998,
          null,
          0.4420047945943193,
          0.5773913490624657,
          null,
          0.4420047945943193,
          0.3309208797401998,
          null,
          0.4420047945943193,
          0.4349653878941991,
          null,
          0.4420047945943193,
          0.5431498556054271,
          null,
          0.4349653878941991,
          0.5431498556054271,
          null,
          0.4349653878941991,
          0.5773913490624657,
          null,
          0.4349653878941991,
          0.7749989335989955,
          null,
          0.4349653878941991,
          0.3309208797401998,
          null,
          0.2489936528776879,
          0.23485998743646075,
          null,
          0.2489936528776879,
          0.3309208797401998,
          null,
          0.5773913490624657,
          0.7749989335989955,
          null,
          0.5773913490624657,
          0.5431498556054271,
          null,
          0.5773913490624657,
          0.3309208797401998,
          null,
          -0.8492110657686812,
          -0.7650415815719324,
          null,
          -0.8492110657686812,
          -1,
          null,
          -0.8492110657686812,
          -0.43779533394537906,
          null,
          0.5431498556054271,
          0.7749989335989955,
          null,
          0.5431498556054271,
          0.3309208797401998,
          null,
          -0.7015638399635677,
          -0.7650415815719324,
          null,
          -0.7015638399635677,
          -1,
          null,
          -0.7015638399635677,
          -0.43779533394537906,
          null,
          -0.7650415815719324,
          -0.43779533394537906,
          null,
          -0.7650415815719324,
          -1,
          null
         ]
        },
        {
         "hoverinfo": "none",
         "line": {
          "color": "gray",
          "dash": "dash",
          "width": 1
         },
         "mode": "lines",
         "name": "non-paraphrase",
         "showlegend": true,
         "type": "scatter",
         "x": [
          -0.06087630063528756,
          0.22113060879329008,
          null
         ],
         "y": [
          0.16632698043980457,
          -0.43779533394537906,
          null
         ]
        },
        {
         "hoverinfo": "none",
         "line": {
          "color": "mediumvioletred",
          "dash": "dash",
          "width": 1
         },
         "mode": "lines",
         "name": "conflicted",
         "showlegend": true,
         "type": "scatter",
         "x": [
          -0.4891807316229762,
          -0.06087630063528756,
          null,
          -0.4891807316229762,
          -0.2521299940725673,
          null
         ],
         "y": [
          0.2489936528776879,
          0.16632698043980457,
          null,
          0.2489936528776879,
          0.4420047945943193,
          null
         ]
        },
        {
         "marker": {
          "color": [
           "rgb(94,79,162)",
           "rgb(94,79,162)",
           "rgb(94,79,162)",
           "rgb(94,79,162)",
           "rgb(94,79,162)",
           "rgb(255,255,191)",
           "rgb(94,79,162)",
           "rgb(94,79,162)",
           "rgb(255,255,191)",
           "rgb(255,255,191)",
           "rgb(94,79,162)",
           "rgb(255,255,191)",
           "rgb(94,79,162)",
           "rgb(255,255,191)"
          ],
          "line": {
           "color": "rgb(50,50,50)",
           "width": 0.5
          },
          "size": 10,
          "symbol": "circle-dot"
         },
         "mode": "markers+text",
         "showlegend": false,
         "text": [
          "A0",
          "A1",
          "A2",
          "A3",
          "A8",
          "B0",
          "A4",
          "A6",
          "B1",
          "B2",
          "A5",
          "B3",
          "A7",
          "B4"
         ],
         "textposition": "top center",
         "type": "scatter",
         "x": [
          -0.06087630063528756,
          -0.2521299940725673,
          0.060701396595967225,
          -0.4891807316229762,
          -0.11704148440674597,
          0.20994345641537324,
          0.00813250954853184,
          -0.9031376252934895,
          0.5444449290718125,
          0.3729332898585625,
          0.11365784100067454,
          0.22113060879329008,
          -0.18601465889447608,
          0.4774367636413293
         ],
         "y": [
          0.16632698043980457,
          0.4420047945943193,
          0.4349653878941991,
          0.2489936528776879,
          0.5773913490624657,
          -0.8492110657686812,
          0.5431498556054271,
          0.23485998743646075,
          -0.7015638399635677,
          -0.7650415815719324,
          0.7749989335989955,
          -0.43779533394537906,
          0.3309208797401998,
          -1
         ]
        }
       ],
       "layout": {
        "autosize": false,
        "font": {
         "size": 12
        },
        "height": 600,
        "hovermode": "closest",
        "margin": {
         "b": 20,
         "l": 5,
         "r": 5,
         "t": 40
        },
        "template": {
         "data": {
          "bar": [
           {
            "error_x": {
             "color": "#2a3f5f"
            },
            "error_y": {
             "color": "#2a3f5f"
            },
            "marker": {
             "line": {
              "color": "#E5ECF6",
              "width": 0.5
             }
            },
            "type": "bar"
           }
          ],
          "barpolar": [
           {
            "marker": {
             "line": {
              "color": "#E5ECF6",
              "width": 0.5
             }
            },
            "type": "barpolar"
           }
          ],
          "carpet": [
           {
            "aaxis": {
             "endlinecolor": "#2a3f5f",
             "gridcolor": "white",
             "linecolor": "white",
             "minorgridcolor": "white",
             "startlinecolor": "#2a3f5f"
            },
            "baxis": {
             "endlinecolor": "#2a3f5f",
             "gridcolor": "white",
             "linecolor": "white",
             "minorgridcolor": "white",
             "startlinecolor": "#2a3f5f"
            },
            "type": "carpet"
           }
          ],
          "choropleth": [
           {
            "colorbar": {
             "outlinewidth": 0,
             "ticks": ""
            },
            "type": "choropleth"
           }
          ],
          "contour": [
           {
            "colorbar": {
             "outlinewidth": 0,
             "ticks": ""
            },
            "colorscale": [
             [
              0,
              "#0d0887"
             ],
             [
              0.1111111111111111,
              "#46039f"
             ],
             [
              0.2222222222222222,
              "#7201a8"
             ],
             [
              0.3333333333333333,
              "#9c179e"
             ],
             [
              0.4444444444444444,
              "#bd3786"
             ],
             [
              0.5555555555555556,
              "#d8576b"
             ],
             [
              0.6666666666666666,
              "#ed7953"
             ],
             [
              0.7777777777777778,
              "#fb9f3a"
             ],
             [
              0.8888888888888888,
              "#fdca26"
             ],
             [
              1,
              "#f0f921"
             ]
            ],
            "type": "contour"
           }
          ],
          "contourcarpet": [
           {
            "colorbar": {
             "outlinewidth": 0,
             "ticks": ""
            },
            "type": "contourcarpet"
           }
          ],
          "heatmap": [
           {
            "colorbar": {
             "outlinewidth": 0,
             "ticks": ""
            },
            "colorscale": [
             [
              0,
              "#0d0887"
             ],
             [
              0.1111111111111111,
              "#46039f"
             ],
             [
              0.2222222222222222,
              "#7201a8"
             ],
             [
              0.3333333333333333,
              "#9c179e"
             ],
             [
              0.4444444444444444,
              "#bd3786"
             ],
             [
              0.5555555555555556,
              "#d8576b"
             ],
             [
              0.6666666666666666,
              "#ed7953"
             ],
             [
              0.7777777777777778,
              "#fb9f3a"
             ],
             [
              0.8888888888888888,
              "#fdca26"
             ],
             [
              1,
              "#f0f921"
             ]
            ],
            "type": "heatmap"
           }
          ],
          "heatmapgl": [
           {
            "colorbar": {
             "outlinewidth": 0,
             "ticks": ""
            },
            "colorscale": [
             [
              0,
              "#0d0887"
             ],
             [
              0.1111111111111111,
              "#46039f"
             ],
             [
              0.2222222222222222,
              "#7201a8"
             ],
             [
              0.3333333333333333,
              "#9c179e"
             ],
             [
              0.4444444444444444,
              "#bd3786"
             ],
             [
              0.5555555555555556,
              "#d8576b"
             ],
             [
              0.6666666666666666,
              "#ed7953"
             ],
             [
              0.7777777777777778,
              "#fb9f3a"
             ],
             [
              0.8888888888888888,
              "#fdca26"
             ],
             [
              1,
              "#f0f921"
             ]
            ],
            "type": "heatmapgl"
           }
          ],
          "histogram": [
           {
            "marker": {
             "colorbar": {
              "outlinewidth": 0,
              "ticks": ""
             }
            },
            "type": "histogram"
           }
          ],
          "histogram2d": [
           {
            "colorbar": {
             "outlinewidth": 0,
             "ticks": ""
            },
            "colorscale": [
             [
              0,
              "#0d0887"
             ],
             [
              0.1111111111111111,
              "#46039f"
             ],
             [
              0.2222222222222222,
              "#7201a8"
             ],
             [
              0.3333333333333333,
              "#9c179e"
             ],
             [
              0.4444444444444444,
              "#bd3786"
             ],
             [
              0.5555555555555556,
              "#d8576b"
             ],
             [
              0.6666666666666666,
              "#ed7953"
             ],
             [
              0.7777777777777778,
              "#fb9f3a"
             ],
             [
              0.8888888888888888,
              "#fdca26"
             ],
             [
              1,
              "#f0f921"
             ]
            ],
            "type": "histogram2d"
           }
          ],
          "histogram2dcontour": [
           {
            "colorbar": {
             "outlinewidth": 0,
             "ticks": ""
            },
            "colorscale": [
             [
              0,
              "#0d0887"
             ],
             [
              0.1111111111111111,
              "#46039f"
             ],
             [
              0.2222222222222222,
              "#7201a8"
             ],
             [
              0.3333333333333333,
              "#9c179e"
             ],
             [
              0.4444444444444444,
              "#bd3786"
             ],
             [
              0.5555555555555556,
              "#d8576b"
             ],
             [
              0.6666666666666666,
              "#ed7953"
             ],
             [
              0.7777777777777778,
              "#fb9f3a"
             ],
             [
              0.8888888888888888,
              "#fdca26"
             ],
             [
              1,
              "#f0f921"
             ]
            ],
            "type": "histogram2dcontour"
           }
          ],
          "mesh3d": [
           {
            "colorbar": {
             "outlinewidth": 0,
             "ticks": ""
            },
            "type": "mesh3d"
           }
          ],
          "parcoords": [
           {
            "line": {
             "colorbar": {
              "outlinewidth": 0,
              "ticks": ""
             }
            },
            "type": "parcoords"
           }
          ],
          "pie": [
           {
            "automargin": true,
            "type": "pie"
           }
          ],
          "scatter": [
           {
            "marker": {
             "colorbar": {
              "outlinewidth": 0,
              "ticks": ""
             }
            },
            "type": "scatter"
           }
          ],
          "scatter3d": [
           {
            "line": {
             "colorbar": {
              "outlinewidth": 0,
              "ticks": ""
             }
            },
            "marker": {
             "colorbar": {
              "outlinewidth": 0,
              "ticks": ""
             }
            },
            "type": "scatter3d"
           }
          ],
          "scattercarpet": [
           {
            "marker": {
             "colorbar": {
              "outlinewidth": 0,
              "ticks": ""
             }
            },
            "type": "scattercarpet"
           }
          ],
          "scattergeo": [
           {
            "marker": {
             "colorbar": {
              "outlinewidth": 0,
              "ticks": ""
             }
            },
            "type": "scattergeo"
           }
          ],
          "scattergl": [
           {
            "marker": {
             "colorbar": {
              "outlinewidth": 0,
              "ticks": ""
             }
            },
            "type": "scattergl"
           }
          ],
          "scattermapbox": [
           {
            "marker": {
             "colorbar": {
              "outlinewidth": 0,
              "ticks": ""
             }
            },
            "type": "scattermapbox"
           }
          ],
          "scatterpolar": [
           {
            "marker": {
             "colorbar": {
              "outlinewidth": 0,
              "ticks": ""
             }
            },
            "type": "scatterpolar"
           }
          ],
          "scatterpolargl": [
           {
            "marker": {
             "colorbar": {
              "outlinewidth": 0,
              "ticks": ""
             }
            },
            "type": "scatterpolargl"
           }
          ],
          "scatterternary": [
           {
            "marker": {
             "colorbar": {
              "outlinewidth": 0,
              "ticks": ""
             }
            },
            "type": "scatterternary"
           }
          ],
          "surface": [
           {
            "colorbar": {
             "outlinewidth": 0,
             "ticks": ""
            },
            "colorscale": [
             [
              0,
              "#0d0887"
             ],
             [
              0.1111111111111111,
              "#46039f"
             ],
             [
              0.2222222222222222,
              "#7201a8"
             ],
             [
              0.3333333333333333,
              "#9c179e"
             ],
             [
              0.4444444444444444,
              "#bd3786"
             ],
             [
              0.5555555555555556,
              "#d8576b"
             ],
             [
              0.6666666666666666,
              "#ed7953"
             ],
             [
              0.7777777777777778,
              "#fb9f3a"
             ],
             [
              0.8888888888888888,
              "#fdca26"
             ],
             [
              1,
              "#f0f921"
             ]
            ],
            "type": "surface"
           }
          ],
          "table": [
           {
            "cells": {
             "fill": {
              "color": "#EBF0F8"
             },
             "line": {
              "color": "white"
             }
            },
            "header": {
             "fill": {
              "color": "#C8D4E3"
             },
             "line": {
              "color": "white"
             }
            },
            "type": "table"
           }
          ]
         },
         "layout": {
          "annotationdefaults": {
           "arrowcolor": "#2a3f5f",
           "arrowhead": 0,
           "arrowwidth": 1
          },
          "coloraxis": {
           "colorbar": {
            "outlinewidth": 0,
            "ticks": ""
           }
          },
          "colorscale": {
           "diverging": [
            [
             0,
             "#8e0152"
            ],
            [
             0.1,
             "#c51b7d"
            ],
            [
             0.2,
             "#de77ae"
            ],
            [
             0.3,
             "#f1b6da"
            ],
            [
             0.4,
             "#fde0ef"
            ],
            [
             0.5,
             "#f7f7f7"
            ],
            [
             0.6,
             "#e6f5d0"
            ],
            [
             0.7,
             "#b8e186"
            ],
            [
             0.8,
             "#7fbc41"
            ],
            [
             0.9,
             "#4d9221"
            ],
            [
             1,
             "#276419"
            ]
           ],
           "sequential": [
            [
             0,
             "#0d0887"
            ],
            [
             0.1111111111111111,
             "#46039f"
            ],
            [
             0.2222222222222222,
             "#7201a8"
            ],
            [
             0.3333333333333333,
             "#9c179e"
            ],
            [
             0.4444444444444444,
             "#bd3786"
            ],
            [
             0.5555555555555556,
             "#d8576b"
            ],
            [
             0.6666666666666666,
             "#ed7953"
            ],
            [
             0.7777777777777778,
             "#fb9f3a"
            ],
            [
             0.8888888888888888,
             "#fdca26"
            ],
            [
             1,
             "#f0f921"
            ]
           ],
           "sequentialminus": [
            [
             0,
             "#0d0887"
            ],
            [
             0.1111111111111111,
             "#46039f"
            ],
            [
             0.2222222222222222,
             "#7201a8"
            ],
            [
             0.3333333333333333,
             "#9c179e"
            ],
            [
             0.4444444444444444,
             "#bd3786"
            ],
            [
             0.5555555555555556,
             "#d8576b"
            ],
            [
             0.6666666666666666,
             "#ed7953"
            ],
            [
             0.7777777777777778,
             "#fb9f3a"
            ],
            [
             0.8888888888888888,
             "#fdca26"
            ],
            [
             1,
             "#f0f921"
            ]
           ]
          },
          "colorway": [
           "#636efa",
           "#EF553B",
           "#00cc96",
           "#ab63fa",
           "#FFA15A",
           "#19d3f3",
           "#FF6692",
           "#B6E880",
           "#FF97FF",
           "#FECB52"
          ],
          "font": {
           "color": "#2a3f5f"
          },
          "geo": {
           "bgcolor": "white",
           "lakecolor": "white",
           "landcolor": "#E5ECF6",
           "showlakes": true,
           "showland": true,
           "subunitcolor": "white"
          },
          "hoverlabel": {
           "align": "left"
          },
          "hovermode": "closest",
          "mapbox": {
           "style": "light"
          },
          "paper_bgcolor": "white",
          "plot_bgcolor": "#E5ECF6",
          "polar": {
           "angularaxis": {
            "gridcolor": "white",
            "linecolor": "white",
            "ticks": ""
           },
           "bgcolor": "#E5ECF6",
           "radialaxis": {
            "gridcolor": "white",
            "linecolor": "white",
            "ticks": ""
           }
          },
          "scene": {
           "xaxis": {
            "backgroundcolor": "#E5ECF6",
            "gridcolor": "white",
            "gridwidth": 2,
            "linecolor": "white",
            "showbackground": true,
            "ticks": "",
            "zerolinecolor": "white"
           },
           "yaxis": {
            "backgroundcolor": "#E5ECF6",
            "gridcolor": "white",
            "gridwidth": 2,
            "linecolor": "white",
            "showbackground": true,
            "ticks": "",
            "zerolinecolor": "white"
           },
           "zaxis": {
            "backgroundcolor": "#E5ECF6",
            "gridcolor": "white",
            "gridwidth": 2,
            "linecolor": "white",
            "showbackground": true,
            "ticks": "",
            "zerolinecolor": "white"
           }
          },
          "shapedefaults": {
           "line": {
            "color": "#2a3f5f"
           }
          },
          "ternary": {
           "aaxis": {
            "gridcolor": "white",
            "linecolor": "white",
            "ticks": ""
           },
           "baxis": {
            "gridcolor": "white",
            "linecolor": "white",
            "ticks": ""
           },
           "bgcolor": "#E5ECF6",
           "caxis": {
            "gridcolor": "white",
            "linecolor": "white",
            "ticks": ""
           }
          },
          "title": {
           "x": 0.05
          },
          "xaxis": {
           "automargin": true,
           "gridcolor": "white",
           "linecolor": "white",
           "ticks": "",
           "title": {
            "standoff": 15
           },
           "zerolinecolor": "white",
           "zerolinewidth": 2
          },
          "yaxis": {
           "automargin": true,
           "gridcolor": "white",
           "linecolor": "white",
           "ticks": "",
           "title": {
            "standoff": 15
           },
           "zerolinecolor": "white",
           "zerolinewidth": 2
          }
         }
        },
        "width": 800,
        "xaxis": {
         "showgrid": false,
         "showline": false,
         "showticklabels": false,
         "title": {
          "text": ""
         },
         "zeroline": false
        },
        "yaxis": {
         "showgrid": false,
         "showline": false,
         "showticklabels": false,
         "title": {
          "text": ""
         },
         "zeroline": false
        }
       }
      },
      "text/html": [
       "<div>\n",
       "        \n",
       "        \n",
       "            <div id=\"f61d2256-de3c-4670-acb1-8d564d8e2f93\" class=\"plotly-graph-div\" style=\"height:600px; width:800px;\"></div>\n",
       "            <script type=\"text/javascript\">\n",
       "                require([\"plotly\"], function(Plotly) {\n",
       "                    window.PLOTLYENV=window.PLOTLYENV || {};\n",
       "                    \n",
       "                if (document.getElementById(\"f61d2256-de3c-4670-acb1-8d564d8e2f93\")) {\n",
       "                    Plotly.newPlot(\n",
       "                        'f61d2256-de3c-4670-acb1-8d564d8e2f93',\n",
       "                        [{\"hoverinfo\": \"none\", \"line\": {\"color\": \"gray\", \"width\": 1}, \"mode\": \"lines\", \"name\": \"paraphrase\", \"showlegend\": true, \"type\": \"scatter\", \"x\": [-0.06087630063528756, 0.00813250954853184, null, -0.06087630063528756, -0.11704148440674597, null, -0.06087630063528756, -0.2521299940725673, null, -0.06087630063528756, 0.060701396595967225, null, -0.06087630063528756, -0.18601465889447608, null, -0.2521299940725673, -0.11704148440674597, null, -0.2521299940725673, -0.18601465889447608, null, -0.2521299940725673, 0.060701396595967225, null, -0.2521299940725673, 0.00813250954853184, null, 0.060701396595967225, 0.00813250954853184, null, 0.060701396595967225, -0.11704148440674597, null, 0.060701396595967225, 0.11365784100067454, null, 0.060701396595967225, -0.18601465889447608, null, -0.4891807316229762, -0.9031376252934895, null, -0.4891807316229762, -0.18601465889447608, null, -0.11704148440674597, 0.11365784100067454, null, -0.11704148440674597, 0.00813250954853184, null, -0.11704148440674597, -0.18601465889447608, null, 0.20994345641537324, 0.3729332898585625, null, 0.20994345641537324, 0.4774367636413293, null, 0.20994345641537324, 0.22113060879329008, null, 0.00813250954853184, 0.11365784100067454, null, 0.00813250954853184, -0.18601465889447608, null, 0.5444449290718125, 0.3729332898585625, null, 0.5444449290718125, 0.4774367636413293, null, 0.5444449290718125, 0.22113060879329008, null, 0.3729332898585625, 0.22113060879329008, null, 0.3729332898585625, 0.4774367636413293, null], \"y\": [0.16632698043980457, 0.5431498556054271, null, 0.16632698043980457, 0.5773913490624657, null, 0.16632698043980457, 0.4420047945943193, null, 0.16632698043980457, 0.4349653878941991, null, 0.16632698043980457, 0.3309208797401998, null, 0.4420047945943193, 0.5773913490624657, null, 0.4420047945943193, 0.3309208797401998, null, 0.4420047945943193, 0.4349653878941991, null, 0.4420047945943193, 0.5431498556054271, null, 0.4349653878941991, 0.5431498556054271, null, 0.4349653878941991, 0.5773913490624657, null, 0.4349653878941991, 0.7749989335989955, null, 0.4349653878941991, 0.3309208797401998, null, 0.2489936528776879, 0.23485998743646075, null, 0.2489936528776879, 0.3309208797401998, null, 0.5773913490624657, 0.7749989335989955, null, 0.5773913490624657, 0.5431498556054271, null, 0.5773913490624657, 0.3309208797401998, null, -0.8492110657686812, -0.7650415815719324, null, -0.8492110657686812, -1.0, null, -0.8492110657686812, -0.43779533394537906, null, 0.5431498556054271, 0.7749989335989955, null, 0.5431498556054271, 0.3309208797401998, null, -0.7015638399635677, -0.7650415815719324, null, -0.7015638399635677, -1.0, null, -0.7015638399635677, -0.43779533394537906, null, -0.7650415815719324, -0.43779533394537906, null, -0.7650415815719324, -1.0, null]}, {\"hoverinfo\": \"none\", \"line\": {\"color\": \"gray\", \"dash\": \"dash\", \"width\": 1}, \"mode\": \"lines\", \"name\": \"non-paraphrase\", \"showlegend\": true, \"type\": \"scatter\", \"x\": [-0.06087630063528756, 0.22113060879329008, null], \"y\": [0.16632698043980457, -0.43779533394537906, null]}, {\"hoverinfo\": \"none\", \"line\": {\"color\": \"mediumvioletred\", \"dash\": \"dash\", \"width\": 1}, \"mode\": \"lines\", \"name\": \"conflicted\", \"showlegend\": true, \"type\": \"scatter\", \"x\": [-0.4891807316229762, -0.06087630063528756, null, -0.4891807316229762, -0.2521299940725673, null], \"y\": [0.2489936528776879, 0.16632698043980457, null, 0.2489936528776879, 0.4420047945943193, null]}, {\"marker\": {\"color\": [\"rgb(94,79,162)\", \"rgb(94,79,162)\", \"rgb(94,79,162)\", \"rgb(94,79,162)\", \"rgb(94,79,162)\", \"rgb(255,255,191)\", \"rgb(94,79,162)\", \"rgb(94,79,162)\", \"rgb(255,255,191)\", \"rgb(255,255,191)\", \"rgb(94,79,162)\", \"rgb(255,255,191)\", \"rgb(94,79,162)\", \"rgb(255,255,191)\"], \"line\": {\"color\": \"rgb(50,50,50)\", \"width\": 0.5}, \"size\": 10, \"symbol\": \"circle-dot\"}, \"mode\": \"markers+text\", \"showlegend\": false, \"text\": [\"A0\", \"A1\", \"A2\", \"A3\", \"A8\", \"B0\", \"A4\", \"A6\", \"B1\", \"B2\", \"A5\", \"B3\", \"A7\", \"B4\"], \"textposition\": \"top center\", \"type\": \"scatter\", \"x\": [-0.06087630063528756, -0.2521299940725673, 0.060701396595967225, -0.4891807316229762, -0.11704148440674597, 0.20994345641537324, 0.00813250954853184, -0.9031376252934895, 0.5444449290718125, 0.3729332898585625, 0.11365784100067454, 0.22113060879329008, -0.18601465889447608, 0.4774367636413293], \"y\": [0.16632698043980457, 0.4420047945943193, 0.4349653878941991, 0.2489936528776879, 0.5773913490624657, -0.8492110657686812, 0.5431498556054271, 0.23485998743646075, -0.7015638399635677, -0.7650415815719324, 0.7749989335989955, -0.43779533394537906, 0.3309208797401998, -1.0]}],\n",
       "                        {\"autosize\": false, \"font\": {\"size\": 12}, \"height\": 600, \"hovermode\": \"closest\", \"margin\": {\"b\": 20, \"l\": 5, \"r\": 5, \"t\": 40}, \"template\": {\"data\": {\"bar\": [{\"error_x\": {\"color\": \"#2a3f5f\"}, \"error_y\": {\"color\": \"#2a3f5f\"}, \"marker\": {\"line\": {\"color\": \"#E5ECF6\", \"width\": 0.5}}, \"type\": \"bar\"}], \"barpolar\": [{\"marker\": {\"line\": {\"color\": \"#E5ECF6\", \"width\": 0.5}}, \"type\": \"barpolar\"}], \"carpet\": [{\"aaxis\": {\"endlinecolor\": \"#2a3f5f\", \"gridcolor\": \"white\", \"linecolor\": \"white\", \"minorgridcolor\": \"white\", \"startlinecolor\": \"#2a3f5f\"}, \"baxis\": {\"endlinecolor\": \"#2a3f5f\", \"gridcolor\": \"white\", \"linecolor\": \"white\", \"minorgridcolor\": \"white\", \"startlinecolor\": \"#2a3f5f\"}, \"type\": \"carpet\"}], \"choropleth\": [{\"colorbar\": {\"outlinewidth\": 0, \"ticks\": \"\"}, \"type\": \"choropleth\"}], \"contour\": [{\"colorbar\": {\"outlinewidth\": 0, \"ticks\": \"\"}, \"colorscale\": [[0.0, \"#0d0887\"], [0.1111111111111111, \"#46039f\"], [0.2222222222222222, \"#7201a8\"], [0.3333333333333333, \"#9c179e\"], [0.4444444444444444, \"#bd3786\"], [0.5555555555555556, \"#d8576b\"], [0.6666666666666666, \"#ed7953\"], [0.7777777777777778, \"#fb9f3a\"], [0.8888888888888888, \"#fdca26\"], [1.0, \"#f0f921\"]], \"type\": \"contour\"}], \"contourcarpet\": [{\"colorbar\": {\"outlinewidth\": 0, \"ticks\": \"\"}, \"type\": \"contourcarpet\"}], \"heatmap\": [{\"colorbar\": {\"outlinewidth\": 0, \"ticks\": \"\"}, \"colorscale\": [[0.0, \"#0d0887\"], [0.1111111111111111, \"#46039f\"], [0.2222222222222222, \"#7201a8\"], [0.3333333333333333, \"#9c179e\"], [0.4444444444444444, \"#bd3786\"], [0.5555555555555556, \"#d8576b\"], [0.6666666666666666, \"#ed7953\"], [0.7777777777777778, \"#fb9f3a\"], [0.8888888888888888, \"#fdca26\"], [1.0, \"#f0f921\"]], \"type\": \"heatmap\"}], \"heatmapgl\": [{\"colorbar\": {\"outlinewidth\": 0, \"ticks\": \"\"}, \"colorscale\": [[0.0, \"#0d0887\"], [0.1111111111111111, \"#46039f\"], [0.2222222222222222, \"#7201a8\"], [0.3333333333333333, \"#9c179e\"], [0.4444444444444444, \"#bd3786\"], [0.5555555555555556, \"#d8576b\"], [0.6666666666666666, \"#ed7953\"], [0.7777777777777778, \"#fb9f3a\"], [0.8888888888888888, \"#fdca26\"], [1.0, \"#f0f921\"]], \"type\": \"heatmapgl\"}], \"histogram\": [{\"marker\": {\"colorbar\": {\"outlinewidth\": 0, \"ticks\": \"\"}}, \"type\": \"histogram\"}], \"histogram2d\": [{\"colorbar\": {\"outlinewidth\": 0, \"ticks\": \"\"}, \"colorscale\": [[0.0, \"#0d0887\"], [0.1111111111111111, \"#46039f\"], [0.2222222222222222, \"#7201a8\"], [0.3333333333333333, \"#9c179e\"], [0.4444444444444444, \"#bd3786\"], [0.5555555555555556, \"#d8576b\"], [0.6666666666666666, \"#ed7953\"], [0.7777777777777778, \"#fb9f3a\"], [0.8888888888888888, \"#fdca26\"], [1.0, \"#f0f921\"]], \"type\": \"histogram2d\"}], \"histogram2dcontour\": [{\"colorbar\": {\"outlinewidth\": 0, \"ticks\": \"\"}, \"colorscale\": [[0.0, \"#0d0887\"], [0.1111111111111111, \"#46039f\"], [0.2222222222222222, \"#7201a8\"], [0.3333333333333333, \"#9c179e\"], [0.4444444444444444, \"#bd3786\"], [0.5555555555555556, \"#d8576b\"], [0.6666666666666666, \"#ed7953\"], [0.7777777777777778, \"#fb9f3a\"], [0.8888888888888888, \"#fdca26\"], [1.0, \"#f0f921\"]], \"type\": \"histogram2dcontour\"}], \"mesh3d\": [{\"colorbar\": {\"outlinewidth\": 0, \"ticks\": \"\"}, \"type\": \"mesh3d\"}], \"parcoords\": [{\"line\": {\"colorbar\": {\"outlinewidth\": 0, \"ticks\": \"\"}}, \"type\": \"parcoords\"}], \"pie\": [{\"automargin\": true, \"type\": \"pie\"}], \"scatter\": [{\"marker\": {\"colorbar\": {\"outlinewidth\": 0, \"ticks\": \"\"}}, \"type\": \"scatter\"}], \"scatter3d\": [{\"line\": {\"colorbar\": {\"outlinewidth\": 0, \"ticks\": \"\"}}, \"marker\": {\"colorbar\": {\"outlinewidth\": 0, \"ticks\": \"\"}}, \"type\": \"scatter3d\"}], \"scattercarpet\": [{\"marker\": {\"colorbar\": {\"outlinewidth\": 0, \"ticks\": \"\"}}, \"type\": \"scattercarpet\"}], \"scattergeo\": [{\"marker\": {\"colorbar\": {\"outlinewidth\": 0, \"ticks\": \"\"}}, \"type\": \"scattergeo\"}], \"scattergl\": [{\"marker\": {\"colorbar\": {\"outlinewidth\": 0, \"ticks\": \"\"}}, \"type\": \"scattergl\"}], \"scattermapbox\": [{\"marker\": {\"colorbar\": {\"outlinewidth\": 0, \"ticks\": \"\"}}, \"type\": \"scattermapbox\"}], \"scatterpolar\": [{\"marker\": {\"colorbar\": {\"outlinewidth\": 0, \"ticks\": \"\"}}, \"type\": \"scatterpolar\"}], \"scatterpolargl\": [{\"marker\": {\"colorbar\": {\"outlinewidth\": 0, \"ticks\": \"\"}}, \"type\": \"scatterpolargl\"}], \"scatterternary\": [{\"marker\": {\"colorbar\": {\"outlinewidth\": 0, \"ticks\": \"\"}}, \"type\": \"scatterternary\"}], \"surface\": [{\"colorbar\": {\"outlinewidth\": 0, \"ticks\": \"\"}, \"colorscale\": [[0.0, \"#0d0887\"], [0.1111111111111111, \"#46039f\"], [0.2222222222222222, \"#7201a8\"], [0.3333333333333333, \"#9c179e\"], [0.4444444444444444, \"#bd3786\"], [0.5555555555555556, \"#d8576b\"], [0.6666666666666666, \"#ed7953\"], [0.7777777777777778, \"#fb9f3a\"], [0.8888888888888888, \"#fdca26\"], [1.0, \"#f0f921\"]], \"type\": \"surface\"}], \"table\": [{\"cells\": {\"fill\": {\"color\": \"#EBF0F8\"}, \"line\": {\"color\": \"white\"}}, \"header\": {\"fill\": {\"color\": \"#C8D4E3\"}, \"line\": {\"color\": \"white\"}}, \"type\": \"table\"}]}, \"layout\": {\"annotationdefaults\": {\"arrowcolor\": \"#2a3f5f\", \"arrowhead\": 0, \"arrowwidth\": 1}, \"coloraxis\": {\"colorbar\": {\"outlinewidth\": 0, \"ticks\": \"\"}}, \"colorscale\": {\"diverging\": [[0, \"#8e0152\"], [0.1, \"#c51b7d\"], [0.2, \"#de77ae\"], [0.3, \"#f1b6da\"], [0.4, \"#fde0ef\"], [0.5, \"#f7f7f7\"], [0.6, \"#e6f5d0\"], [0.7, \"#b8e186\"], [0.8, \"#7fbc41\"], [0.9, \"#4d9221\"], [1, \"#276419\"]], \"sequential\": [[0.0, \"#0d0887\"], [0.1111111111111111, \"#46039f\"], [0.2222222222222222, \"#7201a8\"], [0.3333333333333333, \"#9c179e\"], [0.4444444444444444, \"#bd3786\"], [0.5555555555555556, \"#d8576b\"], [0.6666666666666666, \"#ed7953\"], [0.7777777777777778, \"#fb9f3a\"], [0.8888888888888888, \"#fdca26\"], [1.0, \"#f0f921\"]], \"sequentialminus\": [[0.0, \"#0d0887\"], [0.1111111111111111, \"#46039f\"], [0.2222222222222222, \"#7201a8\"], [0.3333333333333333, \"#9c179e\"], [0.4444444444444444, \"#bd3786\"], [0.5555555555555556, \"#d8576b\"], [0.6666666666666666, \"#ed7953\"], [0.7777777777777778, \"#fb9f3a\"], [0.8888888888888888, \"#fdca26\"], [1.0, \"#f0f921\"]]}, \"colorway\": [\"#636efa\", \"#EF553B\", \"#00cc96\", \"#ab63fa\", \"#FFA15A\", \"#19d3f3\", \"#FF6692\", \"#B6E880\", \"#FF97FF\", \"#FECB52\"], \"font\": {\"color\": \"#2a3f5f\"}, \"geo\": {\"bgcolor\": \"white\", \"lakecolor\": \"white\", \"landcolor\": \"#E5ECF6\", \"showlakes\": true, \"showland\": true, \"subunitcolor\": \"white\"}, \"hoverlabel\": {\"align\": \"left\"}, \"hovermode\": \"closest\", \"mapbox\": {\"style\": \"light\"}, \"paper_bgcolor\": \"white\", \"plot_bgcolor\": \"#E5ECF6\", \"polar\": {\"angularaxis\": {\"gridcolor\": \"white\", \"linecolor\": \"white\", \"ticks\": \"\"}, \"bgcolor\": \"#E5ECF6\", \"radialaxis\": {\"gridcolor\": \"white\", \"linecolor\": \"white\", \"ticks\": \"\"}}, \"scene\": {\"xaxis\": {\"backgroundcolor\": \"#E5ECF6\", \"gridcolor\": \"white\", \"gridwidth\": 2, \"linecolor\": \"white\", \"showbackground\": true, \"ticks\": \"\", \"zerolinecolor\": \"white\"}, \"yaxis\": {\"backgroundcolor\": \"#E5ECF6\", \"gridcolor\": \"white\", \"gridwidth\": 2, \"linecolor\": \"white\", \"showbackground\": true, \"ticks\": \"\", \"zerolinecolor\": \"white\"}, \"zaxis\": {\"backgroundcolor\": \"#E5ECF6\", \"gridcolor\": \"white\", \"gridwidth\": 2, \"linecolor\": \"white\", \"showbackground\": true, \"ticks\": \"\", \"zerolinecolor\": \"white\"}}, \"shapedefaults\": {\"line\": {\"color\": \"#2a3f5f\"}}, \"ternary\": {\"aaxis\": {\"gridcolor\": \"white\", \"linecolor\": \"white\", \"ticks\": \"\"}, \"baxis\": {\"gridcolor\": \"white\", \"linecolor\": \"white\", \"ticks\": \"\"}, \"bgcolor\": \"#E5ECF6\", \"caxis\": {\"gridcolor\": \"white\", \"linecolor\": \"white\", \"ticks\": \"\"}}, \"title\": {\"x\": 0.05}, \"xaxis\": {\"automargin\": true, \"gridcolor\": \"white\", \"linecolor\": \"white\", \"ticks\": \"\", \"title\": {\"standoff\": 15}, \"zerolinecolor\": \"white\", \"zerolinewidth\": 2}, \"yaxis\": {\"automargin\": true, \"gridcolor\": \"white\", \"linecolor\": \"white\", \"ticks\": \"\", \"title\": {\"standoff\": 15}, \"zerolinecolor\": \"white\", \"zerolinewidth\": 2}}}, \"width\": 800, \"xaxis\": {\"showgrid\": false, \"showline\": false, \"showticklabels\": false, \"title\": {\"text\": \"\"}, \"zeroline\": false}, \"yaxis\": {\"showgrid\": false, \"showline\": false, \"showticklabels\": false, \"title\": {\"text\": \"\"}, \"zeroline\": false}},\n",
       "                        {\"responsive\": true}\n",
       "                    ).then(function(){\n",
       "                            \n",
       "var gd = document.getElementById('f61d2256-de3c-4670-acb1-8d564d8e2f93');\n",
       "var x = new MutationObserver(function (mutations, observer) {{\n",
       "        var display = window.getComputedStyle(gd).display;\n",
       "        if (!display || display === 'none') {{\n",
       "            console.log([gd, 'removed!']);\n",
       "            Plotly.purge(gd);\n",
       "            observer.disconnect();\n",
       "        }}\n",
       "}});\n",
       "\n",
       "// Listen for the removal of the full notebook cells\n",
       "var notebookContainer = gd.closest('#notebook-container');\n",
       "if (notebookContainer) {{\n",
       "    x.observe(notebookContainer, {childList: true});\n",
       "}}\n",
       "\n",
       "// Listen for the clearing of the current output cell\n",
       "var outputEl = gd.closest('.output');\n",
       "if (outputEl) {{\n",
       "    x.observe(outputEl, {childList: true});\n",
       "}}\n",
       "\n",
       "                        })\n",
       "                };\n",
       "                });\n",
       "            </script>\n",
       "        </div>"
      ]
     },
     "metadata": {},
     "output_type": "display_data"
    }
   ],
   "source": [
    "index = 0\n",
    "plot(unbalanced_subgraphs[index], mislabeled_pairs[index])"
   ]
  },
  {
   "cell_type": "code",
   "execution_count": 821,
   "metadata": {},
   "outputs": [
    {
     "name": "stdout",
     "output_type": "stream",
     "text": [
      "A: What do I do to increase my height?\n",
      "B: Can skipping increase your height?\n",
      "C: How do I increase the height?\n",
      "D: How do I increase my height after 22?\n",
      "E: What is the best and fastest way to increase your height?\n",
      "F: What are the fastest ways to increase height?\n",
      "G: Is there a way to get taller, and increase your height?\n",
      "H: Does skipping increase height?\n",
      "I: Height: How would a 14 year old increase his height?\n",
      "J: I am 19 years old girl and my height is 5'3. How can I increase my height?\n",
      "K: Is there any proven method to increase 13 year old girl's height after hitting puberty?\n",
      "L: How can I increase height after the age of 25?\n",
      "M: Does height increase after 18 years?\n",
      "N: How could I increase my height?\n",
      "O: How does your height increase?\n",
      "P: Does swimming increase your height in twenties?\n",
      "Q: How can anyone increase height?\n",
      "R: Is there any way that trough which my height will increase?\n",
      "S: Can skipping increase my height?\n",
      "T: How do I increase my height?\n",
      "U: How do I increase height at age of 16?\n",
      "V: How do I increase height after puberty?\n",
      "W: Do running increase your height?\n",
      "X: How do I increase my height after 16?\n",
      "Y: How can you increase your height?\n",
      "Z: How would I increase my height aftr 18?\n"
     ]
    },
    {
     "data": {
      "application/vnd.plotly.v1+json": {
       "config": {
        "plotlyServerURL": "https://plot.ly"
       },
       "data": [
        {
         "hoverinfo": "none",
         "line": {
          "color": "gray",
          "width": 1
         },
         "mode": "lines",
         "name": "paraphrase",
         "showlegend": true,
         "type": "scatter",
         "x": [
          0.04192828579645926,
          0.1699256196923591,
          null,
          0.04192828579645926,
          -0.16133443630230002,
          null,
          -0.10939699011683654,
          -0.055618561112007796,
          null,
          -0.31783126517094834,
          -0.055618561112007796,
          null,
          -0.31783126517094834,
          -0.4213503121095039,
          null,
          -0.31783126517094834,
          -0.5101543775580891,
          null,
          0.4923830360069077,
          0.5747816059987355,
          null,
          0.4923830360069077,
          0.39844282675667503,
          null,
          -0.055618561112007796,
          0.250384510235904,
          null,
          0.250384510235904,
          0.39264464876861155,
          null,
          0.250384510235904,
          0.4552388392908068,
          null,
          0.250384510235904,
          0.2742899011835061,
          null,
          0.4552388392908068,
          0.4375299912991608,
          null,
          0.4552388392908068,
          0.6108326300879428,
          null,
          0.4552388392908068,
          0.5747816059987355,
          null,
          0.6108326300879428,
          0.6395814869298612,
          null,
          0.9435237303710652,
          0.780031251720393,
          null,
          -0.6774929578639476,
          -0.5440666246677012,
          null,
          -0.5440666246677012,
          -0.544098429222963,
          null,
          -0.5440666246677012,
          -0.3604477389848422,
          null,
          -0.7141408158048866,
          -0.544098429222963,
          null,
          -0.7191334652812544,
          -0.5101543775580891,
          null,
          -0.7191334652812544,
          -0.883268970399758,
          null,
          -0.5101543775580891,
          -0.544098429222963,
          null,
          0.780031251720393,
          0.5747816059987355,
          null,
          -0.544098429222963,
          -0.4431834195433483,
          null,
          -0.4431834195433483,
          -0.3604477389848422,
          null,
          -0.16133443630230002,
          -0.3604477389848422,
          null
         ],
         "y": [
          0.8860724356263737,
          1,
          null,
          0.8860724356263737,
          0.7810866355099243,
          null,
          -0.6818642616053991,
          -0.5139484156787302,
          null,
          -0.340024683454422,
          -0.5139484156787302,
          null,
          -0.340024683454422,
          -0.4704053235694726,
          null,
          -0.340024683454422,
          -0.08254368833492008,
          null,
          0.11713958771814997,
          -0.08142371513761543,
          null,
          0.11713958771814997,
          0.2633506112420545,
          null,
          -0.5139484156787302,
          -0.5594356492432574,
          null,
          -0.5594356492432574,
          -0.6945252333076984,
          null,
          -0.5594356492432574,
          -0.34249932375860065,
          null,
          -0.5594356492432574,
          -0.7518658231064875,
          null,
          -0.34249932375860065,
          -0.4575814510539101,
          null,
          -0.34249932375860065,
          -0.3090952156165442,
          null,
          -0.34249932375860065,
          -0.08142371513761543,
          null,
          -0.3090952156165442,
          -0.17971972268408618,
          null,
          0.10532991711708299,
          0.031047927131970906,
          null,
          0.6311220575644282,
          0.500342676727724,
          null,
          0.500342676727724,
          0.24364688870501072,
          null,
          0.500342676727724,
          0.617130040621274,
          null,
          0.26367709763843805,
          0.24364688870501072,
          null,
          -0.17067945626732753,
          -0.08254368833492008,
          null,
          -0.17067945626732753,
          -0.23826712605175276,
          null,
          -0.08254368833492008,
          0.24364688870501072,
          null,
          0.031047927131970906,
          -0.08142371513761543,
          null,
          0.24364688870501072,
          0.43393321326779427,
          null,
          0.43393321326779427,
          0.617130040621274,
          null,
          0.7810866355099243,
          0.617130040621274,
          null
         ]
        },
        {
         "hoverinfo": "none",
         "line": {
          "color": "gray",
          "dash": "dash",
          "width": 1
         },
         "mode": "lines",
         "name": "non-paraphrase",
         "showlegend": true,
         "type": "scatter",
         "x": [],
         "y": []
        },
        {
         "hoverinfo": "none",
         "line": {
          "color": "mediumvioletred",
          "dash": "dash",
          "width": 1
         },
         "mode": "lines",
         "name": "conflicted",
         "showlegend": true,
         "type": "scatter",
         "x": [
          0.6395814869298612,
          0.5747816059987355,
          null
         ],
         "y": [
          -0.17971972268408618,
          -0.08142371513761543,
          null
         ]
        },
        {
         "marker": {
          "color": [
           "rgb(171,221,164)",
           "rgb(171,221,164)",
           "rgb(171,221,164)",
           "rgb(171,221,164)",
           "rgb(171,221,164)",
           "rgb(171,221,164)",
           "rgb(171,221,164)",
           "rgb(171,221,164)",
           "rgb(171,221,164)",
           "rgb(171,221,164)",
           "rgb(171,221,164)",
           "rgb(171,221,164)",
           "rgb(171,221,164)",
           "rgb(171,221,164)",
           "rgb(171,221,164)",
           "rgb(171,221,164)",
           "rgb(171,221,164)",
           "rgb(171,221,164)",
           "rgb(171,221,164)",
           "rgb(171,221,164)",
           "rgb(171,221,164)",
           "rgb(171,221,164)",
           "rgb(171,221,164)",
           "rgb(171,221,164)",
           "rgb(171,221,164)",
           "rgb(171,221,164)",
           "rgb(171,221,164)",
           "rgb(171,221,164)"
          ],
          "line": {
           "color": "rgb(50,50,50)",
           "width": 0.5
          },
          "size": 10,
          "symbol": "circle-dot"
         },
         "mode": "markers+text",
         "showlegend": false,
         "text": [
          "A",
          "B",
          "C",
          "D",
          "E",
          "F",
          "G",
          "H",
          "I",
          "J",
          "K",
          "L",
          "M",
          "N",
          "O",
          "P",
          "Q",
          "R",
          "S",
          "T",
          "U",
          "V",
          "W",
          "X",
          "Y",
          "Z"
         ],
         "textposition": "top center",
         "type": "scatter",
         "x": [
          0.04192828579645926,
          -0.10939699011683654,
          -0.31783126517094834,
          0.4923830360069077,
          -0.055618561112007796,
          0.250384510235904,
          0.4552388392908068,
          0.39264464876861155,
          0.6108326300879428,
          0.9435237303710652,
          -0.6774929578639476,
          -0.5440666246677012,
          -0.7141408158048866,
          -0.4213503121095039,
          -0.7191334652812544,
          -0.5101543775580891,
          0.780031251720393,
          -0.883268970399758,
          0.2742899011835061,
          0.4375299912991608,
          -0.544098429222963,
          -0.4431834195433483,
          0.6395814869298612,
          0.39844282675667503,
          0.5747816059987355,
          -0.16133443630230002,
          0.1699256196923591,
          -0.3604477389848422
         ],
         "y": [
          0.8860724356263737,
          -0.6818642616053991,
          -0.340024683454422,
          0.11713958771814997,
          -0.5139484156787302,
          -0.5594356492432574,
          -0.34249932375860065,
          -0.6945252333076984,
          -0.3090952156165442,
          0.10532991711708299,
          0.6311220575644282,
          0.500342676727724,
          0.26367709763843805,
          -0.4704053235694726,
          -0.17067945626732753,
          -0.08254368833492008,
          0.031047927131970906,
          -0.23826712605175276,
          -0.7518658231064875,
          -0.4575814510539101,
          0.24364688870501072,
          0.43393321326779427,
          -0.17971972268408618,
          0.2633506112420545,
          -0.08142371513761543,
          0.7810866355099243,
          1,
          0.617130040621274
         ]
        }
       ],
       "layout": {
        "autosize": false,
        "font": {
         "size": 12
        },
        "height": 600,
        "hovermode": "closest",
        "margin": {
         "b": 20,
         "l": 5,
         "r": 5,
         "t": 40
        },
        "template": {
         "data": {
          "bar": [
           {
            "error_x": {
             "color": "#2a3f5f"
            },
            "error_y": {
             "color": "#2a3f5f"
            },
            "marker": {
             "line": {
              "color": "#E5ECF6",
              "width": 0.5
             }
            },
            "type": "bar"
           }
          ],
          "barpolar": [
           {
            "marker": {
             "line": {
              "color": "#E5ECF6",
              "width": 0.5
             }
            },
            "type": "barpolar"
           }
          ],
          "carpet": [
           {
            "aaxis": {
             "endlinecolor": "#2a3f5f",
             "gridcolor": "white",
             "linecolor": "white",
             "minorgridcolor": "white",
             "startlinecolor": "#2a3f5f"
            },
            "baxis": {
             "endlinecolor": "#2a3f5f",
             "gridcolor": "white",
             "linecolor": "white",
             "minorgridcolor": "white",
             "startlinecolor": "#2a3f5f"
            },
            "type": "carpet"
           }
          ],
          "choropleth": [
           {
            "colorbar": {
             "outlinewidth": 0,
             "ticks": ""
            },
            "type": "choropleth"
           }
          ],
          "contour": [
           {
            "colorbar": {
             "outlinewidth": 0,
             "ticks": ""
            },
            "colorscale": [
             [
              0,
              "#0d0887"
             ],
             [
              0.1111111111111111,
              "#46039f"
             ],
             [
              0.2222222222222222,
              "#7201a8"
             ],
             [
              0.3333333333333333,
              "#9c179e"
             ],
             [
              0.4444444444444444,
              "#bd3786"
             ],
             [
              0.5555555555555556,
              "#d8576b"
             ],
             [
              0.6666666666666666,
              "#ed7953"
             ],
             [
              0.7777777777777778,
              "#fb9f3a"
             ],
             [
              0.8888888888888888,
              "#fdca26"
             ],
             [
              1,
              "#f0f921"
             ]
            ],
            "type": "contour"
           }
          ],
          "contourcarpet": [
           {
            "colorbar": {
             "outlinewidth": 0,
             "ticks": ""
            },
            "type": "contourcarpet"
           }
          ],
          "heatmap": [
           {
            "colorbar": {
             "outlinewidth": 0,
             "ticks": ""
            },
            "colorscale": [
             [
              0,
              "#0d0887"
             ],
             [
              0.1111111111111111,
              "#46039f"
             ],
             [
              0.2222222222222222,
              "#7201a8"
             ],
             [
              0.3333333333333333,
              "#9c179e"
             ],
             [
              0.4444444444444444,
              "#bd3786"
             ],
             [
              0.5555555555555556,
              "#d8576b"
             ],
             [
              0.6666666666666666,
              "#ed7953"
             ],
             [
              0.7777777777777778,
              "#fb9f3a"
             ],
             [
              0.8888888888888888,
              "#fdca26"
             ],
             [
              1,
              "#f0f921"
             ]
            ],
            "type": "heatmap"
           }
          ],
          "heatmapgl": [
           {
            "colorbar": {
             "outlinewidth": 0,
             "ticks": ""
            },
            "colorscale": [
             [
              0,
              "#0d0887"
             ],
             [
              0.1111111111111111,
              "#46039f"
             ],
             [
              0.2222222222222222,
              "#7201a8"
             ],
             [
              0.3333333333333333,
              "#9c179e"
             ],
             [
              0.4444444444444444,
              "#bd3786"
             ],
             [
              0.5555555555555556,
              "#d8576b"
             ],
             [
              0.6666666666666666,
              "#ed7953"
             ],
             [
              0.7777777777777778,
              "#fb9f3a"
             ],
             [
              0.8888888888888888,
              "#fdca26"
             ],
             [
              1,
              "#f0f921"
             ]
            ],
            "type": "heatmapgl"
           }
          ],
          "histogram": [
           {
            "marker": {
             "colorbar": {
              "outlinewidth": 0,
              "ticks": ""
             }
            },
            "type": "histogram"
           }
          ],
          "histogram2d": [
           {
            "colorbar": {
             "outlinewidth": 0,
             "ticks": ""
            },
            "colorscale": [
             [
              0,
              "#0d0887"
             ],
             [
              0.1111111111111111,
              "#46039f"
             ],
             [
              0.2222222222222222,
              "#7201a8"
             ],
             [
              0.3333333333333333,
              "#9c179e"
             ],
             [
              0.4444444444444444,
              "#bd3786"
             ],
             [
              0.5555555555555556,
              "#d8576b"
             ],
             [
              0.6666666666666666,
              "#ed7953"
             ],
             [
              0.7777777777777778,
              "#fb9f3a"
             ],
             [
              0.8888888888888888,
              "#fdca26"
             ],
             [
              1,
              "#f0f921"
             ]
            ],
            "type": "histogram2d"
           }
          ],
          "histogram2dcontour": [
           {
            "colorbar": {
             "outlinewidth": 0,
             "ticks": ""
            },
            "colorscale": [
             [
              0,
              "#0d0887"
             ],
             [
              0.1111111111111111,
              "#46039f"
             ],
             [
              0.2222222222222222,
              "#7201a8"
             ],
             [
              0.3333333333333333,
              "#9c179e"
             ],
             [
              0.4444444444444444,
              "#bd3786"
             ],
             [
              0.5555555555555556,
              "#d8576b"
             ],
             [
              0.6666666666666666,
              "#ed7953"
             ],
             [
              0.7777777777777778,
              "#fb9f3a"
             ],
             [
              0.8888888888888888,
              "#fdca26"
             ],
             [
              1,
              "#f0f921"
             ]
            ],
            "type": "histogram2dcontour"
           }
          ],
          "mesh3d": [
           {
            "colorbar": {
             "outlinewidth": 0,
             "ticks": ""
            },
            "type": "mesh3d"
           }
          ],
          "parcoords": [
           {
            "line": {
             "colorbar": {
              "outlinewidth": 0,
              "ticks": ""
             }
            },
            "type": "parcoords"
           }
          ],
          "pie": [
           {
            "automargin": true,
            "type": "pie"
           }
          ],
          "scatter": [
           {
            "marker": {
             "colorbar": {
              "outlinewidth": 0,
              "ticks": ""
             }
            },
            "type": "scatter"
           }
          ],
          "scatter3d": [
           {
            "line": {
             "colorbar": {
              "outlinewidth": 0,
              "ticks": ""
             }
            },
            "marker": {
             "colorbar": {
              "outlinewidth": 0,
              "ticks": ""
             }
            },
            "type": "scatter3d"
           }
          ],
          "scattercarpet": [
           {
            "marker": {
             "colorbar": {
              "outlinewidth": 0,
              "ticks": ""
             }
            },
            "type": "scattercarpet"
           }
          ],
          "scattergeo": [
           {
            "marker": {
             "colorbar": {
              "outlinewidth": 0,
              "ticks": ""
             }
            },
            "type": "scattergeo"
           }
          ],
          "scattergl": [
           {
            "marker": {
             "colorbar": {
              "outlinewidth": 0,
              "ticks": ""
             }
            },
            "type": "scattergl"
           }
          ],
          "scattermapbox": [
           {
            "marker": {
             "colorbar": {
              "outlinewidth": 0,
              "ticks": ""
             }
            },
            "type": "scattermapbox"
           }
          ],
          "scatterpolar": [
           {
            "marker": {
             "colorbar": {
              "outlinewidth": 0,
              "ticks": ""
             }
            },
            "type": "scatterpolar"
           }
          ],
          "scatterpolargl": [
           {
            "marker": {
             "colorbar": {
              "outlinewidth": 0,
              "ticks": ""
             }
            },
            "type": "scatterpolargl"
           }
          ],
          "scatterternary": [
           {
            "marker": {
             "colorbar": {
              "outlinewidth": 0,
              "ticks": ""
             }
            },
            "type": "scatterternary"
           }
          ],
          "surface": [
           {
            "colorbar": {
             "outlinewidth": 0,
             "ticks": ""
            },
            "colorscale": [
             [
              0,
              "#0d0887"
             ],
             [
              0.1111111111111111,
              "#46039f"
             ],
             [
              0.2222222222222222,
              "#7201a8"
             ],
             [
              0.3333333333333333,
              "#9c179e"
             ],
             [
              0.4444444444444444,
              "#bd3786"
             ],
             [
              0.5555555555555556,
              "#d8576b"
             ],
             [
              0.6666666666666666,
              "#ed7953"
             ],
             [
              0.7777777777777778,
              "#fb9f3a"
             ],
             [
              0.8888888888888888,
              "#fdca26"
             ],
             [
              1,
              "#f0f921"
             ]
            ],
            "type": "surface"
           }
          ],
          "table": [
           {
            "cells": {
             "fill": {
              "color": "#EBF0F8"
             },
             "line": {
              "color": "white"
             }
            },
            "header": {
             "fill": {
              "color": "#C8D4E3"
             },
             "line": {
              "color": "white"
             }
            },
            "type": "table"
           }
          ]
         },
         "layout": {
          "annotationdefaults": {
           "arrowcolor": "#2a3f5f",
           "arrowhead": 0,
           "arrowwidth": 1
          },
          "coloraxis": {
           "colorbar": {
            "outlinewidth": 0,
            "ticks": ""
           }
          },
          "colorscale": {
           "diverging": [
            [
             0,
             "#8e0152"
            ],
            [
             0.1,
             "#c51b7d"
            ],
            [
             0.2,
             "#de77ae"
            ],
            [
             0.3,
             "#f1b6da"
            ],
            [
             0.4,
             "#fde0ef"
            ],
            [
             0.5,
             "#f7f7f7"
            ],
            [
             0.6,
             "#e6f5d0"
            ],
            [
             0.7,
             "#b8e186"
            ],
            [
             0.8,
             "#7fbc41"
            ],
            [
             0.9,
             "#4d9221"
            ],
            [
             1,
             "#276419"
            ]
           ],
           "sequential": [
            [
             0,
             "#0d0887"
            ],
            [
             0.1111111111111111,
             "#46039f"
            ],
            [
             0.2222222222222222,
             "#7201a8"
            ],
            [
             0.3333333333333333,
             "#9c179e"
            ],
            [
             0.4444444444444444,
             "#bd3786"
            ],
            [
             0.5555555555555556,
             "#d8576b"
            ],
            [
             0.6666666666666666,
             "#ed7953"
            ],
            [
             0.7777777777777778,
             "#fb9f3a"
            ],
            [
             0.8888888888888888,
             "#fdca26"
            ],
            [
             1,
             "#f0f921"
            ]
           ],
           "sequentialminus": [
            [
             0,
             "#0d0887"
            ],
            [
             0.1111111111111111,
             "#46039f"
            ],
            [
             0.2222222222222222,
             "#7201a8"
            ],
            [
             0.3333333333333333,
             "#9c179e"
            ],
            [
             0.4444444444444444,
             "#bd3786"
            ],
            [
             0.5555555555555556,
             "#d8576b"
            ],
            [
             0.6666666666666666,
             "#ed7953"
            ],
            [
             0.7777777777777778,
             "#fb9f3a"
            ],
            [
             0.8888888888888888,
             "#fdca26"
            ],
            [
             1,
             "#f0f921"
            ]
           ]
          },
          "colorway": [
           "#636efa",
           "#EF553B",
           "#00cc96",
           "#ab63fa",
           "#FFA15A",
           "#19d3f3",
           "#FF6692",
           "#B6E880",
           "#FF97FF",
           "#FECB52"
          ],
          "font": {
           "color": "#2a3f5f"
          },
          "geo": {
           "bgcolor": "white",
           "lakecolor": "white",
           "landcolor": "#E5ECF6",
           "showlakes": true,
           "showland": true,
           "subunitcolor": "white"
          },
          "hoverlabel": {
           "align": "left"
          },
          "hovermode": "closest",
          "mapbox": {
           "style": "light"
          },
          "paper_bgcolor": "white",
          "plot_bgcolor": "#E5ECF6",
          "polar": {
           "angularaxis": {
            "gridcolor": "white",
            "linecolor": "white",
            "ticks": ""
           },
           "bgcolor": "#E5ECF6",
           "radialaxis": {
            "gridcolor": "white",
            "linecolor": "white",
            "ticks": ""
           }
          },
          "scene": {
           "xaxis": {
            "backgroundcolor": "#E5ECF6",
            "gridcolor": "white",
            "gridwidth": 2,
            "linecolor": "white",
            "showbackground": true,
            "ticks": "",
            "zerolinecolor": "white"
           },
           "yaxis": {
            "backgroundcolor": "#E5ECF6",
            "gridcolor": "white",
            "gridwidth": 2,
            "linecolor": "white",
            "showbackground": true,
            "ticks": "",
            "zerolinecolor": "white"
           },
           "zaxis": {
            "backgroundcolor": "#E5ECF6",
            "gridcolor": "white",
            "gridwidth": 2,
            "linecolor": "white",
            "showbackground": true,
            "ticks": "",
            "zerolinecolor": "white"
           }
          },
          "shapedefaults": {
           "line": {
            "color": "#2a3f5f"
           }
          },
          "ternary": {
           "aaxis": {
            "gridcolor": "white",
            "linecolor": "white",
            "ticks": ""
           },
           "baxis": {
            "gridcolor": "white",
            "linecolor": "white",
            "ticks": ""
           },
           "bgcolor": "#E5ECF6",
           "caxis": {
            "gridcolor": "white",
            "linecolor": "white",
            "ticks": ""
           }
          },
          "title": {
           "x": 0.05
          },
          "xaxis": {
           "automargin": true,
           "gridcolor": "white",
           "linecolor": "white",
           "ticks": "",
           "title": {
            "standoff": 15
           },
           "zerolinecolor": "white",
           "zerolinewidth": 2
          },
          "yaxis": {
           "automargin": true,
           "gridcolor": "white",
           "linecolor": "white",
           "ticks": "",
           "title": {
            "standoff": 15
           },
           "zerolinecolor": "white",
           "zerolinewidth": 2
          }
         }
        },
        "width": 800,
        "xaxis": {
         "showgrid": false,
         "showline": false,
         "showticklabels": false,
         "title": {
          "text": ""
         },
         "zeroline": false
        },
        "yaxis": {
         "showgrid": false,
         "showline": false,
         "showticklabels": false,
         "title": {
          "text": ""
         },
         "zeroline": false
        }
       }
      },
      "text/html": [
       "<div>\n",
       "        \n",
       "        \n",
       "            <div id=\"26a02149-5ded-4a75-93b1-7e40b356d50e\" class=\"plotly-graph-div\" style=\"height:600px; width:800px;\"></div>\n",
       "            <script type=\"text/javascript\">\n",
       "                require([\"plotly\"], function(Plotly) {\n",
       "                    window.PLOTLYENV=window.PLOTLYENV || {};\n",
       "                    \n",
       "                if (document.getElementById(\"26a02149-5ded-4a75-93b1-7e40b356d50e\")) {\n",
       "                    Plotly.newPlot(\n",
       "                        '26a02149-5ded-4a75-93b1-7e40b356d50e',\n",
       "                        [{\"hoverinfo\": \"none\", \"line\": {\"color\": \"gray\", \"width\": 1}, \"mode\": \"lines\", \"name\": \"paraphrase\", \"showlegend\": true, \"type\": \"scatter\", \"x\": [0.04192828579645926, 0.1699256196923591, null, 0.04192828579645926, -0.16133443630230002, null, -0.10939699011683654, -0.055618561112007796, null, -0.31783126517094834, -0.055618561112007796, null, -0.31783126517094834, -0.4213503121095039, null, -0.31783126517094834, -0.5101543775580891, null, 0.4923830360069077, 0.5747816059987355, null, 0.4923830360069077, 0.39844282675667503, null, -0.055618561112007796, 0.250384510235904, null, 0.250384510235904, 0.39264464876861155, null, 0.250384510235904, 0.4552388392908068, null, 0.250384510235904, 0.2742899011835061, null, 0.4552388392908068, 0.4375299912991608, null, 0.4552388392908068, 0.6108326300879428, null, 0.4552388392908068, 0.5747816059987355, null, 0.6108326300879428, 0.6395814869298612, null, 0.9435237303710652, 0.780031251720393, null, -0.6774929578639476, -0.5440666246677012, null, -0.5440666246677012, -0.544098429222963, null, -0.5440666246677012, -0.3604477389848422, null, -0.7141408158048866, -0.544098429222963, null, -0.7191334652812544, -0.5101543775580891, null, -0.7191334652812544, -0.883268970399758, null, -0.5101543775580891, -0.544098429222963, null, 0.780031251720393, 0.5747816059987355, null, -0.544098429222963, -0.4431834195433483, null, -0.4431834195433483, -0.3604477389848422, null, -0.16133443630230002, -0.3604477389848422, null], \"y\": [0.8860724356263737, 1.0, null, 0.8860724356263737, 0.7810866355099243, null, -0.6818642616053991, -0.5139484156787302, null, -0.340024683454422, -0.5139484156787302, null, -0.340024683454422, -0.4704053235694726, null, -0.340024683454422, -0.08254368833492008, null, 0.11713958771814997, -0.08142371513761543, null, 0.11713958771814997, 0.2633506112420545, null, -0.5139484156787302, -0.5594356492432574, null, -0.5594356492432574, -0.6945252333076984, null, -0.5594356492432574, -0.34249932375860065, null, -0.5594356492432574, -0.7518658231064875, null, -0.34249932375860065, -0.4575814510539101, null, -0.34249932375860065, -0.3090952156165442, null, -0.34249932375860065, -0.08142371513761543, null, -0.3090952156165442, -0.17971972268408618, null, 0.10532991711708299, 0.031047927131970906, null, 0.6311220575644282, 0.500342676727724, null, 0.500342676727724, 0.24364688870501072, null, 0.500342676727724, 0.617130040621274, null, 0.26367709763843805, 0.24364688870501072, null, -0.17067945626732753, -0.08254368833492008, null, -0.17067945626732753, -0.23826712605175276, null, -0.08254368833492008, 0.24364688870501072, null, 0.031047927131970906, -0.08142371513761543, null, 0.24364688870501072, 0.43393321326779427, null, 0.43393321326779427, 0.617130040621274, null, 0.7810866355099243, 0.617130040621274, null]}, {\"hoverinfo\": \"none\", \"line\": {\"color\": \"gray\", \"dash\": \"dash\", \"width\": 1}, \"mode\": \"lines\", \"name\": \"non-paraphrase\", \"showlegend\": true, \"type\": \"scatter\", \"x\": [], \"y\": []}, {\"hoverinfo\": \"none\", \"line\": {\"color\": \"mediumvioletred\", \"dash\": \"dash\", \"width\": 1}, \"mode\": \"lines\", \"name\": \"conflicted\", \"showlegend\": true, \"type\": \"scatter\", \"x\": [0.6395814869298612, 0.5747816059987355, null], \"y\": [-0.17971972268408618, -0.08142371513761543, null]}, {\"marker\": {\"color\": [\"rgb(171,221,164)\", \"rgb(171,221,164)\", \"rgb(171,221,164)\", \"rgb(171,221,164)\", \"rgb(171,221,164)\", \"rgb(171,221,164)\", \"rgb(171,221,164)\", \"rgb(171,221,164)\", \"rgb(171,221,164)\", \"rgb(171,221,164)\", \"rgb(171,221,164)\", \"rgb(171,221,164)\", \"rgb(171,221,164)\", \"rgb(171,221,164)\", \"rgb(171,221,164)\", \"rgb(171,221,164)\", \"rgb(171,221,164)\", \"rgb(171,221,164)\", \"rgb(171,221,164)\", \"rgb(171,221,164)\", \"rgb(171,221,164)\", \"rgb(171,221,164)\", \"rgb(171,221,164)\", \"rgb(171,221,164)\", \"rgb(171,221,164)\", \"rgb(171,221,164)\", \"rgb(171,221,164)\", \"rgb(171,221,164)\"], \"line\": {\"color\": \"rgb(50,50,50)\", \"width\": 0.5}, \"size\": 10, \"symbol\": \"circle-dot\"}, \"mode\": \"markers+text\", \"showlegend\": false, \"text\": [\"A\", \"B\", \"C\", \"D\", \"E\", \"F\", \"G\", \"H\", \"I\", \"J\", \"K\", \"L\", \"M\", \"N\", \"O\", \"P\", \"Q\", \"R\", \"S\", \"T\", \"U\", \"V\", \"W\", \"X\", \"Y\", \"Z\"], \"textposition\": \"top center\", \"type\": \"scatter\", \"x\": [0.04192828579645926, -0.10939699011683654, -0.31783126517094834, 0.4923830360069077, -0.055618561112007796, 0.250384510235904, 0.4552388392908068, 0.39264464876861155, 0.6108326300879428, 0.9435237303710652, -0.6774929578639476, -0.5440666246677012, -0.7141408158048866, -0.4213503121095039, -0.7191334652812544, -0.5101543775580891, 0.780031251720393, -0.883268970399758, 0.2742899011835061, 0.4375299912991608, -0.544098429222963, -0.4431834195433483, 0.6395814869298612, 0.39844282675667503, 0.5747816059987355, -0.16133443630230002, 0.1699256196923591, -0.3604477389848422], \"y\": [0.8860724356263737, -0.6818642616053991, -0.340024683454422, 0.11713958771814997, -0.5139484156787302, -0.5594356492432574, -0.34249932375860065, -0.6945252333076984, -0.3090952156165442, 0.10532991711708299, 0.6311220575644282, 0.500342676727724, 0.26367709763843805, -0.4704053235694726, -0.17067945626732753, -0.08254368833492008, 0.031047927131970906, -0.23826712605175276, -0.7518658231064875, -0.4575814510539101, 0.24364688870501072, 0.43393321326779427, -0.17971972268408618, 0.2633506112420545, -0.08142371513761543, 0.7810866355099243, 1.0, 0.617130040621274]}],\n",
       "                        {\"autosize\": false, \"font\": {\"size\": 12}, \"height\": 600, \"hovermode\": \"closest\", \"margin\": {\"b\": 20, \"l\": 5, \"r\": 5, \"t\": 40}, \"template\": {\"data\": {\"bar\": [{\"error_x\": {\"color\": \"#2a3f5f\"}, \"error_y\": {\"color\": \"#2a3f5f\"}, \"marker\": {\"line\": {\"color\": \"#E5ECF6\", \"width\": 0.5}}, \"type\": \"bar\"}], \"barpolar\": [{\"marker\": {\"line\": {\"color\": \"#E5ECF6\", \"width\": 0.5}}, \"type\": \"barpolar\"}], \"carpet\": [{\"aaxis\": {\"endlinecolor\": \"#2a3f5f\", \"gridcolor\": \"white\", \"linecolor\": \"white\", \"minorgridcolor\": \"white\", \"startlinecolor\": \"#2a3f5f\"}, \"baxis\": {\"endlinecolor\": \"#2a3f5f\", \"gridcolor\": \"white\", \"linecolor\": \"white\", \"minorgridcolor\": \"white\", \"startlinecolor\": \"#2a3f5f\"}, \"type\": \"carpet\"}], \"choropleth\": [{\"colorbar\": {\"outlinewidth\": 0, \"ticks\": \"\"}, \"type\": \"choropleth\"}], \"contour\": [{\"colorbar\": {\"outlinewidth\": 0, \"ticks\": \"\"}, \"colorscale\": [[0.0, \"#0d0887\"], [0.1111111111111111, \"#46039f\"], [0.2222222222222222, \"#7201a8\"], [0.3333333333333333, \"#9c179e\"], [0.4444444444444444, \"#bd3786\"], [0.5555555555555556, \"#d8576b\"], [0.6666666666666666, \"#ed7953\"], [0.7777777777777778, \"#fb9f3a\"], [0.8888888888888888, \"#fdca26\"], [1.0, \"#f0f921\"]], \"type\": \"contour\"}], \"contourcarpet\": [{\"colorbar\": {\"outlinewidth\": 0, \"ticks\": \"\"}, \"type\": \"contourcarpet\"}], \"heatmap\": [{\"colorbar\": {\"outlinewidth\": 0, \"ticks\": \"\"}, \"colorscale\": [[0.0, \"#0d0887\"], [0.1111111111111111, \"#46039f\"], [0.2222222222222222, \"#7201a8\"], [0.3333333333333333, \"#9c179e\"], [0.4444444444444444, \"#bd3786\"], [0.5555555555555556, \"#d8576b\"], [0.6666666666666666, \"#ed7953\"], [0.7777777777777778, \"#fb9f3a\"], [0.8888888888888888, \"#fdca26\"], [1.0, \"#f0f921\"]], \"type\": \"heatmap\"}], \"heatmapgl\": [{\"colorbar\": {\"outlinewidth\": 0, \"ticks\": \"\"}, \"colorscale\": [[0.0, \"#0d0887\"], [0.1111111111111111, \"#46039f\"], [0.2222222222222222, \"#7201a8\"], [0.3333333333333333, \"#9c179e\"], [0.4444444444444444, \"#bd3786\"], [0.5555555555555556, \"#d8576b\"], [0.6666666666666666, \"#ed7953\"], [0.7777777777777778, \"#fb9f3a\"], [0.8888888888888888, \"#fdca26\"], [1.0, \"#f0f921\"]], \"type\": \"heatmapgl\"}], \"histogram\": [{\"marker\": {\"colorbar\": {\"outlinewidth\": 0, \"ticks\": \"\"}}, \"type\": \"histogram\"}], \"histogram2d\": [{\"colorbar\": {\"outlinewidth\": 0, \"ticks\": \"\"}, \"colorscale\": [[0.0, \"#0d0887\"], [0.1111111111111111, \"#46039f\"], [0.2222222222222222, \"#7201a8\"], [0.3333333333333333, \"#9c179e\"], [0.4444444444444444, \"#bd3786\"], [0.5555555555555556, \"#d8576b\"], [0.6666666666666666, \"#ed7953\"], [0.7777777777777778, \"#fb9f3a\"], [0.8888888888888888, \"#fdca26\"], [1.0, \"#f0f921\"]], \"type\": \"histogram2d\"}], \"histogram2dcontour\": [{\"colorbar\": {\"outlinewidth\": 0, \"ticks\": \"\"}, \"colorscale\": [[0.0, \"#0d0887\"], [0.1111111111111111, \"#46039f\"], [0.2222222222222222, \"#7201a8\"], [0.3333333333333333, \"#9c179e\"], [0.4444444444444444, \"#bd3786\"], [0.5555555555555556, \"#d8576b\"], [0.6666666666666666, \"#ed7953\"], [0.7777777777777778, \"#fb9f3a\"], [0.8888888888888888, \"#fdca26\"], [1.0, \"#f0f921\"]], \"type\": \"histogram2dcontour\"}], \"mesh3d\": [{\"colorbar\": {\"outlinewidth\": 0, \"ticks\": \"\"}, \"type\": \"mesh3d\"}], \"parcoords\": [{\"line\": {\"colorbar\": {\"outlinewidth\": 0, \"ticks\": \"\"}}, \"type\": \"parcoords\"}], \"pie\": [{\"automargin\": true, \"type\": \"pie\"}], \"scatter\": [{\"marker\": {\"colorbar\": {\"outlinewidth\": 0, \"ticks\": \"\"}}, \"type\": \"scatter\"}], \"scatter3d\": [{\"line\": {\"colorbar\": {\"outlinewidth\": 0, \"ticks\": \"\"}}, \"marker\": {\"colorbar\": {\"outlinewidth\": 0, \"ticks\": \"\"}}, \"type\": \"scatter3d\"}], \"scattercarpet\": [{\"marker\": {\"colorbar\": {\"outlinewidth\": 0, \"ticks\": \"\"}}, \"type\": \"scattercarpet\"}], \"scattergeo\": [{\"marker\": {\"colorbar\": {\"outlinewidth\": 0, \"ticks\": \"\"}}, \"type\": \"scattergeo\"}], \"scattergl\": [{\"marker\": {\"colorbar\": {\"outlinewidth\": 0, \"ticks\": \"\"}}, \"type\": \"scattergl\"}], \"scattermapbox\": [{\"marker\": {\"colorbar\": {\"outlinewidth\": 0, \"ticks\": \"\"}}, \"type\": \"scattermapbox\"}], \"scatterpolar\": [{\"marker\": {\"colorbar\": {\"outlinewidth\": 0, \"ticks\": \"\"}}, \"type\": \"scatterpolar\"}], \"scatterpolargl\": [{\"marker\": {\"colorbar\": {\"outlinewidth\": 0, \"ticks\": \"\"}}, \"type\": \"scatterpolargl\"}], \"scatterternary\": [{\"marker\": {\"colorbar\": {\"outlinewidth\": 0, \"ticks\": \"\"}}, \"type\": \"scatterternary\"}], \"surface\": [{\"colorbar\": {\"outlinewidth\": 0, \"ticks\": \"\"}, \"colorscale\": [[0.0, \"#0d0887\"], [0.1111111111111111, \"#46039f\"], [0.2222222222222222, \"#7201a8\"], [0.3333333333333333, \"#9c179e\"], [0.4444444444444444, \"#bd3786\"], [0.5555555555555556, \"#d8576b\"], [0.6666666666666666, \"#ed7953\"], [0.7777777777777778, \"#fb9f3a\"], [0.8888888888888888, \"#fdca26\"], [1.0, \"#f0f921\"]], \"type\": \"surface\"}], \"table\": [{\"cells\": {\"fill\": {\"color\": \"#EBF0F8\"}, \"line\": {\"color\": \"white\"}}, \"header\": {\"fill\": {\"color\": \"#C8D4E3\"}, \"line\": {\"color\": \"white\"}}, \"type\": \"table\"}]}, \"layout\": {\"annotationdefaults\": {\"arrowcolor\": \"#2a3f5f\", \"arrowhead\": 0, \"arrowwidth\": 1}, \"coloraxis\": {\"colorbar\": {\"outlinewidth\": 0, \"ticks\": \"\"}}, \"colorscale\": {\"diverging\": [[0, \"#8e0152\"], [0.1, \"#c51b7d\"], [0.2, \"#de77ae\"], [0.3, \"#f1b6da\"], [0.4, \"#fde0ef\"], [0.5, \"#f7f7f7\"], [0.6, \"#e6f5d0\"], [0.7, \"#b8e186\"], [0.8, \"#7fbc41\"], [0.9, \"#4d9221\"], [1, \"#276419\"]], \"sequential\": [[0.0, \"#0d0887\"], [0.1111111111111111, \"#46039f\"], [0.2222222222222222, \"#7201a8\"], [0.3333333333333333, \"#9c179e\"], [0.4444444444444444, \"#bd3786\"], [0.5555555555555556, \"#d8576b\"], [0.6666666666666666, \"#ed7953\"], [0.7777777777777778, \"#fb9f3a\"], [0.8888888888888888, \"#fdca26\"], [1.0, \"#f0f921\"]], \"sequentialminus\": [[0.0, \"#0d0887\"], [0.1111111111111111, \"#46039f\"], [0.2222222222222222, \"#7201a8\"], [0.3333333333333333, \"#9c179e\"], [0.4444444444444444, \"#bd3786\"], [0.5555555555555556, \"#d8576b\"], [0.6666666666666666, \"#ed7953\"], [0.7777777777777778, \"#fb9f3a\"], [0.8888888888888888, \"#fdca26\"], [1.0, \"#f0f921\"]]}, \"colorway\": [\"#636efa\", \"#EF553B\", \"#00cc96\", \"#ab63fa\", \"#FFA15A\", \"#19d3f3\", \"#FF6692\", \"#B6E880\", \"#FF97FF\", \"#FECB52\"], \"font\": {\"color\": \"#2a3f5f\"}, \"geo\": {\"bgcolor\": \"white\", \"lakecolor\": \"white\", \"landcolor\": \"#E5ECF6\", \"showlakes\": true, \"showland\": true, \"subunitcolor\": \"white\"}, \"hoverlabel\": {\"align\": \"left\"}, \"hovermode\": \"closest\", \"mapbox\": {\"style\": \"light\"}, \"paper_bgcolor\": \"white\", \"plot_bgcolor\": \"#E5ECF6\", \"polar\": {\"angularaxis\": {\"gridcolor\": \"white\", \"linecolor\": \"white\", \"ticks\": \"\"}, \"bgcolor\": \"#E5ECF6\", \"radialaxis\": {\"gridcolor\": \"white\", \"linecolor\": \"white\", \"ticks\": \"\"}}, \"scene\": {\"xaxis\": {\"backgroundcolor\": \"#E5ECF6\", \"gridcolor\": \"white\", \"gridwidth\": 2, \"linecolor\": \"white\", \"showbackground\": true, \"ticks\": \"\", \"zerolinecolor\": \"white\"}, \"yaxis\": {\"backgroundcolor\": \"#E5ECF6\", \"gridcolor\": \"white\", \"gridwidth\": 2, \"linecolor\": \"white\", \"showbackground\": true, \"ticks\": \"\", \"zerolinecolor\": \"white\"}, \"zaxis\": {\"backgroundcolor\": \"#E5ECF6\", \"gridcolor\": \"white\", \"gridwidth\": 2, \"linecolor\": \"white\", \"showbackground\": true, \"ticks\": \"\", \"zerolinecolor\": \"white\"}}, \"shapedefaults\": {\"line\": {\"color\": \"#2a3f5f\"}}, \"ternary\": {\"aaxis\": {\"gridcolor\": \"white\", \"linecolor\": \"white\", \"ticks\": \"\"}, \"baxis\": {\"gridcolor\": \"white\", \"linecolor\": \"white\", \"ticks\": \"\"}, \"bgcolor\": \"#E5ECF6\", \"caxis\": {\"gridcolor\": \"white\", \"linecolor\": \"white\", \"ticks\": \"\"}}, \"title\": {\"x\": 0.05}, \"xaxis\": {\"automargin\": true, \"gridcolor\": \"white\", \"linecolor\": \"white\", \"ticks\": \"\", \"title\": {\"standoff\": 15}, \"zerolinecolor\": \"white\", \"zerolinewidth\": 2}, \"yaxis\": {\"automargin\": true, \"gridcolor\": \"white\", \"linecolor\": \"white\", \"ticks\": \"\", \"title\": {\"standoff\": 15}, \"zerolinecolor\": \"white\", \"zerolinewidth\": 2}}}, \"width\": 800, \"xaxis\": {\"showgrid\": false, \"showline\": false, \"showticklabels\": false, \"title\": {\"text\": \"\"}, \"zeroline\": false}, \"yaxis\": {\"showgrid\": false, \"showline\": false, \"showticklabels\": false, \"title\": {\"text\": \"\"}, \"zeroline\": false}},\n",
       "                        {\"responsive\": true}\n",
       "                    ).then(function(){\n",
       "                            \n",
       "var gd = document.getElementById('26a02149-5ded-4a75-93b1-7e40b356d50e');\n",
       "var x = new MutationObserver(function (mutations, observer) {{\n",
       "        var display = window.getComputedStyle(gd).display;\n",
       "        if (!display || display === 'none') {{\n",
       "            console.log([gd, 'removed!']);\n",
       "            Plotly.purge(gd);\n",
       "            observer.disconnect();\n",
       "        }}\n",
       "}});\n",
       "\n",
       "// Listen for the removal of the full notebook cells\n",
       "var notebookContainer = gd.closest('#notebook-container');\n",
       "if (notebookContainer) {{\n",
       "    x.observe(notebookContainer, {childList: true});\n",
       "}}\n",
       "\n",
       "// Listen for the clearing of the current output cell\n",
       "var outputEl = gd.closest('.output');\n",
       "if (outputEl) {{\n",
       "    x.observe(outputEl, {childList: true});\n",
       "}}\n",
       "\n",
       "                        })\n",
       "                };\n",
       "                });\n",
       "            </script>\n",
       "        </div>"
      ]
     },
     "metadata": {},
     "output_type": "display_data"
    }
   ],
   "source": [
    "plot(unbalanced_subgraphs[1], mislabeled_pairs[1])"
   ]
  },
  {
   "cell_type": "code",
   "execution_count": null,
   "metadata": {},
   "outputs": [],
   "source": []
  }
 ],
 "metadata": {
  "kernelspec": {
   "display_name": "Python 3",
   "language": "python",
   "name": "python3"
  },
  "language_info": {
   "codemirror_mode": {
    "name": "ipython",
    "version": 3
   },
   "file_extension": ".py",
   "mimetype": "text/x-python",
   "name": "python",
   "nbconvert_exporter": "python",
   "pygments_lexer": "ipython3",
   "version": "3.8.5"
  }
 },
 "nbformat": 4,
 "nbformat_minor": 2
}
